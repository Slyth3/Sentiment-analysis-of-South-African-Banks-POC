{
 "cells": [
  {
   "cell_type": "markdown",
   "metadata": {},
   "source": [
    "## Project: Bank Analysis - Tweets \n",
    "Using Twint to scrape tweets \n",
    "\n",
    "Use beautiful soup to clean tweets with WordPunctTokenizer\n"
   ]
  },
  {
   "cell_type": "markdown",
   "metadata": {},
   "source": [
    "# Quick Twint code\n",
    "Github - https://github.com/twintproject/twint\n",
    "\n",
    "All functions - https://github.com/twintproject/twint/wiki/Configuration\n",
    "### setup \n",
    "c.twint.Config() \n",
    "\n",
    "#### set username\n",
    "c.Username = \"realDonaldTrump\"\n",
    "\n",
    "#### set phrase search\n",
    "c.Search = \"great\"\n",
    "\n",
    "#### customise output\n",
    "c.Custom[\"tweet\"] = [\"id\"]           --- assign column names\n",
    "\n",
    "c.Custom[\"user\"] = [\"bio\"]\n",
    "\n",
    "c.Limit = 1                          ---- limit to batches (unknown size)\n",
    "\n",
    "c.Since = \"2019–04–29\"\n",
    "\n",
    "c.Until = \"2020–04–29\"\n",
    "\n",
    "#### Pandas \n",
    "c.Pandas = True\n",
    "\n",
    "    --------once run save to dataframe\n",
    "    \n",
    "    ---- Tweets \n",
    "    df = twint.storage.panda.Tweets_df\n",
    "    \n",
    "    ---- followers \n",
    "    df = twint.storage.panda.Follow_df\n",
    "    \n",
    "    df = Followers_df['followers'][username]\n",
    "\n",
    "#### Write output \n",
    "c.Store_csv = True\n",
    "\n",
    "c.Output = \"test.csv\"\n",
    "\n",
    "### Execute determines how its run- using setup above\n",
    "twint.run.Search(c)    --- will run search for all tweets with the above\n",
    "\n",
    "twint.run.Profile(c)   ---- will run against profile - return only this profiles tweets\n",
    "\n",
    "twint.run.Followers(c) ---- get follower info \n",
    "\n",
    "\n",
    "config.Since = \"2019–04–29\"\\\n",
    "config.Until = \"2020–04–29\"\\\n",
    "config.Store_json = True\n"
   ]
  },
  {
   "cell_type": "code",
   "execution_count": 1,
   "metadata": {},
   "outputs": [],
   "source": [
    "import twint\n",
    "import pandas as pd\n",
    "import nest_asyncio\n",
    "nest_asyncio.apply()            #for compatibility issues \n",
    "import matplotlib.pyplot as plt\n",
    "import matplotlib.dates as mdates\n",
    "import numpy as np\n",
    "import datetime as dt\n",
    "import seaborn as sns"
   ]
  },
  {
   "cell_type": "markdown",
   "metadata": {},
   "source": [
    "### Configure and run Twint (twitter scrapper)"
   ]
  },
  {
   "cell_type": "code",
   "execution_count": 171,
   "metadata": {},
   "outputs": [],
   "source": [
    "twintconfig = twint.Config()\n",
    "\n",
    "\n",
    "bankString = \"@StandardBankZA OR \\\"Standard Bank\\\"\"\n",
    "\n",
    "twintconfig.Search = bankString\n",
    "twintconfig.Pandas_clean = True\n",
    "\n",
    "## timeframe\n",
    "twintconfig.Since = \"2021-05-27\"\n",
    "twintconfig.Until = \"2021-05-30\"\n",
    "\n",
    "twintconfig.Pandas = True\n",
    "twintconfig.Pandas_clean= True\n",
    "\n",
    "twintconfig.lang = \"en\"\n"
   ]
  },
  {
   "cell_type": "code",
   "execution_count": 85,
   "metadata": {},
   "outputs": [
    {
     "name": "stdout",
     "output_type": "stream",
     "text": [
      "1398788049526530054 2021-05-30 01:47:13 +0200 <StandardBankZA> @Makhuele Good day  Kindly note you will need to visit a Standard Bank branch in order to open the account.\n",
      "1398784480148705288 2021-05-30 01:33:02 +0200 <moses57347335> @StandardBankZA @SerengetiEST We as Ugandans have not benefited in your out money plz stop and don’t finance the pipeline 🙏\n",
      "1398783943529439239 2021-05-30 01:30:54 +0200 <moses57347335> @StandardBankZA @SerengetiEST Don’t finance uganda pipeline please Uganda is bleeding\n",
      "1398768292601401344 2021-05-30 00:28:43 +0200 <CoinDCX> @shivam_s15 Hi Shivam, You can deposit via our website  https://t.co/vzS4fYUcKk and use Standard Bank Deposit option. There are no charges but it can take upto 72 hours\n",
      "1398767036629766146 2021-05-30 00:23:44 +0200 <RasheedAgbaje2> @StandardBankZA Yes beautiful i love it...\n",
      "1398766545493442560 2021-05-30 00:21:46 +0200 <davis_biggy> @StandardBankZA @SerengetiEST  https://t.co/3vEZ5xLkPC\n",
      "1398765862304337929 2021-05-30 00:19:04 +0200 <davis_biggy> @StandardBankZA @SerengetiEST Uganda is bleeding\n",
      "1398764608337420290 2021-05-30 00:14:05 +0200 <Blackki27174149> @StandardBankZA .. I hope this good bank does not associate itself with genocide in Uganda.. Ugandans want the dictator out of their country and by providing money for the pipeline means u don’t care about innocent lives of Ugandans..\n",
      "1398756482233950210 2021-05-29 23:41:47 +0200 <FredricksMicha1> @StandardBankZA\n",
      "1398754787374637060 2021-05-29 23:35:03 +0200 <memelalolo> @StandardBankZA today the whole day, literally the whole bloody day! I have been struggling 2 pay \"my bills\"online! A simple DSTV payment! It keeps giving an error! I mean what the hell??!! No! I'm literally considering the offer @Investec is giving me &amp; just switch banks!!\n",
      "1398754683280408579 2021-05-29 23:34:38 +0200 <Kutlwi_F> @Mogomotsii_ Standard bank, why ?\n",
      "1398753463266328579 2021-05-29 23:29:47 +0200 <_mastubo> @StandardBankZA Hi standard bank. Is SAB Zenzele kabili shares listed on your online trading platform?\n",
      "1398753409923223555 2021-05-29 23:29:35 +0200 <memelalolo> I'm not even understanding the role of my private banker at this point👎 Thursday &amp; Yesterday I have been struggling 2 register online share trading, till now I haven't registered. All my banker could do is to give me a number 2 call, that is not even working 😠@StandardBankZA\n",
      "1398751698802335747 2021-05-29 23:22:47 +0200 <memelalolo> The way I love standard bank and have always been loyal and defended it at all costs! BUT WOW LATELY I'M DISAPPOINTED LITERALLY EVERYDAY WITH THEIR ONLINE BANKING! I HAVE NEVER SEEN SUCH INCONVENIENCE &amp; INCOMPETENCE! @StandardBankZA\n",
      "1398750643670732800 2021-05-29 23:18:35 +0200 <mpho_nakana25> @FeudAfrica @IAmSteveHarvey @StandardBankZA Kind request to upload at least one full show at the same time on YouTube. Thanks 😩\n",
      "1398750321070034944 2021-05-29 23:17:18 +0200 <CoinDCX> @r_junnarkar Hi Dhaval, You can deposit via our website  https://t.co/vzS4fYUcKk and use Standard Bank Deposit option. There are no charges but it can take upto 72 hours.\n",
      "1398748288061382656 2021-05-29 23:09:14 +0200 <GTAOLOVER> 【GTAO】パシフィック銀行強盗準備「信号」ヘリ乗って直接アヴィ救出最速クリアコンビネーション Pacific Standard Bank - Signal Fastest Setup 【PS4】  https://t.co/3baktTHqCw #GTA5\n",
      "1398742852729925633 2021-05-29 22:47:38 +0200 <Junior08790429> How by hacking and running to finance sectors? They all can't this ain't qbs school stupid shits from standard bank Paul chan mo-po is super super super stupid. Who the f*ck are chans?\n",
      "1398733099610017793 2021-05-29 22:08:52 +0200 <HassanKigozi7> @StandardBankZA  https://t.co/nyUO0ijF7p\n",
      "1398731797194752001 2021-05-29 22:03:42 +0200 <Bhekala1> Manager - Standard Bank - Gauteng  https://t.co/3aU6X7bIch #joblinks #findwork\n",
      "1398728794010173440 2021-05-29 21:51:46 +0200 <Makhuele> @StandardBankZA can I apply for a sum 1 account online for my kid?\n",
      "1398727839764131845 2021-05-29 21:47:58 +0200 <alambatwa01> @StandardBankZA #BecauseUCount  https://t.co/4JwSiJMDg4\n",
      "1398724110771965952 2021-05-29 21:33:09 +0200 <JanaDerksen> Standard Bank accelerates new era changes at board level  https://t.co/eTo0k5pAgT\n",
      "1398724068136914950 2021-05-29 21:32:59 +0200 <masrich4> @StandardBankZA #stopOilpipeLineInUganda #UgandansLivesMatter  #UgandaIsBleeding  #UgandaIsBleedingSilently  #MuseveniStopSilentGenocideInUganda  #museveniFreeOurPeople #MuseveniLostElections\n",
      "1398716371312201730 2021-05-29 21:02:24 +0200 <4Blastique> Standard bank\n",
      "1398715205224443906 2021-05-29 20:57:46 +0200 <JonLukeL> #Ucount Dis-Chem voucher not working, every time I try to select my reward I get a \"Voucher not created\" error. @StandardBankZA please fix this issue!\n",
      "1398714375536627717 2021-05-29 20:54:28 +0200 <Isikhulu> @StandardBankZA Isn’t it amazing that even having a “private banker” they do not even respond or communicate with their clients anymore??\n",
      "1398710930368876544 2021-05-29 20:40:47 +0200 <TUKS507> @Phislash On the other side @StandardBankZA branches are been closed and ATM as well 😢\n",
      "1398710496333795332 2021-05-29 20:39:03 +0200 <QinisoTMagubane> @StandardBankZA Aningiqasha phela bangani bami sengikhathele ukudliwa uBetway noHollywood😩\n",
      "1398709532369489923 2021-05-29 20:35:13 +0200 <princepapa1> Environmental activists call on Standard Bank to clean up their fossil fuels act. #stopEACOP #RefuellingAfrica  https://t.co/iinKrOPR1c\n",
      "1398707754743762953 2021-05-29 20:28:10 +0200 <mba_lee20> @ma_ntsoko @StandardBankZA I'm about to lose my shit\n",
      "1398707253692321792 2021-05-29 20:26:10 +0200 <ma_ntsoko> @mba_lee20 @StandardBankZA I see a lot of people on the TL complaining about their online experience.  That’s disappointing yaz\n",
      "1398707144229330949 2021-05-29 20:25:44 +0200 <NonjabuloMkhize> @mba_lee20 @StandardBankZA Yey Standard bank help her yini ngani?  https://t.co/5VCu05Pc0K\n",
      "1398706130373783555 2021-05-29 20:21:42 +0200 <Isikhulu> @StandardBankZA Standard Bank are unethical and devious!! I will never trust you anymore!! @carteblanchetv @Devi_HQ @SAReserveBank Time for investigations @RSASIU\n",
      "1398705638658674689 2021-05-29 20:19:45 +0200 <mba_lee20> @StandardBankZA is the most the worst bank. Im honestly done.\n",
      "1398703465803698177 2021-05-29 20:11:07 +0200 <SABreweries> @ka_madesi @StandardBankZA Hi @ka_madesi. Kindly visit  https://t.co/Rnr0JDbXlw for more information on how you can be part of the scheme.\n",
      "1398700780035706885 2021-05-29 20:00:27 +0200 <ecr9495> In the spirit of being NO.1, we've been nominated for the Standard Bank Group KZN Top Business Brand Award🥇   Here's how you can vote🗳️  Thank you for all the love and support🙏🏼  For more info, visit  https://t.co/IF5Djan2Cr! #KZNTopBrand  https://t.co/Q7BkZU6aOV\n",
      "1398700715082670080 2021-05-29 20:00:11 +0200 <ola_supports> @sud246 Hi, we appreciate your patience. We have processed the credit and the same will reflect in your account within 07-10 working days as per standard bank procedure. We strive to serve you better.  https://t.co/6DHSELSc7K\n",
      "1398698551576825866 2021-05-29 19:51:35 +0200 <tomharvey41> Vintage The Standard Bank Of South Africa Partially used Cheque Book. Songea, Tanganyika  https://t.co/DAIsit0lRp\n",
      "1398697399812509697 2021-05-29 19:47:01 +0200 <masrich4> @StandardBankZA  #StopOliPipeLineInUganda #UgandaIsBleeding  #MuseveniStopSilentGenocideInUganda  #UgandaIsBleedingSilently  #UgandansLivesMatter  #MuseveniLostElections .\n",
      "1398697132908023809 2021-05-29 19:45:57 +0200 <Mashika_Shika> Last throw of the dice 😁 @Caltexsa @CheckersSA @StandardBankZA @FreshstopSA #StartAtCaltex #CaltexHavoline #Ucount  https://t.co/DDJ5JPkt2a\n",
      "1398697008001585155 2021-05-29 19:45:27 +0200 <sometimesnike> Finally got my money back from the IG boutique that scammed me via standard bank dispute resolution 💀\n",
      "1398696565439614976 2021-05-29 19:43:42 +0200 <masrich4> @StandardBankZA  #stopPipeLineInUganda #UgandaIsBleedingSilently  #UgandansLivesMatter  #MuseveniStopSilentGenocideInUganda  #MuseveniLostElections  #MuseveniMustGo\n",
      "1398694101646725121 2021-05-29 19:33:54 +0200 <KCMokoma> @mareledes Visit S&amp;P 500 and find registered or accredited brokers. Standard Bank South Africa has offshore share trading platform. Locally, Stanlib Lesotho offers Basotho international exposure including US markets. There are many registered EFTs in SA that offer offshore exposures\n",
      "1398690800976924675 2021-05-29 19:20:48 +0200 <PhumzaMbali> @StandardBankZA #BecauseUCount  https://t.co/uMPJboYVg5\n",
      "1398681093956571143 2021-05-29 18:42:13 +0200 <NabunjoRuth> @JjukoPrince @StandardBankZA money given to m7n is used for arms and killing ugandans\n",
      "1398679361402937347 2021-05-29 18:35:20 +0200 <starsm1006> @StandardBankZA #ItCanBe\n",
      "1398678957487185923 2021-05-29 18:33:44 +0200 <KOmukonzo> .@StandardBankZA financing a new oil pipeline in the midst of a #climateemergency is grossly irresponsible. Don't finance the East African Crude Oil Pipeline. Promote investment in clean energy for East Africa instead! #StopEACOP\n",
      "1398673204995145728 2021-05-29 18:10:52 +0200 <JordCrews> Town looks like a standard bank holiday. Wouldn’t be able to move if the reds were in a CL final\n",
      "1398671514686394376 2021-05-29 18:04:09 +0200 <ka_madesi> @SABreweries Can’t find the shares on @StandardBankZA share trading account 😒\n",
      "1398667974685429760 2021-05-29 17:50:05 +0200 <nkosazanmvelase> @CityofJoburgZA I have an account and would like to know how do I pay, 0because I struggled online for Standard Bank, I can't use easy pay and post office is only open during the week.\n",
      "1398667932960501762 2021-05-29 17:49:55 +0200 <Jakeoptomus1> @anndylian @ZilliqaFan $hbar @hedera solving all DLT problems security governance speed and cost , big players on the council like google ibm lg standard bank chainlink labs . Use cases continue to grow everyday. Abft compliant. @leemonbaird Is wholesome and brilliant.  https://t.co/Nkqtm5Y76i\n",
      "1398665155697860615 2021-05-29 17:38:53 +0200 <time_lez> @FeudAfrica @precious_pulley @IAmSteveHarvey @StandardBankZA #FamilyFeudAfrica #FamilyFeudSA  @IAmSteveHarvey  #KFCSA #frythefeud  @StandardBankZA  #ItCanBe #PureSave #etvonline #RapidBluetv\n",
      "1398665004157636610 2021-05-29 17:38:17 +0200 <time_lez> @FeudAfrica @precious_pulley @IAmSteveHarvey @StandardBankZA #FamilyFeudAfrica #FamilyFeudSA  @IAmSteveHarvey  #KFCSA #frythefeud  @StandardBankZA  #ItCanBe #PureSave #etvonline #RapidBluetv oh yeh!\n",
      "1398662335397519364 2021-05-29 17:27:41 +0200 <SPIKIRIZTIXY> @StandardBankZA #becuseUcount  https://t.co/bskVkmCAo5\n",
      "1398662008027987975 2021-05-29 17:26:23 +0200 <SPIKIRIZTIXY> @StandardBankZA #becauseUcount  https://t.co/47hw6JA1h1\n",
      "1398656850590044160 2021-05-29 17:05:53 +0200 <Abdy1Kagame> @mayanjafazil hello brother Fazil Asalaam Aleikum Warahmatulahi Wabarakatu. Bro about the issue of standard bank za, can we try and contact  Mr. Julius Malema to help us and fight that bank coz his an opposition supporter who supports NUP and HE. Robert Kyagulanyi?\n",
      "1398651388343865344 2021-05-29 16:44:11 +0200 <GringoJimi> Standard bank holiday.  https://t.co/PInyCeacpx\n",
      "1398650253478449155 2021-05-29 16:39:40 +0200 <malusicmsomi> @StandardBankZA has the best sanitizers at their ATM’s!!!!!!!!!  https://t.co/616jNtoRMp\n",
      "1398647108484452353 2021-05-29 16:27:10 +0200 <JovenObispo> Environment and wildlife too have been compromised. If #EACOP is pro people why is it claiming their lives and property? @Total @Hermes_Paris @Amundi_FR @CreditAgricole @blackrock @BNPParibas @thomasbuberl @SoubranneC @FedsHermesIntl @StandardBankZA #StopEACOP #NoGasMoz\n"
     ]
    },
    {
     "name": "stdout",
     "output_type": "stream",
     "text": [
      "1398638316560519170 2021-05-29 15:52:14 +0200 <Bizaro_Bilasky> @StandardBankZA The is No Option for Dstv payment\n",
      "1398636431216713739 2021-05-29 15:44:45 +0200 <CIPEAfrica> New projects @AfCFTA secretariat is working on: -a digital platform to help SMEs access new markets -a trade finance policy with @StandardBankZA to help SMEs trade -a pan-African payments &amp; settlement platform with @afreximbank  -digitise customs functions  https://t.co/LagmxPYvo7\n",
      "1398634235653726208 2021-05-29 15:36:01 +0200 <Bizaro_Bilasky> @StandardBankZA I want to pay my Dstv acc via this App\n",
      "1398633767946784771 2021-05-29 15:34:10 +0200 <lilimobeth> @lukben01 @DorcasDee18 @StandardBankZA Right!\n",
      "1398633699932049408 2021-05-29 15:33:54 +0200 <batsman87> @StandardBankZA Elite\n",
      "1398630451770691586 2021-05-29 15:20:59 +0200 <JjukoPrince> @StandardBankZA Uganda is bleeding stop funding dictator museveni he is not the president of Uganda we voted kyangulanyi ssentamu Robert not dictator museveni  https://t.co/Bl6TJpbyEy\n",
      "1398630050937856005 2021-05-29 15:19:24 +0200 <batsman87> @StandardBankZA Showing the wrong balance amd not showing recent transactions.\n",
      "1398629930355863555 2021-05-29 15:18:55 +0200 <UgandaMatayonc> @StandardBankZA Its doesn't matter to Ugandans because the dictator museveni is eliminating some ethnic groups in Uganda because they are more intelligent and patriotic than him a despot killer  https://t.co/RQC7THiTZ9\n",
      "1398629013472546827 2021-05-29 15:15:16 +0200 <UgandaMatayonc> @sbproamseries1 @StandardBankZA @SerengetiEST @JennyHavengaLD @cloud9golf @SouthafricaWpga @IOLsport @SuperSportTV @WannaBeAChamp @Sport24news @richardmaspero @cloud9golfgina Dealing with Museveni a despot dictator is a crime against humanity.  https://t.co/v4Ukuto2T1\n",
      "1398628807200972802 2021-05-29 15:14:27 +0200 <UgandaMatayonc> @sbproamseries1 @StandardBankZA @SerengetiEST @JennyHavengaLD @cloud9golf @SouthafricaWpga @IOLsport @SuperSportTV @WannaBeAChamp @Sport24news @richardmaspero @cloud9golfgina We aren't having fun in Uganda and anyone dealing with Museveni who is murdering Ugandans because of his selfishness and greed. We are tired Museveni does not serve Ugandans but serves his interests and families this is why he kills citizens like cockroaches . Its horrible here  https://t.co/AUKerCHdIs\n",
      "1398628519626870784 2021-05-29 15:13:18 +0200 <Zwaii_ME> @StandardBankZA #BecauseUCount  https://t.co/KU3qIaBZ6h\n",
      "1398626968288047104 2021-05-29 15:07:09 +0200 <batsman87> @StandardBankZA what's wrong with your app?\n",
      "1398625759921594370 2021-05-29 15:02:21 +0200 <Makhubele_Lib> @StandardBankZA ATMs and eating card. 😤 That's my third card in their machines. 🤬  https://t.co/eUFGwS4LWq\n",
      "1398625179165761537 2021-05-29 15:00:02 +0200 <MrRedFlag> Standard bank nearly ruined my #ChampionsLeagueFinal day 🤦🏽‍♂️\n",
      "1398624671780806656 2021-05-29 14:58:01 +0200 <MrRedFlag> Yo ma se poes!! 🖕 @StandardBankZA\n",
      "1398623317750321152 2021-05-29 14:52:38 +0200 <keithievilani> @Mjovid_19 I get that broe but Capitec allows users to withdraw even at FNB, Nedbank, Standard Bank ATMs and many others.\n",
      "1398622396651872257 2021-05-29 14:48:59 +0200 <siskb> @CityofJoburgZA hi I want to pay my utility bill via app, are you under bank approved company on standard bank app?\n",
      "1398613441775083525 2021-05-29 14:13:24 +0200 <me_rego> @tshoki_daLAZY @AbsaSouthAfrica 🙆🏽‍♂️🙆🏽‍♂️🙆🏽‍♂️🙆🏽‍♂️ @StandardBankZA communicate shame, most of my problems wrt bank are solved through dm’s\n",
      "1398612017171337221 2021-05-29 14:07:44 +0200 <blue_radebe> @StandardBankZA A2 and D4: Tiger Wheel and Tyre  https://t.co/8uuDhU7xbk\n",
      "1398610531884449794 2021-05-29 14:01:50 +0200 <li_elixir_9kay> @Afributter @Me4oPresident He standard bank employee who stole a phone from me in Langaville would not park his car outside for me to see.\n",
      "1398610281589260292 2021-05-29 14:00:50 +0200 <KingsmeadBF> Money may not unlock happiness but getting on top of your finances leaves more room to focus on things that do bring you joy. Next up: @StandardBankZA-facilitated conversation with @lisalinfield1, @KimPotgieterM3 and @nicharry on the secrets to lifelong #financialsuccess #KBF21  https://t.co/a6BouPGJZF\n",
      "1398610069856657410 2021-05-29 14:00:00 +0200 <ecr9495> In the spirit of being NO.1, we've been nominated for the Standard Bank Group KZN Top Business Brand Award. 🙏🏽⠀ Here's how you can vote if you'd like to get involved🗳️⠀ SMS charged at R1,50 per SMS📱⠀ ⠀ #KZNTopBrand #KZNsNO1  https://t.co/LtxYWcFlIT\n",
      "1398607726100434946 2021-05-29 13:50:41 +0200 <JaclynWds> @StandardBankZA Still no contact from your team. When will someone reach out to me? You said it would be yesterday.\n",
      "1398607404481253380 2021-05-29 13:49:24 +0200 <Teekay47292697> @Betway_za My standard bank instant money voucher was sent without a cash collection pin and today is the second day of me enquiring about it but I'm still not getting any help💔😪\n",
      "1398605759030738946 2021-05-29 13:42:52 +0200 <ampvick> @LuoshengPeng maybe it is time to look to the future.  $hbar  Backed by @Google @IBM @Boeing @chainlink @AveryDennison @Telekom_group @edfenergy @eftposAust @FISGlobal @LGUS @Nomura @StandardBankZA @ucl @Wipro @zain  https://t.co/h6rWCJZB8P\n",
      "1398604889870290944 2021-05-29 13:39:25 +0200 <vmessa786> I think Nedbank, FNB, Standard Bank and ABSA are in GROOT Kak .   Yesterday I tried to draw money at all their ATM's, and I got the same message  \"Insufficient Funds\"\n",
      "1398603997632663553 2021-05-29 13:35:52 +0200 <Nancy_Racks> @SBGroup I was called by someone who said he works at standard bank and I want me to confirm my details, but when I ask what's in connection with, he said he can't tell me until I confirm my details. Please assist is these how your consultant do?\n",
      "1398599359747575812 2021-05-29 13:17:26 +0200 <NeoMogomana> @JustFoza I thought le sogela standard bank 🙄  https://t.co/h8kUGrQwJZ\n",
      "1398597810094698497 2021-05-29 13:11:17 +0200 <capcorrales> @Xpoolofficial It is more likely to say this #Xpool would redefine or perhaps be recognized as a coming model bank, a cult product on the LaunchZone ecosystem, with all of the functions associated with a standard bank but much greater income for buyers. #launchzone\n",
      "1398597305972842497 2021-05-29 13:09:17 +0200 <GTAOLOVER> 【GTAO】パシフィック銀行強盗準備「信号」で死にかけたけど助かったクリスマスの奇跡 Pacific Standard Bank Heist - Signal Setup 【PS4】  https://t.co/9JSv7gpLgp #GTA5\n",
      "1398596775263588357 2021-05-29 13:07:10 +0200 <SeniorCouncilM1> @StandardBankZA how does it take for SB to communicate it's decision regarding a bond application\n",
      "1398593165721063424 2021-05-29 12:52:49 +0200 <bonisiwe_kunene> @StandardBankZA #becauseUCount  https://t.co/qVnYfpjxxl\n",
      "1398592872568479744 2021-05-29 12:51:40 +0200 <bonisiwe_kunene> @StandardBankZA #becauseUCount  https://t.co/FZJglsNLrd\n",
      "1398592849919238149 2021-05-29 12:51:34 +0200 <Sir_Sisko> @StandardBankZA check DM\n",
      "1398586758095323137 2021-05-29 12:27:22 +0200 <HamisMusomesa> @Kharym1 @Total @StandardBankZA # in addition to all the dangers of EACOP mentioned, the income from it will be used to buy more guns, build more torture chambers and drones .\n",
      "1398582163906482177 2021-05-29 12:09:06 +0200 <Nartee_Dash> @StandardBankZA My cash just retracted at an ATM, how do I get it back?\n",
      "1398581372659306497 2021-05-29 12:05:58 +0200 <CloeteFrancois> @StandardBankZA I doubt it is a good idea to share my banking details online?  Why not ask your Internet banking team why you baking is wonky and not working as it is supposed to?\n",
      "1398581202316152835 2021-05-29 12:05:17 +0200 <Starburstbubble> @StandardBankZA Well, is the atm fixed?? Am I supposed to go 10km out of my way to make a payment? Can’t even call and ask because there’s no branch contact. Have to talk to call centre who have no idea what’s going on. Pathetic\n",
      "1398579921123954689 2021-05-29 12:00:12 +0200 <valorinveste> #Live - Nesta segunda-feira (31), às 8h30, Natália Dias, do Standard Bank Brasil, e Alexandre Espirito Santo, da @oramainvest falam com @sfgustavo sobre o risco fiscal trazido pela possível volta do auxílio emergencial e as eleições se aproximando  https://t.co/VBMxzoZTDJ\n",
      "1398577302389329925 2021-05-29 11:49:47 +0200 <CloeteFrancois> @StandardBankZA No trying to transact on Internet banking and wanting to access the TaxFree Investment account - not the savings account…..It is gone….Missing in Action….\n"
     ]
    },
    {
     "name": "stdout",
     "output_type": "stream",
     "text": [
      "1398575057660678147 2021-05-29 11:40:52 +0200 <_LungaNgcobo> @balungile_s @MoStrong_ @thulasindi Phased out? Standard bank still offers hey\n",
      "1398574265637683201 2021-05-29 11:37:43 +0200 <phatQuen> @StandardBankZA #BeacouseUCount  https://t.co/qHrKbQRQzw\n",
      "1398573956806987779 2021-05-29 11:36:30 +0200 <Glamology_ZA> @busiswastemele Hi sisi, I have FNB, Standard Bank and Nedbank. I can provide details depending on your bank. If you use none of these. I will provide my FNB acc details\n",
      "1398573882295173129 2021-05-29 11:36:12 +0200 <Dr_Uncle_> How’s Standard Bank’s online banking experience?\n",
      "1398573729903517700 2021-05-29 11:35:36 +0200 <Man0fColour> @StandardBankZA @StandardBankZA #BecauseUCount @StandardBankZA  https://t.co/FJN14r5oDW\n",
      "1398571959881961474 2021-05-29 11:28:34 +0200 <soso_gcelu> @StandardBankZA #BecauseUCount  https://t.co/GGCdqFDkDs\n",
      "1398570558711808002 2021-05-29 11:23:00 +0200 <MoushZN> @StandardBankZA #BecauseUCount  https://t.co/SsFZQhUKXB\n",
      "1398569947283005441 2021-05-29 11:20:34 +0200 <CapricornFM> Are you in your final year of studying or just kicked off your career? Let us know here;  https://t.co/z9efc4U04g @StandardBankZA could help you make real influence on your career with R5k. Sign up for a Professional Banking Account &amp; you could win R50k #ItCanBe. Ts &amp; Cs apply  https://t.co/aqEbEf0KKm\n",
      "1398569018236284928 2021-05-29 11:16:52 +0200 <rose__818> @StandardBankZA #BecauseUCount  https://t.co/Wc5EsuaWg1\n",
      "1398568706863775746 2021-05-29 11:15:38 +0200 <bboy_zoid> @Lungah__ He funded a stock trading program for wits students at standard bank ...   Their now all experts at selling us down the river I think. Thuma mina unbundling\n",
      "1398565100580225029 2021-05-29 11:01:18 +0200 <noziphomash> @Lindo_ntusi Colgate Capitec 💔 Standard Bank 💔\n",
      "1398563086068600833 2021-05-29 10:53:18 +0200 <CloeteFrancois> @StandardBankZA and again your Tax Free share section on internet banking is MIA #Useless #StandardWanknotbank\n",
      "1398561751570997250 2021-05-29 10:48:00 +0200 <IAmLuyandaGcawu> @StandardBankZA Did that twice\n",
      "1398559556641329153 2021-05-29 10:39:16 +0200 <GTAOLOVER> 【GTAO】パシフィック銀行強盗準備「バイク」 ロストMCクラブハウスの敵をフルボッコ撃破（リスタ後対応） Pacific Standard Bank Heist - Bikes Setup【PS4】  https://t.co/xo08WW12fb #GTA5\n",
      "1398559303972368384 2021-05-29 10:38:16 +0200 <IAmLuyandaGcawu> @StandardBankZA No I try signing in then the app just takes me back to the home page\n",
      "1398557729719930883 2021-05-29 10:32:01 +0200 <IAmLuyandaGcawu> @StandardBankZA I can't log in my app\n",
      "1398555572119609347 2021-05-29 10:23:26 +0200 <Dina92814137> @StandardBankZA @SerengetiEST @standaardBankZA stop financing the EACOP in @Uganda we are not safe  https://t.co/pqOImzLL8B\n",
      "1398555521133785090 2021-05-29 10:23:14 +0200 <IAmLuyandaGcawu> Is standard bank app down nah?? #StandardBank @StandardBankZA\n",
      "1398554172048433154 2021-05-29 10:17:53 +0200 <Starburstbubble> @StandardBankZA Yes, you guys keep raising the issue, while wasting client’s time because we all have so much of it to waste. This is an every week issue. Either upgrade the atm’s or lower the kB branch deposit fees. Because this is ridiculous #patheticservice #itcantbe #notsimplerbetterorfaster\n",
      "1398549164485758979 2021-05-29 09:57:59 +0200 <777_deluxe> @StandardBankZA I did that just now and it worked , thank you 😊  but I didn't know i must reboot 😅 my phone to keep app working\n",
      "1398548230242242560 2021-05-29 09:54:16 +0200 <Mbalie_LadyM> @hellopetercom @hellopetercom  please assist. Customer has positive balance with @StandardBankZA and they are refusing to give her money and they ask her for proof of payment which she has deleted months ago. I am disgusted with their service\n",
      "1398547395596718084 2021-05-29 09:50:57 +0200 <Mbalie_LadyM> @StandardBankZA absolutely disgusted by your services. The VAF account is on positive, you want proof of payment to give the customer their money? For what exactly? My family will be closing all their accounts and we will not refinance with STD BANK\n",
      "1398545359769505798 2021-05-29 09:42:52 +0200 <lukben01> @lilimobeth @DorcasDee18 @StandardBankZA Supporting the Dictator is increasing the suffering of innocent UGANDANS  https://t.co/gyUJc1fK4c\n",
      "1398543576712241152 2021-05-29 09:35:47 +0200 <Hm9Safe> @FeudAfrica @IAmSteveHarvey @StandardBankZA We on\n",
      "1398542196048117761 2021-05-29 09:30:17 +0200 <PiaPuliya> @VogelJoel3 @Katende39172342 @StandardBankZA @SerengetiEST #museveni free all political prisoners country wide in uganda 🇺🇬\n",
      "1398540877006573573 2021-05-29 09:25:03 +0200 <Starburstbubble> @StandardBankZA once again Norwood mall ATM’s aren’t working. Shame on you for forcing clients to use the ATM but how. since they’re never online. You don’t take service seriously. Pathetic for a bank who thinks they’re helping. What a waste #itcantbe should be the new slogan\n",
      "1398537675087486977 2021-05-29 09:12:19 +0200 <vsinare_ck> I don't see myself goin' to @StandardBankZA  for household insurance\n",
      "1398536842279108610 2021-05-29 09:09:01 +0200 <time_lez> @StandardBankZA #BecauseUCount @x-Kids @xtrainersa  https://t.co/lvLjGAVRzA\n",
      "1398535926092029952 2021-05-29 09:05:22 +0200 <time_lez> @StandardBankZA #BecauseUCount @FreshstopSA  https://t.co/fvGAzLqGOO\n",
      "1398535697112444930 2021-05-29 09:04:28 +0200 <time_lez> @StandardBankZA #BecauseUCount @olympiccycles  https://t.co/b7sn667eyn\n",
      "1398533180483903491 2021-05-29 08:54:28 +0200 <FeudAfrica> Catch Family Feud tomorrow at 6pm on e.t.v, proudly brought to you by KFC.  #FamilyFeudAfrica #FamilyFeudSA @IAmSteveHarvey #KFCSA #frythefeud @StandardBankZA #ItCanBe #PureSave #etvonline #RapidBluetv  https://t.co/rRMJgT22rG\n",
      "1398529768627314689 2021-05-29 08:40:54 +0200 <TimmyTokoloshe> @StandardBankZA #BecauseUCount  https://t.co/yEh0FwOZaU\n",
      "1398527159019487232 2021-05-29 08:30:32 +0200 <MGILIJACCC> @City_Press @FNBSA @AbsaSouthAfrica @Nedbank @StandardBankZA, he knows  establishment of state bank will collupse these banks. These banks don't want competitor, they know state employees will banking with state bank, also be getting housing loans at a lower interest rate @MbuyiseniNdlozi\n",
      "1398525670121168898 2021-05-29 08:24:37 +0200 <StandardBankZA> @Mathetem Hello Mathete,  Standard bank is already well engaged with several new payments vendors and partners in order for our clients to have access to the most recent digital tap to pay services as well as online partner payment systems. Expect further announcements in the near future.\n",
      "1398524368452526080 2021-05-29 08:19:27 +0200 <Mathetem> @StandardBankZA We are still waiting for ApplePay. 😒\n",
      "1398523626622750721 2021-05-29 08:16:30 +0200 <777_deluxe> @StandardBankZA It simply not running, whole day yesterday again today......every other app on my phone is working except my banks app😭😭😭\n",
      "1398523342580338688 2021-05-29 08:15:22 +0200 <Dischem> @Lloydi_Boy @StandardBankZA Happy Shopping!\n",
      "1398521818638598145 2021-05-29 08:09:19 +0200 <MalangeShirley> @StandardBankZA @Dischem #MothersDay By buying some fleece blankets\n",
      "1398520713041022976 2021-05-29 08:04:55 +0200 <KitengejjaB> #StopEACOP @StandardBankZA @smbc_midosuke  https://t.co/DBB0ogherm\n",
      "1398518489887952898 2021-05-29 07:56:05 +0200 <SebenzileMagag1> @StandardBankZA #BecauseUCount  https://t.co/S7TnE5NYV4\n",
      "1398515285200670723 2021-05-29 07:43:21 +0200 <Maxwell92415313> @StandardBankZA .We request @StandardbankZA not to fund oil pipeline since former president of Uganda museveni is killing innocent ugandans and using Money to buy guns, ammunition to kill innocent ugandans. The president elect of Uganda is Kyagulanyi ROBERT.Ssentamu.\n",
      "1398512014608277504 2021-05-29 07:30:22 +0200 <AsiyaOkello> @StandardBankZA financing a new oil pipeline in the midst of a #dimateemergency is grossly irresponsible. Don’t finance the East African Crude Oil Pipeline. Promote investment in clean energy for East Africa instead #StopEACOP\n",
      "1398510283396730880 2021-05-29 07:23:29 +0200 <777_deluxe> @StandardBankZA what the hell is going on, from yesterday app is not responding 🤬🤬🤬🤬🤬\n",
      "1398509503641968640 2021-05-29 07:20:23 +0200 <billydlamini> Knowing how difficult it has been for me to get here, this is a dream come true 🙏🏻. Thank you @enca especially @rmadzena and @StandardBankZA . The best is yet to come. Thank God I didn’t give up 🙏🏻  https://t.co/5eWbjbBpJh\n",
      "1398506883699335168 2021-05-29 07:09:58 +0200 <KhatweebuD> للتبرع الدولة: ملاوي اسم البنك standard bank of malawi.  اسم الحساب :KHATWEEBU DAUD رقم الحساب : 9100003223822  بنك سويفت كود :SBICMWMX  قال النبي صلى الله عليه وسلم أحب الأعمال إلى الله سرور تدخله على قلب مسلم تكشف عنه كربة أو تقضي عنه دينا أو تسد عنه جوعا\n",
      "1398503864966553601 2021-05-29 06:57:59 +0200 <vuosi11> @stopEACOP @HiilivapaaFI @IEA @Total @StandardBankZA You can deceive man  https://t.co/GCTeVVPFUx Not Nature-God   https://t.co/Pf2d29dkZU  https://t.co/rDV4khZ0MH\n",
      "1398503579120513025 2021-05-29 06:56:50 +0200 <Lloydi_Boy> With @StandardBankZA you get real-time rewards with #UCount 🙌🏻  @Dischem here I come!  https://t.co/LV6W8WqrO1\n",
      "1398501051880329217 2021-05-29 06:46:48 +0200 <Lloydi_Boy> Fuel up @Caltexsa &amp; Pay with your qualifying @StandardBankZA card &amp; earn #UCount Rewards Points.  #StartAtCaltex  https://t.co/FOWOCXmdGF\n",
      "1398500583347310596 2021-05-29 06:44:56 +0200 <MariaUJohansson> I’ve added my pic to the #StopEACOP selfie wall. Add yours &amp; together we’ll make sure @total and @StandardBankZA shareholders have to face the people ahead of their AGMs   https://t.co/qtDcVB2tZv\n",
      "1398499419826409472 2021-05-29 06:40:19 +0200 <Mpho4_Ndou> @StandardBankZA #BecauseUCount  #BecauseUCount  #BecauseUCount  https://t.co/BWAqLO4xhX\n",
      "1398498981660041216 2021-05-29 06:38:34 +0200 <DJGeneticSoul> @SABreweries @StandardBankZA I can't seem to find this share/scheme on the securities/online share trading platform, please advise?\n",
      "1398492664115380224 2021-05-29 06:13:28 +0200 <kalyowa_rashid> @NamugerwaLeah @stopEACOP @Fridays4FutureU @EmmanuelMacron @PPouyanne @Fridays4future @GretaThunberg @350 We can't eat oil #StopEACOP  @StandardBankZA don't fund EACOP\n",
      "1398489588499353600 2021-05-29 06:01:15 +0200 <HerbKempis> @StandardBankZA #BOYCOTT #STANBIC_BANK_Uganda  https://t.co/5XP7ediesV\n",
      "1398488275510255621 2021-05-29 05:56:02 +0200 <HerbKempis> @MusayigwaBobi4 @StandardBankZA Let's just #boycott @stanbicug  since Standard bank is the parent company\n",
      "1398487749485793283 2021-05-29 05:53:56 +0200 <HerbKempis> @StandardBankZA We're pushing for a grand #Boycott of @stanbicug if you go ahead and finance that EACOP project in Uganda @KakensaMedia2 @UNOCHA @hrw . You're creating disputes be it economic, land and political dilema out of that oil curse. BACK OFF UGANDA\n",
      "1398480542086139906 2021-05-29 05:25:18 +0200 <JosephineBugin1> @StandardBankZA Burning more crude oil is the last thing our planet needs! EACOP will increase the severity of the global #ClimateEmergency by transportation oil that will generate over 34 Million tons of Carbon Emissions each year. #StopEACOP @Total @PPouyanne @EmmanuelMacron\n",
      "1398480461177970691 2021-05-29 05:24:59 +0200 <Yuven65793657> @StandardBankZA #BecauseUCount KFC- A4 &amp; C3 DIS CHEM- B4 &amp; D2 NET FLORIST- A3 &amp; C2 SWEEP SOUTH- B1 &amp; D3 CALTEX FRESH STOP- D1 &amp; B3 TIGER WHEEL- A2 &amp; D4 ZANDO- C1 &amp; A1 MAKRO- C4 &amp; B2\n",
      "1398476521011126275 2021-05-29 05:09:19 +0200 <JosephineBugin1> @StandardBankZA @StandardBankZA displacing 17i villages in Uganda and 231 in Tanzania,  putting lives on the line! Is that Climate leadership to you?  Climate leaders don't create Climate Refugees. Climate leaders don't build pipeline.  #StopEACOP #TotalAGM  https://t.co/QBOTNAIaQC\n",
      "1398472894846545920 2021-05-29 04:54:55 +0200 <time_lez> @StandardBankZA #becauseucount #incredibleconnection  https://t.co/vmRTkaIiPs\n",
      "1398472488145797121 2021-05-29 04:53:18 +0200 <time_lez> @StandardBankZA #becauseucount #thebodyshopsa  https://t.co/rw5BXuAHim\n"
     ]
    },
    {
     "name": "stdout",
     "output_type": "stream",
     "text": [
      "1398462670936985606 2021-05-29 04:14:17 +0200 <ballard_lord> @StandardBankZA Stop financing the East African oil pipeline.  #UgandaIsBleeding #NoDemocracyInUganda\n",
      "1398462582042812417 2021-05-29 04:13:56 +0200 <Dalanamz> . @StandardBankZA  financing a new oil pipeline in the midst of a #climateemergency is grossly irresponsible. Don't finance the East African Crude Oil Pipeline. Promote investment in clean energy for East Africa instead! #StopEACOP #UgandaIsBleeding\n",
      "1398462154450276353 2021-05-29 04:12:14 +0200 <Dalanamz> @StandardBankZA  financing a new oil pipeline in the midst of a #climateemergency is grossly irresponsible. Don't finance the East African Crude Oil Pipeline. Promote investment in clean energy for East Africa instead! #StopEACOP #visituganda #UgandaIsBleeding\n",
      "1398457640133464070 2021-05-29 03:54:18 +0200 <MuwongeMike6> @StandardBankZA #UgandaIsBleedingSilently #VisitUganda  https://t.co/JDwSUCm4GK\n",
      "1398456904343564294 2021-05-29 03:51:22 +0200 <KikaziR> @StandardBankZA  Giving Money is indirectly supporting terrorism not only in Uganda but the entire region. The EACOP is against Ugandans  #StopECOP  https://t.co/11Fl6GECMn\n",
      "1398455564515094531 2021-05-29 03:46:03 +0200 <KikaziR> @StandardBankZA  #StopEACOP\n",
      "1398451834952486912 2021-05-29 03:31:14 +0200 <kalyowa_rashid> @MKSerumaga @kaysafi1 @Total @StandardBankZA We can't eat oil  #StopEACOP\n",
      "1398450754696982533 2021-05-29 03:26:56 +0200 <kalyowa_rashid> @Kharym1 @Total @StandardBankZA @StandardBankZA don't finance EACOP\n",
      "1398450609238446083 2021-05-29 03:26:21 +0200 <kalyowa_rashid> @Kharym1 @Total @StandardBankZA #StopEACOP\n",
      "1398447084278276099 2021-05-29 03:12:21 +0200 <GueyeLarry> @Fridays4future @StandardBankZA @Earthlife_JHB Stop fanincing of fossil fuel projects\n",
      "1398445763487797249 2021-05-29 03:07:06 +0200 <Tomdanniel> @StandardBankZA financing a new oil pipeline in the midst of a #climateemergency is grossly irresponsible. Don't finance the East African Crude Oil Pipeline. Promote investment in clean energy for East Africa instead! #StopEACOP  https://t.co/nfpkcFmm6X\"\n",
      "1398442157481107460 2021-05-29 02:52:46 +0200 <Econia11> @sa_lottery @StandardBankZA Been playing on my app with no luck, even R5 win nener!\n",
      "1398440681413226496 2021-05-29 02:46:54 +0200 <MatovuPraise> @hrw This is uganda by dictator museven and then u watch standard bank funding east African oil pipeline in the middle of the climate emergency after all u say your watching human rights 😭😭😭😭  https://t.co/LJCcf026Uo\n",
      "1398435578631315456 2021-05-29 02:26:38 +0200 <MatovuPraise> @StandardBankZA As we are struggling to take back our country from the opressor the opportunist are using this change to exploit our country uganda dealing with adesperate bankrupt and illigitimate dictator museveni of uganda ##stop Eacop #stopfunding dictator museven  https://t.co/z83EZgTOFO\n",
      "1398433973093679107 2021-05-29 02:20:15 +0200 <MatovuPraise> @StandardBankZA Stop oil deals withthe dictator of uganda , oil is for Ugandans not museveni ### stop Eacop  https://t.co/7ND09T51EE\n",
      "1398433594939428865 2021-05-29 02:18:45 +0200 <MatovuPraise> @StandardBankZA Stop the new oil pipeline in east Africa if u really have aheart  https://t.co/oSe9ewxHiN\n",
      "1398431950663266304 2021-05-29 02:12:13 +0200 <TheNewsPortalSA> Environmental activists call on Standard Bank to clean up their fossil fuels act  https://t.co/FlxBq1qkMS\n",
      "1398430016250208262 2021-05-29 02:04:32 +0200 <Bhekala1> Manager - Standard Bank - Gauteng  https://t.co/a2w5dKm007 #findwork #joblinks\n",
      "1398414888716886016 2021-05-29 01:04:25 +0200 <PhelelaniMazala> @StandardBankZA #ITCANBE\n",
      "1398408721542180864 2021-05-29 00:39:55 +0200 <GTAOLOVER> 【GTA5】パシフィック銀行強盗エリートチャレンジ（破壊担当）The Pacific Standard Bank Elite Challenge (Demoliton)- [8:45R*]【PS4】 https://t.co/4q2bSYrbMf #GTA5\n",
      "1398406226728337421 2021-05-29 00:30:00 +0200 <SARAHKIZITO1> @Richard54694930 @StandardBankZA @SerengetiEST Uganda is bleeding  https://t.co/dDUL85u9z9\n",
      "1398394209023975433 2021-05-28 23:42:14 +0200 <VinnieUK> @_Sikamikanico_ Standard bank holiday weekend...\n",
      "1398393583577747458 2021-05-28 23:39:45 +0200 <CtheK_SA> @StandardBankZA This lady has been trying to open an account with you in order to secure sponsors and help more people. It's been a hustle.  https://t.co/ZMXUhZSZMI\n",
      "1398385213487583236 2021-05-28 23:06:30 +0200 <Bhekala1> Manager - Standard Bank - Gauteng  https://t.co/1HOBTOl1VP #resume #jobs\n",
      "1398385147804782592 2021-05-28 23:06:14 +0200 <Kegomod03061209> @MokoenaKK 🤣🤣🤣🤣nd then Standard Bank se tsena yang mo?\n",
      "1398384259052748809 2021-05-28 23:02:42 +0200 <MokoenaKK> @Kegomod03061209 Standard bank....\n",
      "1398380750093828097 2021-05-28 22:48:46 +0200 <ByekwasoHarriet> @StandardBankZA @SerengetiEST #StopEACOP Uganda is bleeding @standerd @EST\n",
      "1398380324145569807 2021-05-28 22:47:04 +0200 <croo_d> @StandardBankZA No\n",
      "1398375921879506944 2021-05-28 22:29:35 +0200 <Raham30101> @usinenouvelle @TotalEnergiesPR .@StandardBankZA financing a new oil pipeline in the midst of a #climateemergency is grossly irresponsible. Don't finance the Uganda Crude Oil Pipe. Promote investment in clean energy for East Africa instead! #StopEACOP #UgandaIsBleeding @Totalpress @Total in bed @KagutaMuseveni  https://t.co/TOO02OsYpU\n",
      "1398374570311274499 2021-05-28 22:24:12 +0200 <theginbuff> I’m considering a move to Standard Bank but I don’t know. I just want a bank that gets things done 😩\n",
      "1398371311005675526 2021-05-28 22:11:15 +0200 <RichardHumphri1> The @AfCFTA has accepted an offer from Standard Bank CEO, Sim Tshabalala, who wants to help develop a #tradefinance policy for businesses that want to trade under the #AfCFTA:   https://t.co/huOlQwrwAs\n",
      "1398370583021240326 2021-05-28 22:08:22 +0200 <alfred_zvomuno> @StandardBankZA Hello Standard bank. What must i do here  https://t.co/0IXL08gBrS\n",
      "1398363353114988549 2021-05-28 21:39:38 +0200 <SfisoMemela> @interrec EFF will never fight against standard bank because they bank with them,I'm not sure for other banks may be\n",
      "[!] No more data! Scraping will stop now.\n",
      "found 0 deleted tweets in this search.\n",
      "Wall time: 37.3 s\n"
     ]
    }
   ],
   "source": [
    "%%time\n",
    "#run Search \n",
    "twint.run.Search(twintconfig)"
   ]
  },
  {
   "cell_type": "markdown",
   "metadata": {},
   "source": [
    "## Pandas - analyse the data"
   ]
  },
  {
   "cell_type": "code",
   "execution_count": 86,
   "metadata": {},
   "outputs": [],
   "source": [
    "#set pandas\n",
    "tweets_df = twint.storage.panda.Tweets_df"
   ]
  },
  {
   "cell_type": "code",
   "execution_count": 87,
   "metadata": {},
   "outputs": [
    {
     "data": {
      "text/plain": [
       "Index(['id', 'conversation_id', 'created_at', 'date', 'timezone', 'place',\n",
       "       'tweet', 'language', 'hashtags', 'cashtags', 'user_id', 'user_id_str',\n",
       "       'username', 'name', 'day', 'hour', 'link', 'urls', 'photos', 'video',\n",
       "       'thumbnail', 'retweet', 'nlikes', 'nreplies', 'nretweets', 'quote_url',\n",
       "       'search', 'near', 'geo', 'source', 'user_rt_id', 'user_rt',\n",
       "       'retweet_id', 'reply_to', 'retweet_date', 'translate', 'trans_src',\n",
       "       'trans_dest'],\n",
       "      dtype='object')"
      ]
     },
     "execution_count": 87,
     "metadata": {},
     "output_type": "execute_result"
    }
   ],
   "source": [
    "tweets_df.columns"
   ]
  },
  {
   "cell_type": "code",
   "execution_count": 88,
   "metadata": {},
   "outputs": [
    {
     "data": {
      "text/plain": [
       "193"
      ]
     },
     "execution_count": 88,
     "metadata": {},
     "output_type": "execute_result"
    }
   ],
   "source": [
    "len(tweets_df)"
   ]
  },
  {
   "cell_type": "code",
   "execution_count": 89,
   "metadata": {},
   "outputs": [],
   "source": [
    "#Export to csv\n",
    "tweets_df.to_csv(\"pre_cleaning.csv\")"
   ]
  },
  {
   "cell_type": "code",
   "execution_count": 90,
   "metadata": {},
   "outputs": [],
   "source": [
    "sub_tweets = tweets_df[[\"date\", \"username\", \"tweet\", \"hashtags\", \"nlikes\",\"search\"]]"
   ]
  },
  {
   "cell_type": "code",
   "execution_count": 91,
   "metadata": {},
   "outputs": [
    {
     "data": {
      "text/html": [
       "<div>\n",
       "<style scoped>\n",
       "    .dataframe tbody tr th:only-of-type {\n",
       "        vertical-align: middle;\n",
       "    }\n",
       "\n",
       "    .dataframe tbody tr th {\n",
       "        vertical-align: top;\n",
       "    }\n",
       "\n",
       "    .dataframe thead th {\n",
       "        text-align: right;\n",
       "    }\n",
       "</style>\n",
       "<table border=\"1\" class=\"dataframe\">\n",
       "  <thead>\n",
       "    <tr style=\"text-align: right;\">\n",
       "      <th></th>\n",
       "      <th>date</th>\n",
       "      <th>username</th>\n",
       "      <th>tweet</th>\n",
       "      <th>hashtags</th>\n",
       "      <th>nlikes</th>\n",
       "      <th>search</th>\n",
       "    </tr>\n",
       "  </thead>\n",
       "  <tbody>\n",
       "    <tr>\n",
       "      <th>0</th>\n",
       "      <td>2021-05-30 01:47:13</td>\n",
       "      <td>StandardBankZA</td>\n",
       "      <td>@Makhuele Good day  Kindly note you will need ...</td>\n",
       "      <td>[]</td>\n",
       "      <td>0</td>\n",
       "      <td>@StandardBankZA OR \"Standard Bank\"</td>\n",
       "    </tr>\n",
       "    <tr>\n",
       "      <th>1</th>\n",
       "      <td>2021-05-30 01:33:02</td>\n",
       "      <td>moses57347335</td>\n",
       "      <td>@StandardBankZA @SerengetiEST We as Ugandans h...</td>\n",
       "      <td>[]</td>\n",
       "      <td>0</td>\n",
       "      <td>@StandardBankZA OR \"Standard Bank\"</td>\n",
       "    </tr>\n",
       "    <tr>\n",
       "      <th>2</th>\n",
       "      <td>2021-05-30 01:30:54</td>\n",
       "      <td>moses57347335</td>\n",
       "      <td>@StandardBankZA @SerengetiEST Don’t finance ug...</td>\n",
       "      <td>[]</td>\n",
       "      <td>0</td>\n",
       "      <td>@StandardBankZA OR \"Standard Bank\"</td>\n",
       "    </tr>\n",
       "    <tr>\n",
       "      <th>3</th>\n",
       "      <td>2021-05-30 00:28:43</td>\n",
       "      <td>CoinDCX</td>\n",
       "      <td>@shivam_s15 Hi Shivam, You can deposit via our...</td>\n",
       "      <td>[]</td>\n",
       "      <td>0</td>\n",
       "      <td>@StandardBankZA OR \"Standard Bank\"</td>\n",
       "    </tr>\n",
       "    <tr>\n",
       "      <th>4</th>\n",
       "      <td>2021-05-30 00:23:44</td>\n",
       "      <td>RasheedAgbaje2</td>\n",
       "      <td>@StandardBankZA Yes beautiful i love it...</td>\n",
       "      <td>[]</td>\n",
       "      <td>0</td>\n",
       "      <td>@StandardBankZA OR \"Standard Bank\"</td>\n",
       "    </tr>\n",
       "  </tbody>\n",
       "</table>\n",
       "</div>"
      ],
      "text/plain": [
       "                  date        username  \\\n",
       "0  2021-05-30 01:47:13  StandardBankZA   \n",
       "1  2021-05-30 01:33:02   moses57347335   \n",
       "2  2021-05-30 01:30:54   moses57347335   \n",
       "3  2021-05-30 00:28:43         CoinDCX   \n",
       "4  2021-05-30 00:23:44  RasheedAgbaje2   \n",
       "\n",
       "                                               tweet hashtags  nlikes  \\\n",
       "0  @Makhuele Good day  Kindly note you will need ...       []       0   \n",
       "1  @StandardBankZA @SerengetiEST We as Ugandans h...       []       0   \n",
       "2  @StandardBankZA @SerengetiEST Don’t finance ug...       []       0   \n",
       "3  @shivam_s15 Hi Shivam, You can deposit via our...       []       0   \n",
       "4         @StandardBankZA Yes beautiful i love it...       []       0   \n",
       "\n",
       "                               search  \n",
       "0  @StandardBankZA OR \"Standard Bank\"  \n",
       "1  @StandardBankZA OR \"Standard Bank\"  \n",
       "2  @StandardBankZA OR \"Standard Bank\"  \n",
       "3  @StandardBankZA OR \"Standard Bank\"  \n",
       "4  @StandardBankZA OR \"Standard Bank\"  "
      ]
     },
     "execution_count": 91,
     "metadata": {},
     "output_type": "execute_result"
    }
   ],
   "source": [
    "sub_tweets.head(5)"
   ]
  },
  {
   "cell_type": "markdown",
   "metadata": {},
   "source": [
    "### Cleaning tweet data \n"
   ]
  },
  {
   "cell_type": "code",
   "execution_count": 138,
   "metadata": {},
   "outputs": [],
   "source": [
    "from bs4 import BeautifulSoup\n",
    "import re\n",
    "from nltk.tokenize import WordPunctTokenizer"
   ]
  },
  {
   "cell_type": "code",
   "execution_count": 141,
   "metadata": {},
   "outputs": [],
   "source": [
    "# patterns to remove @symbols, links and weird chars(i.e. images) \n",
    "pat1 = r\"@[A-Za-z0-9]+\" \n",
    "pat2 = r\"https?://[A-Za-z0-9./]+\"\n",
    "pat3 = r\"[^a-zA-Z]\"     \n",
    "combined_pat = r'|'.join((pat1, pat2, pat3))\n",
    "\n",
    "def tweet_cleaner(text):\n",
    "    \n",
    "    soup = BeautifulSoup(text, 'lxml')\n",
    "    fulltext = soup.get_text()\n",
    "    stripped = re.sub(combined_pat, ' ', fulltext)\n",
    "\n",
    "    lower = stripped.lower()\n",
    "\n",
    "    #remove whitespace between words\n",
    "    words = WordPunctTokenizer().tokenize(lower)\n",
    "    return (\" \".join(words)).strip()\n"
   ]
  },
  {
   "cell_type": "code",
   "execution_count": 142,
   "metadata": {},
   "outputs": [],
   "source": [
    "Data_to_clean = sub_tweets[\"tweet\"]\n",
    "cleaned_list = []\n",
    "\n",
    "for t in Data_to_clean:\n",
    "    cleaned_list.append(tweet_cleaner(t))"
   ]
  },
  {
   "cell_type": "code",
   "execution_count": 143,
   "metadata": {},
   "outputs": [
    {
     "data": {
      "text/html": [
       "<div>\n",
       "<style scoped>\n",
       "    .dataframe tbody tr th:only-of-type {\n",
       "        vertical-align: middle;\n",
       "    }\n",
       "\n",
       "    .dataframe tbody tr th {\n",
       "        vertical-align: top;\n",
       "    }\n",
       "\n",
       "    .dataframe thead th {\n",
       "        text-align: right;\n",
       "    }\n",
       "</style>\n",
       "<table border=\"1\" class=\"dataframe\">\n",
       "  <thead>\n",
       "    <tr style=\"text-align: right;\">\n",
       "      <th></th>\n",
       "      <th>tweet</th>\n",
       "    </tr>\n",
       "  </thead>\n",
       "  <tbody>\n",
       "    <tr>\n",
       "      <th>0</th>\n",
       "      <td>good day kindly note you will need to visit a ...</td>\n",
       "    </tr>\n",
       "    <tr>\n",
       "      <th>1</th>\n",
       "      <td>we as ugandans have not benefited in your out ...</td>\n",
       "    </tr>\n",
       "    <tr>\n",
       "      <th>2</th>\n",
       "      <td>don t finance uganda pipeline please uganda is...</td>\n",
       "    </tr>\n",
       "    <tr>\n",
       "      <th>3</th>\n",
       "      <td>s hi shivam you can deposit via our website an...</td>\n",
       "    </tr>\n",
       "    <tr>\n",
       "      <th>4</th>\n",
       "      <td>yes beautiful i love it</td>\n",
       "    </tr>\n",
       "  </tbody>\n",
       "</table>\n",
       "</div>"
      ],
      "text/plain": [
       "                                               tweet\n",
       "0  good day kindly note you will need to visit a ...\n",
       "1  we as ugandans have not benefited in your out ...\n",
       "2  don t finance uganda pipeline please uganda is...\n",
       "3  s hi shivam you can deposit via our website an...\n",
       "4                            yes beautiful i love it"
      ]
     },
     "execution_count": 143,
     "metadata": {},
     "output_type": "execute_result"
    }
   ],
   "source": [
    "##make a dataframe for sentiment analysis\n",
    "clean_df = pd.DataFrame(cleaned_list,columns=['tweet'])\n",
    "clean_df.head()"
   ]
  },
  {
   "cell_type": "markdown",
   "metadata": {},
   "source": [
    "## Sentiment analysis "
   ]
  },
  {
   "cell_type": "code",
   "execution_count": 96,
   "metadata": {},
   "outputs": [
    {
     "name": "stdout",
     "output_type": "stream",
     "text": [
      "good day kindly note you will need to visit a standard bank branch in order to open the account\n",
      "Sentiment(polarity=0.32499999999999996, subjectivity=0.5)\n"
     ]
    },
    {
     "data": {
      "text/markdown": [
       "<span style='color:green'>Positive</span>"
      ],
      "text/plain": [
       "<IPython.core.display.Markdown object>"
      ]
     },
     "metadata": {},
     "output_type": "display_data"
    },
    {
     "name": "stdout",
     "output_type": "stream",
     "text": [
      "we as ugandans have not benefited in your out money plz stop and don t finance the pipeline\n",
      "Sentiment(polarity=0.0, subjectivity=0.0)\n"
     ]
    },
    {
     "data": {
      "text/markdown": [
       "<span style='color:grey'>No result</span>"
      ],
      "text/plain": [
       "<IPython.core.display.Markdown object>"
      ]
     },
     "metadata": {},
     "output_type": "display_data"
    },
    {
     "name": "stdout",
     "output_type": "stream",
     "text": [
      "\n",
      "don t finance uganda pipeline please uganda is bleeding\n",
      "Sentiment(polarity=0.0, subjectivity=0.0)\n"
     ]
    },
    {
     "data": {
      "text/markdown": [
       "<span style='color:grey'>No result</span>"
      ],
      "text/plain": [
       "<IPython.core.display.Markdown object>"
      ]
     },
     "metadata": {},
     "output_type": "display_data"
    },
    {
     "name": "stdout",
     "output_type": "stream",
     "text": [
      "\n",
      "s hi shivam you can deposit via our website and use standard bank deposit option there are no charges but it can take upto hours\n",
      "Sentiment(polarity=0.0, subjectivity=0.0)\n"
     ]
    },
    {
     "data": {
      "text/markdown": [
       "<span style='color:grey'>No result</span>"
      ],
      "text/plain": [
       "<IPython.core.display.Markdown object>"
      ]
     },
     "metadata": {},
     "output_type": "display_data"
    },
    {
     "name": "stdout",
     "output_type": "stream",
     "text": [
      "\n",
      "yes beautiful i love it\n",
      "Sentiment(polarity=0.675, subjectivity=0.8)\n"
     ]
    },
    {
     "data": {
      "text/markdown": [
       "<span style='color:green'>Positive</span>"
      ],
      "text/plain": [
       "<IPython.core.display.Markdown object>"
      ]
     },
     "metadata": {},
     "output_type": "display_data"
    },
    {
     "name": "stdout",
     "output_type": "stream",
     "text": [
      "\n",
      "Sentiment(polarity=0.0, subjectivity=0.0)\n"
     ]
    },
    {
     "data": {
      "text/markdown": [
       "<span style='color:grey'>No result</span>"
      ],
      "text/plain": [
       "<IPython.core.display.Markdown object>"
      ]
     },
     "metadata": {},
     "output_type": "display_data"
    },
    {
     "name": "stdout",
     "output_type": "stream",
     "text": [
      "\n",
      "uganda is bleeding\n",
      "Sentiment(polarity=0.0, subjectivity=0.0)\n"
     ]
    },
    {
     "data": {
      "text/markdown": [
       "<span style='color:grey'>No result</span>"
      ],
      "text/plain": [
       "<IPython.core.display.Markdown object>"
      ]
     },
     "metadata": {},
     "output_type": "display_data"
    },
    {
     "name": "stdout",
     "output_type": "stream",
     "text": [
      "\n",
      "i hope this good bank does not associate itself with genocide in uganda ugandans want the dictator out of their country and by providing money for the pipeline means u don t care about innocent lives of ugandans\n",
      "Sentiment(polarity=0.6, subjectivity=0.65)\n"
     ]
    },
    {
     "data": {
      "text/markdown": [
       "<span style='color:green'>Positive</span>"
      ],
      "text/plain": [
       "<IPython.core.display.Markdown object>"
      ]
     },
     "metadata": {},
     "output_type": "display_data"
    },
    {
     "name": "stdout",
     "output_type": "stream",
     "text": [
      "\n",
      "Sentiment(polarity=0.0, subjectivity=0.0)\n"
     ]
    },
    {
     "data": {
      "text/markdown": [
       "<span style='color:grey'>No result</span>"
      ],
      "text/plain": [
       "<IPython.core.display.Markdown object>"
      ]
     },
     "metadata": {},
     "output_type": "display_data"
    },
    {
     "name": "stdout",
     "output_type": "stream",
     "text": [
      "\n",
      "today the whole day literally the whole bloody day i have been struggling pay my bills online a simple dstv payment it keeps giving an error i mean what the hell no i m literally considering the offer is giving me just switch banks\n",
      "Sentiment(polarity=-0.14250000000000002, subjectivity=0.5489285714285714)\n"
     ]
    },
    {
     "data": {
      "text/markdown": [
       "<span style='color:red'>Negative</span>"
      ],
      "text/plain": [
       "<IPython.core.display.Markdown object>"
      ]
     },
     "metadata": {},
     "output_type": "display_data"
    },
    {
     "name": "stdout",
     "output_type": "stream",
     "text": [
      "standard bank why\n",
      "Sentiment(polarity=0.0, subjectivity=0.0)\n"
     ]
    },
    {
     "data": {
      "text/markdown": [
       "<span style='color:grey'>No result</span>"
      ],
      "text/plain": [
       "<IPython.core.display.Markdown object>"
      ]
     },
     "metadata": {},
     "output_type": "display_data"
    },
    {
     "name": "stdout",
     "output_type": "stream",
     "text": [
      "\n",
      "hi standard bank is sab zenzele kabili shares listed on your online trading platform\n",
      "Sentiment(polarity=0.0, subjectivity=0.0)\n"
     ]
    },
    {
     "data": {
      "text/markdown": [
       "<span style='color:grey'>No result</span>"
      ],
      "text/plain": [
       "<IPython.core.display.Markdown object>"
      ]
     },
     "metadata": {},
     "output_type": "display_data"
    },
    {
     "name": "stdout",
     "output_type": "stream",
     "text": [
      "\n",
      "i m not even understanding the role of my private banker at this point thursday yesterday i have been struggling register online share trading till now i haven t registered all my banker could do is to give me a number call that is not even working\n",
      "Sentiment(polarity=0.0, subjectivity=0.375)\n"
     ]
    },
    {
     "data": {
      "text/markdown": [
       "<span style='color:grey'>No result</span>"
      ],
      "text/plain": [
       "<IPython.core.display.Markdown object>"
      ]
     },
     "metadata": {},
     "output_type": "display_data"
    },
    {
     "name": "stdout",
     "output_type": "stream",
     "text": [
      "\n",
      "the way i love standard bank and have always been loyal and defended it at all costs but wow lately i m disappointed literally everyday with their online banking i have never seen such inconvenience incompetence\n",
      "Sentiment(polarity=-0.0023809523809523963, subjectivity=0.6119047619047618)\n"
     ]
    },
    {
     "data": {
      "text/markdown": [
       "<span style='color:red'>Negative</span>"
      ],
      "text/plain": [
       "<IPython.core.display.Markdown object>"
      ]
     },
     "metadata": {},
     "output_type": "display_data"
    },
    {
     "name": "stdout",
     "output_type": "stream",
     "text": [
      "kind request to upload at least one full show at the same time on youtube thanks\n",
      "Sentiment(polarity=0.16999999999999998, subjectivity=0.43500000000000005)\n"
     ]
    },
    {
     "data": {
      "text/markdown": [
       "<span style='color:green'>Positive</span>"
      ],
      "text/plain": [
       "<IPython.core.display.Markdown object>"
      ]
     },
     "metadata": {},
     "output_type": "display_data"
    },
    {
     "name": "stdout",
     "output_type": "stream",
     "text": [
      "junnarkar hi dhaval you can deposit via our website and use standard bank deposit option there are no charges but it can take upto hours\n",
      "Sentiment(polarity=0.0, subjectivity=0.0)\n"
     ]
    },
    {
     "data": {
      "text/markdown": [
       "<span style='color:grey'>No result</span>"
      ],
      "text/plain": [
       "<IPython.core.display.Markdown object>"
      ]
     },
     "metadata": {},
     "output_type": "display_data"
    },
    {
     "name": "stdout",
     "output_type": "stream",
     "text": [
      "\n",
      "gtao pacific standard bank signal fastest setup ps gta\n",
      "Sentiment(polarity=0.0, subjectivity=0.0)\n"
     ]
    },
    {
     "data": {
      "text/markdown": [
       "<span style='color:grey'>No result</span>"
      ],
      "text/plain": [
       "<IPython.core.display.Markdown object>"
      ]
     },
     "metadata": {},
     "output_type": "display_data"
    },
    {
     "name": "stdout",
     "output_type": "stream",
     "text": [
      "\n",
      "how by hacking and running to finance sectors they all can t this ain t qbs school stupid shits from standard bank paul chan mo po is super super super stupid who the f ck are chans\n",
      "Sentiment(polarity=-0.09999999999999998, subjectivity=0.6666666666666666)\n"
     ]
    },
    {
     "data": {
      "text/markdown": [
       "<span style='color:red'>Negative</span>"
      ],
      "text/plain": [
       "<IPython.core.display.Markdown object>"
      ]
     },
     "metadata": {},
     "output_type": "display_data"
    },
    {
     "name": "stdout",
     "output_type": "stream",
     "text": [
      "\n",
      "Sentiment(polarity=0.0, subjectivity=0.0)\n"
     ]
    },
    {
     "data": {
      "text/markdown": [
       "<span style='color:grey'>No result</span>"
      ],
      "text/plain": [
       "<IPython.core.display.Markdown object>"
      ]
     },
     "metadata": {},
     "output_type": "display_data"
    },
    {
     "name": "stdout",
     "output_type": "stream",
     "text": [
      "\n",
      "manager standard bank gauteng joblinks findwork\n",
      "Sentiment(polarity=0.0, subjectivity=0.0)\n"
     ]
    },
    {
     "data": {
      "text/markdown": [
       "<span style='color:grey'>No result</span>"
      ],
      "text/plain": [
       "<IPython.core.display.Markdown object>"
      ]
     },
     "metadata": {},
     "output_type": "display_data"
    },
    {
     "name": "stdout",
     "output_type": "stream",
     "text": [
      "\n",
      "can i apply for a sum account online for my kid\n",
      "Sentiment(polarity=0.0, subjectivity=0.0)\n"
     ]
    },
    {
     "data": {
      "text/markdown": [
       "<span style='color:grey'>No result</span>"
      ],
      "text/plain": [
       "<IPython.core.display.Markdown object>"
      ]
     },
     "metadata": {},
     "output_type": "display_data"
    },
    {
     "name": "stdout",
     "output_type": "stream",
     "text": [
      "\n",
      "becauseucount\n",
      "Sentiment(polarity=0.0, subjectivity=0.0)\n"
     ]
    },
    {
     "data": {
      "text/markdown": [
       "<span style='color:grey'>No result</span>"
      ],
      "text/plain": [
       "<IPython.core.display.Markdown object>"
      ]
     },
     "metadata": {},
     "output_type": "display_data"
    },
    {
     "name": "stdout",
     "output_type": "stream",
     "text": [
      "\n",
      "standard bank accelerates new era changes at board level\n",
      "Sentiment(polarity=0.06818181818181818, subjectivity=0.22727272727272727)\n"
     ]
    },
    {
     "data": {
      "text/markdown": [
       "<span style='color:green'>Positive</span>"
      ],
      "text/plain": [
       "<IPython.core.display.Markdown object>"
      ]
     },
     "metadata": {},
     "output_type": "display_data"
    },
    {
     "name": "stdout",
     "output_type": "stream",
     "text": [
      "stopoilpipelineinuganda ugandanslivesmatter ugandaisbleeding ugandaisbleedingsilently musevenistopsilentgenocideinuganda musevenifreeourpeople musevenilostelections\n",
      "Sentiment(polarity=0.0, subjectivity=0.0)\n"
     ]
    },
    {
     "data": {
      "text/markdown": [
       "<span style='color:grey'>No result</span>"
      ],
      "text/plain": [
       "<IPython.core.display.Markdown object>"
      ]
     },
     "metadata": {},
     "output_type": "display_data"
    },
    {
     "name": "stdout",
     "output_type": "stream",
     "text": [
      "\n",
      "standard bank\n",
      "Sentiment(polarity=0.0, subjectivity=0.0)\n"
     ]
    },
    {
     "data": {
      "text/markdown": [
       "<span style='color:grey'>No result</span>"
      ],
      "text/plain": [
       "<IPython.core.display.Markdown object>"
      ]
     },
     "metadata": {},
     "output_type": "display_data"
    },
    {
     "name": "stdout",
     "output_type": "stream",
     "text": [
      "\n",
      "ucount dis chem voucher not working every time i try to select my reward i get a voucher not created error please fix this issue\n",
      "Sentiment(polarity=0.0, subjectivity=0.0)\n"
     ]
    },
    {
     "data": {
      "text/markdown": [
       "<span style='color:grey'>No result</span>"
      ],
      "text/plain": [
       "<IPython.core.display.Markdown object>"
      ]
     },
     "metadata": {},
     "output_type": "display_data"
    },
    {
     "name": "stdout",
     "output_type": "stream",
     "text": [
      "\n",
      "isn t it amazing that even having a private banker they do not even respond or communicate with their clients anymore\n",
      "Sentiment(polarity=0.30000000000000004, subjectivity=0.6375)\n"
     ]
    },
    {
     "data": {
      "text/markdown": [
       "<span style='color:green'>Positive</span>"
      ],
      "text/plain": [
       "<IPython.core.display.Markdown object>"
      ]
     },
     "metadata": {},
     "output_type": "display_data"
    },
    {
     "name": "stdout",
     "output_type": "stream",
     "text": [
      "on the other side branches are been closed and atm as well\n",
      "Sentiment(polarity=-0.1125, subjectivity=0.2375)\n"
     ]
    },
    {
     "data": {
      "text/markdown": [
       "<span style='color:red'>Negative</span>"
      ],
      "text/plain": [
       "<IPython.core.display.Markdown object>"
      ]
     },
     "metadata": {},
     "output_type": "display_data"
    },
    {
     "name": "stdout",
     "output_type": "stream",
     "text": [
      "aningiqasha phela bangani bami sengikhathele ukudliwa ubetway nohollywood\n",
      "Sentiment(polarity=0.0, subjectivity=0.0)\n"
     ]
    },
    {
     "data": {
      "text/markdown": [
       "<span style='color:grey'>No result</span>"
      ],
      "text/plain": [
       "<IPython.core.display.Markdown object>"
      ]
     },
     "metadata": {},
     "output_type": "display_data"
    },
    {
     "name": "stdout",
     "output_type": "stream",
     "text": [
      "\n",
      "environmental activists call on standard bank to clean up their fossil fuels act stopeacop refuellingafrica\n",
      "Sentiment(polarity=0.18333333333333335, subjectivity=0.35000000000000003)\n"
     ]
    },
    {
     "data": {
      "text/markdown": [
       "<span style='color:green'>Positive</span>"
      ],
      "text/plain": [
       "<IPython.core.display.Markdown object>"
      ]
     },
     "metadata": {},
     "output_type": "display_data"
    },
    {
     "name": "stdout",
     "output_type": "stream",
     "text": [
      "ntsoko i m about to lose my shit\n",
      "Sentiment(polarity=-0.2, subjectivity=0.8)\n"
     ]
    },
    {
     "data": {
      "text/markdown": [
       "<span style='color:red'>Negative</span>"
      ],
      "text/plain": [
       "<IPython.core.display.Markdown object>"
      ]
     },
     "metadata": {},
     "output_type": "display_data"
    },
    {
     "name": "stdout",
     "output_type": "stream",
     "text": [
      "lee i see a lot of people on the tl complaining about their online experience that s disappointing yaz\n",
      "Sentiment(polarity=-0.6, subjectivity=0.7)\n"
     ]
    },
    {
     "data": {
      "text/markdown": [
       "<span style='color:red'>Negative</span>"
      ],
      "text/plain": [
       "<IPython.core.display.Markdown object>"
      ]
     },
     "metadata": {},
     "output_type": "display_data"
    },
    {
     "name": "stdout",
     "output_type": "stream",
     "text": [
      "lee yey standard bank help her yini ngani\n",
      "Sentiment(polarity=0.0, subjectivity=0.0)\n"
     ]
    },
    {
     "data": {
      "text/markdown": [
       "<span style='color:grey'>No result</span>"
      ],
      "text/plain": [
       "<IPython.core.display.Markdown object>"
      ]
     },
     "metadata": {},
     "output_type": "display_data"
    },
    {
     "name": "stdout",
     "output_type": "stream",
     "text": [
      "\n",
      "standard bank are unethical and devious i will never trust you anymore hq time for investigations\n",
      "Sentiment(polarity=0.0, subjectivity=0.0)\n"
     ]
    },
    {
     "data": {
      "text/markdown": [
       "<span style='color:grey'>No result</span>"
      ],
      "text/plain": [
       "<IPython.core.display.Markdown object>"
      ]
     },
     "metadata": {},
     "output_type": "display_data"
    },
    {
     "name": "stdout",
     "output_type": "stream",
     "text": [
      "\n",
      "is the most the worst bank im honestly done\n",
      "Sentiment(polarity=0.033333333333333326, subjectivity=0.7999999999999999)\n"
     ]
    },
    {
     "data": {
      "text/markdown": [
       "<span style='color:green'>Positive</span>"
      ],
      "text/plain": [
       "<IPython.core.display.Markdown object>"
      ]
     },
     "metadata": {},
     "output_type": "display_data"
    },
    {
     "name": "stdout",
     "output_type": "stream",
     "text": [
      "madesi hi madesi kindly visit for more information on how you can be part of the scheme\n",
      "Sentiment(polarity=0.55, subjectivity=0.7)\n"
     ]
    },
    {
     "data": {
      "text/markdown": [
       "<span style='color:green'>Positive</span>"
      ],
      "text/plain": [
       "<IPython.core.display.Markdown object>"
      ]
     },
     "metadata": {},
     "output_type": "display_data"
    },
    {
     "name": "stdout",
     "output_type": "stream",
     "text": [
      "in the spirit of being no we ve been nominated for the standard bank group kzn top business brand award here s how you can vote thank you for all the love and support for more info visit kzntopbrand\n",
      "Sentiment(polarity=0.375, subjectivity=0.4)\n"
     ]
    },
    {
     "data": {
      "text/markdown": [
       "<span style='color:green'>Positive</span>"
      ],
      "text/plain": [
       "<IPython.core.display.Markdown object>"
      ]
     },
     "metadata": {},
     "output_type": "display_data"
    },
    {
     "name": "stdout",
     "output_type": "stream",
     "text": [
      "hi we appreciate your patience we have processed the credit and the same will reflect in your account within working days as per standard bank procedure we strive to serve you better\n",
      "Sentiment(polarity=0.16666666666666666, subjectivity=0.20833333333333334)\n"
     ]
    },
    {
     "data": {
      "text/markdown": [
       "<span style='color:green'>Positive</span>"
      ],
      "text/plain": [
       "<IPython.core.display.Markdown object>"
      ]
     },
     "metadata": {},
     "output_type": "display_data"
    },
    {
     "name": "stdout",
     "output_type": "stream",
     "text": [
      "vintage the standard bank of south africa partially used cheque book songea tanganyika\n",
      "Sentiment(polarity=-0.05, subjectivity=0.15)\n"
     ]
    },
    {
     "data": {
      "text/markdown": [
       "<span style='color:red'>Negative</span>"
      ],
      "text/plain": [
       "<IPython.core.display.Markdown object>"
      ]
     },
     "metadata": {},
     "output_type": "display_data"
    },
    {
     "name": "stdout",
     "output_type": "stream",
     "text": [
      "stopolipipelineinuganda ugandaisbleeding musevenistopsilentgenocideinuganda ugandaisbleedingsilently ugandanslivesmatter musevenilostelections\n",
      "Sentiment(polarity=0.0, subjectivity=0.0)\n"
     ]
    },
    {
     "data": {
      "text/markdown": [
       "<span style='color:grey'>No result</span>"
      ],
      "text/plain": [
       "<IPython.core.display.Markdown object>"
      ]
     },
     "metadata": {},
     "output_type": "display_data"
    },
    {
     "name": "stdout",
     "output_type": "stream",
     "text": [
      "\n",
      "last throw of the dice startatcaltex caltexhavoline ucount\n",
      "Sentiment(polarity=0.0, subjectivity=0.06666666666666667)\n"
     ]
    },
    {
     "data": {
      "text/markdown": [
       "<span style='color:grey'>No result</span>"
      ],
      "text/plain": [
       "<IPython.core.display.Markdown object>"
      ]
     },
     "metadata": {},
     "output_type": "display_data"
    },
    {
     "name": "stdout",
     "output_type": "stream",
     "text": [
      "\n",
      "finally got my money back from the ig boutique that scammed me via standard bank dispute resolution\n",
      "Sentiment(polarity=0.0, subjectivity=0.3333333333333333)\n"
     ]
    },
    {
     "data": {
      "text/markdown": [
       "<span style='color:grey'>No result</span>"
      ],
      "text/plain": [
       "<IPython.core.display.Markdown object>"
      ]
     },
     "metadata": {},
     "output_type": "display_data"
    },
    {
     "name": "stdout",
     "output_type": "stream",
     "text": [
      "\n",
      "stoppipelineinuganda ugandaisbleedingsilently ugandanslivesmatter musevenistopsilentgenocideinuganda musevenilostelections musevenimustgo\n",
      "Sentiment(polarity=0.0, subjectivity=0.0)\n"
     ]
    },
    {
     "data": {
      "text/markdown": [
       "<span style='color:grey'>No result</span>"
      ],
      "text/plain": [
       "<IPython.core.display.Markdown object>"
      ]
     },
     "metadata": {},
     "output_type": "display_data"
    },
    {
     "name": "stdout",
     "output_type": "stream",
     "text": [
      "\n",
      "visit s p and find registered or accredited brokers standard bank south africa has offshore share trading platform locally stanlib lesotho offers basotho international exposure including us markets there are many registered efts in sa that offer offshore exposures\n",
      "Sentiment(polarity=0.12, subjectivity=0.1)\n"
     ]
    },
    {
     "data": {
      "text/markdown": [
       "<span style='color:green'>Positive</span>"
      ],
      "text/plain": [
       "<IPython.core.display.Markdown object>"
      ]
     },
     "metadata": {},
     "output_type": "display_data"
    },
    {
     "name": "stdout",
     "output_type": "stream",
     "text": [
      "becauseucount\n",
      "Sentiment(polarity=0.0, subjectivity=0.0)\n"
     ]
    },
    {
     "data": {
      "text/markdown": [
       "<span style='color:grey'>No result</span>"
      ],
      "text/plain": [
       "<IPython.core.display.Markdown object>"
      ]
     },
     "metadata": {},
     "output_type": "display_data"
    },
    {
     "name": "stdout",
     "output_type": "stream",
     "text": [
      "\n",
      "money given to m n is used for arms and killing ugandans\n",
      "Sentiment(polarity=0.0, subjectivity=0.0)\n"
     ]
    },
    {
     "data": {
      "text/markdown": [
       "<span style='color:grey'>No result</span>"
      ],
      "text/plain": [
       "<IPython.core.display.Markdown object>"
      ]
     },
     "metadata": {},
     "output_type": "display_data"
    },
    {
     "name": "stdout",
     "output_type": "stream",
     "text": [
      "\n",
      "itcanbe\n",
      "Sentiment(polarity=0.0, subjectivity=0.0)\n"
     ]
    },
    {
     "data": {
      "text/markdown": [
       "<span style='color:grey'>No result</span>"
      ],
      "text/plain": [
       "<IPython.core.display.Markdown object>"
      ]
     },
     "metadata": {},
     "output_type": "display_data"
    },
    {
     "name": "stdout",
     "output_type": "stream",
     "text": [
      "\n",
      "financing a new oil pipeline in the midst of a climateemergency is grossly irresponsible don t finance the east african crude oil pipeline promote investment in clean energy for east africa instead stopeacop\n",
      "Sentiment(polarity=-0.039393939393939384, subjectivity=0.43090909090909096)\n"
     ]
    },
    {
     "data": {
      "text/markdown": [
       "<span style='color:red'>Negative</span>"
      ],
      "text/plain": [
       "<IPython.core.display.Markdown object>"
      ]
     },
     "metadata": {},
     "output_type": "display_data"
    },
    {
     "name": "stdout",
     "output_type": "stream",
     "text": [
      "town looks like a standard bank holiday wouldn t be able to move if the reds were in a cl final\n",
      "Sentiment(polarity=0.16666666666666666, subjectivity=0.5416666666666666)\n"
     ]
    },
    {
     "data": {
      "text/markdown": [
       "<span style='color:green'>Positive</span>"
      ],
      "text/plain": [
       "<IPython.core.display.Markdown object>"
      ]
     },
     "metadata": {},
     "output_type": "display_data"
    },
    {
     "name": "stdout",
     "output_type": "stream",
     "text": [
      "can t find the shares on share trading account\n",
      "Sentiment(polarity=0.0, subjectivity=0.0)\n"
     ]
    },
    {
     "data": {
      "text/markdown": [
       "<span style='color:grey'>No result</span>"
      ],
      "text/plain": [
       "<IPython.core.display.Markdown object>"
      ]
     },
     "metadata": {},
     "output_type": "display_data"
    },
    {
     "name": "stdout",
     "output_type": "stream",
     "text": [
      "\n",
      "i have an account and would like to know how do i pay because i struggled online for standard bank i can t use easy pay and post office is only open during the week\n",
      "Sentiment(polarity=0.10833333333333334, subjectivity=0.5833333333333334)\n"
     ]
    },
    {
     "data": {
      "text/markdown": [
       "<span style='color:green'>Positive</span>"
      ],
      "text/plain": [
       "<IPython.core.display.Markdown object>"
      ]
     },
     "metadata": {},
     "output_type": "display_data"
    },
    {
     "name": "stdout",
     "output_type": "stream",
     "text": [
      "hbar solving all dlt problems security governance speed and cost big players on the council like google ibm lg standard bank chainlink labs use cases continue to grow everyday abft compliant is wholesome and brilliant\n",
      "Sentiment(polarity=0.175, subjectivity=0.425)\n"
     ]
    },
    {
     "data": {
      "text/markdown": [
       "<span style='color:green'>Positive</span>"
      ],
      "text/plain": [
       "<IPython.core.display.Markdown object>"
      ]
     },
     "metadata": {},
     "output_type": "display_data"
    },
    {
     "name": "stdout",
     "output_type": "stream",
     "text": [
      "pulley familyfeudafrica familyfeudsa kfcsa frythefeud itcanbe puresave etvonline rapidbluetv\n",
      "Sentiment(polarity=0.0, subjectivity=0.0)\n"
     ]
    },
    {
     "data": {
      "text/markdown": [
       "<span style='color:grey'>No result</span>"
      ],
      "text/plain": [
       "<IPython.core.display.Markdown object>"
      ]
     },
     "metadata": {},
     "output_type": "display_data"
    },
    {
     "name": "stdout",
     "output_type": "stream",
     "text": [
      "\n",
      "pulley familyfeudafrica familyfeudsa kfcsa frythefeud itcanbe puresave etvonline rapidbluetv oh yeh\n",
      "Sentiment(polarity=0.0, subjectivity=0.0)\n"
     ]
    },
    {
     "data": {
      "text/markdown": [
       "<span style='color:grey'>No result</span>"
      ],
      "text/plain": [
       "<IPython.core.display.Markdown object>"
      ]
     },
     "metadata": {},
     "output_type": "display_data"
    },
    {
     "name": "stdout",
     "output_type": "stream",
     "text": [
      "\n",
      "becuseucount\n",
      "Sentiment(polarity=0.0, subjectivity=0.0)\n"
     ]
    },
    {
     "data": {
      "text/markdown": [
       "<span style='color:grey'>No result</span>"
      ],
      "text/plain": [
       "<IPython.core.display.Markdown object>"
      ]
     },
     "metadata": {},
     "output_type": "display_data"
    },
    {
     "name": "stdout",
     "output_type": "stream",
     "text": [
      "\n",
      "becauseucount\n",
      "Sentiment(polarity=0.0, subjectivity=0.0)\n"
     ]
    },
    {
     "data": {
      "text/markdown": [
       "<span style='color:grey'>No result</span>"
      ],
      "text/plain": [
       "<IPython.core.display.Markdown object>"
      ]
     },
     "metadata": {},
     "output_type": "display_data"
    },
    {
     "name": "stdout",
     "output_type": "stream",
     "text": [
      "\n",
      "hello brother fazil asalaam aleikum warahmatulahi wabarakatu bro about the issue of standard bank za can we try and contact mr julius malema to help us and fight that bank coz his an opposition supporter who supports nup and he robert kyagulanyi\n",
      "Sentiment(polarity=0.0, subjectivity=0.0)\n"
     ]
    },
    {
     "data": {
      "text/markdown": [
       "<span style='color:grey'>No result</span>"
      ],
      "text/plain": [
       "<IPython.core.display.Markdown object>"
      ]
     },
     "metadata": {},
     "output_type": "display_data"
    },
    {
     "name": "stdout",
     "output_type": "stream",
     "text": [
      "\n",
      "standard bank holiday\n",
      "Sentiment(polarity=0.0, subjectivity=0.0)\n"
     ]
    },
    {
     "data": {
      "text/markdown": [
       "<span style='color:grey'>No result</span>"
      ],
      "text/plain": [
       "<IPython.core.display.Markdown object>"
      ]
     },
     "metadata": {},
     "output_type": "display_data"
    },
    {
     "name": "stdout",
     "output_type": "stream",
     "text": [
      "\n",
      "has the best sanitizers at their atm s\n",
      "Sentiment(polarity=1.0, subjectivity=0.3)\n"
     ]
    },
    {
     "data": {
      "text/markdown": [
       "<span style='color:green'>Positive</span>"
      ],
      "text/plain": [
       "<IPython.core.display.Markdown object>"
      ]
     },
     "metadata": {},
     "output_type": "display_data"
    },
    {
     "name": "stdout",
     "output_type": "stream",
     "text": [
      "environment and wildlife too have been compromised if eacop is pro people why is it claiming their lives and property paris fr stopeacop nogasmoz\n",
      "Sentiment(polarity=0.0, subjectivity=0.0)\n"
     ]
    },
    {
     "data": {
      "text/markdown": [
       "<span style='color:grey'>No result</span>"
      ],
      "text/plain": [
       "<IPython.core.display.Markdown object>"
      ]
     },
     "metadata": {},
     "output_type": "display_data"
    },
    {
     "name": "stdout",
     "output_type": "stream",
     "text": [
      "\n",
      "the is no option for dstv payment\n",
      "Sentiment(polarity=0.0, subjectivity=0.0)\n"
     ]
    },
    {
     "data": {
      "text/markdown": [
       "<span style='color:grey'>No result</span>"
      ],
      "text/plain": [
       "<IPython.core.display.Markdown object>"
      ]
     },
     "metadata": {},
     "output_type": "display_data"
    },
    {
     "name": "stdout",
     "output_type": "stream",
     "text": [
      "\n",
      "new projects secretariat is working on a digital platform to help smes access new markets a trade finance policy with to help smes trade a pan african payments settlement platform with digitise customs functions\n",
      "Sentiment(polarity=0.06818181818181818, subjectivity=0.22727272727272727)\n"
     ]
    },
    {
     "data": {
      "text/markdown": [
       "<span style='color:green'>Positive</span>"
      ],
      "text/plain": [
       "<IPython.core.display.Markdown object>"
      ]
     },
     "metadata": {},
     "output_type": "display_data"
    },
    {
     "name": "stdout",
     "output_type": "stream",
     "text": [
      "i want to pay my dstv acc via this app\n",
      "Sentiment(polarity=0.0, subjectivity=0.0)\n"
     ]
    },
    {
     "data": {
      "text/markdown": [
       "<span style='color:grey'>No result</span>"
      ],
      "text/plain": [
       "<IPython.core.display.Markdown object>"
      ]
     },
     "metadata": {},
     "output_type": "display_data"
    },
    {
     "name": "stdout",
     "output_type": "stream",
     "text": [
      "\n",
      "right\n",
      "Sentiment(polarity=0.2857142857142857, subjectivity=0.5357142857142857)\n"
     ]
    },
    {
     "data": {
      "text/markdown": [
       "<span style='color:green'>Positive</span>"
      ],
      "text/plain": [
       "<IPython.core.display.Markdown object>"
      ]
     },
     "metadata": {},
     "output_type": "display_data"
    },
    {
     "name": "stdout",
     "output_type": "stream",
     "text": [
      "elite\n",
      "Sentiment(polarity=0.0, subjectivity=0.0)\n"
     ]
    },
    {
     "data": {
      "text/markdown": [
       "<span style='color:grey'>No result</span>"
      ],
      "text/plain": [
       "<IPython.core.display.Markdown object>"
      ]
     },
     "metadata": {},
     "output_type": "display_data"
    },
    {
     "name": "stdout",
     "output_type": "stream",
     "text": [
      "\n",
      "uganda is bleeding stop funding dictator museveni he is not the president of uganda we voted kyangulanyi ssentamu robert not dictator museveni\n",
      "Sentiment(polarity=0.0, subjectivity=0.0)\n"
     ]
    },
    {
     "data": {
      "text/markdown": [
       "<span style='color:grey'>No result</span>"
      ],
      "text/plain": [
       "<IPython.core.display.Markdown object>"
      ]
     },
     "metadata": {},
     "output_type": "display_data"
    },
    {
     "name": "stdout",
     "output_type": "stream",
     "text": [
      "\n",
      "showing the wrong balance amd not showing recent transactions\n",
      "Sentiment(polarity=-0.25, subjectivity=0.575)\n"
     ]
    },
    {
     "data": {
      "text/markdown": [
       "<span style='color:red'>Negative</span>"
      ],
      "text/plain": [
       "<IPython.core.display.Markdown object>"
      ]
     },
     "metadata": {},
     "output_type": "display_data"
    },
    {
     "name": "stdout",
     "output_type": "stream",
     "text": [
      "its doesn t matter to ugandans because the dictator museveni is eliminating some ethnic groups in uganda because they are more intelligent and patriotic than him a despot killer\n",
      "Sentiment(polarity=0.65, subjectivity=0.7)\n"
     ]
    },
    {
     "data": {
      "text/markdown": [
       "<span style='color:green'>Positive</span>"
      ],
      "text/plain": [
       "<IPython.core.display.Markdown object>"
      ]
     },
     "metadata": {},
     "output_type": "display_data"
    },
    {
     "name": "stdout",
     "output_type": "stream",
     "text": [
      "dealing with museveni a despot dictator is a crime against humanity\n",
      "Sentiment(polarity=0.0, subjectivity=0.0)\n"
     ]
    },
    {
     "data": {
      "text/markdown": [
       "<span style='color:grey'>No result</span>"
      ],
      "text/plain": [
       "<IPython.core.display.Markdown object>"
      ]
     },
     "metadata": {},
     "output_type": "display_data"
    },
    {
     "name": "stdout",
     "output_type": "stream",
     "text": [
      "\n",
      "we aren t having fun in uganda and anyone dealing with museveni who is murdering ugandans because of his selfishness and greed we are tired museveni does not serve ugandans but serves his interests and families this is why he kills citizens like cockroaches its horrible here\n",
      "Sentiment(polarity=-0.3666666666666667, subjectivity=0.6333333333333333)\n"
     ]
    },
    {
     "data": {
      "text/markdown": [
       "<span style='color:red'>Negative</span>"
      ],
      "text/plain": [
       "<IPython.core.display.Markdown object>"
      ]
     },
     "metadata": {},
     "output_type": "display_data"
    },
    {
     "name": "stdout",
     "output_type": "stream",
     "text": [
      "becauseucount\n",
      "Sentiment(polarity=0.0, subjectivity=0.0)\n"
     ]
    },
    {
     "data": {
      "text/markdown": [
       "<span style='color:grey'>No result</span>"
      ],
      "text/plain": [
       "<IPython.core.display.Markdown object>"
      ]
     },
     "metadata": {},
     "output_type": "display_data"
    },
    {
     "name": "stdout",
     "output_type": "stream",
     "text": [
      "\n",
      "what s wrong with your app\n",
      "Sentiment(polarity=-0.5, subjectivity=0.9)\n"
     ]
    },
    {
     "data": {
      "text/markdown": [
       "<span style='color:red'>Negative</span>"
      ],
      "text/plain": [
       "<IPython.core.display.Markdown object>"
      ]
     },
     "metadata": {},
     "output_type": "display_data"
    },
    {
     "name": "stdout",
     "output_type": "stream",
     "text": [
      "atms and eating card that s my third card in their machines\n",
      "Sentiment(polarity=0.0, subjectivity=0.0)\n"
     ]
    },
    {
     "data": {
      "text/markdown": [
       "<span style='color:grey'>No result</span>"
      ],
      "text/plain": [
       "<IPython.core.display.Markdown object>"
      ]
     },
     "metadata": {},
     "output_type": "display_data"
    },
    {
     "name": "stdout",
     "output_type": "stream",
     "text": [
      "\n",
      "standard bank nearly ruined my championsleaguefinal day\n",
      "Sentiment(polarity=0.05, subjectivity=0.2)\n"
     ]
    },
    {
     "data": {
      "text/markdown": [
       "<span style='color:green'>Positive</span>"
      ],
      "text/plain": [
       "<IPython.core.display.Markdown object>"
      ]
     },
     "metadata": {},
     "output_type": "display_data"
    },
    {
     "name": "stdout",
     "output_type": "stream",
     "text": [
      "yo ma se poes\n",
      "Sentiment(polarity=0.0, subjectivity=0.0)\n"
     ]
    },
    {
     "data": {
      "text/markdown": [
       "<span style='color:grey'>No result</span>"
      ],
      "text/plain": [
       "<IPython.core.display.Markdown object>"
      ]
     },
     "metadata": {},
     "output_type": "display_data"
    },
    {
     "name": "stdout",
     "output_type": "stream",
     "text": [
      "\n",
      "i get that broe but capitec allows users to withdraw even at fnb nedbank standard bank atms and many others\n",
      "Sentiment(polarity=0.25, subjectivity=0.25)\n"
     ]
    },
    {
     "data": {
      "text/markdown": [
       "<span style='color:green'>Positive</span>"
      ],
      "text/plain": [
       "<IPython.core.display.Markdown object>"
      ]
     },
     "metadata": {},
     "output_type": "display_data"
    },
    {
     "name": "stdout",
     "output_type": "stream",
     "text": [
      "hi i want to pay my utility bill via app are you under bank approved company on standard bank app\n",
      "Sentiment(polarity=0.0, subjectivity=0.0)\n"
     ]
    },
    {
     "data": {
      "text/markdown": [
       "<span style='color:grey'>No result</span>"
      ],
      "text/plain": [
       "<IPython.core.display.Markdown object>"
      ]
     },
     "metadata": {},
     "output_type": "display_data"
    },
    {
     "name": "stdout",
     "output_type": "stream",
     "text": [
      "\n",
      "dalazy communicate shame most of my problems wrt bank are solved through dm s\n",
      "Sentiment(polarity=0.5, subjectivity=0.5)\n"
     ]
    },
    {
     "data": {
      "text/markdown": [
       "<span style='color:green'>Positive</span>"
      ],
      "text/plain": [
       "<IPython.core.display.Markdown object>"
      ]
     },
     "metadata": {},
     "output_type": "display_data"
    },
    {
     "name": "stdout",
     "output_type": "stream",
     "text": [
      "a and d tiger wheel and tyre\n",
      "Sentiment(polarity=0.0, subjectivity=0.0)\n"
     ]
    },
    {
     "data": {
      "text/markdown": [
       "<span style='color:grey'>No result</span>"
      ],
      "text/plain": [
       "<IPython.core.display.Markdown object>"
      ]
     },
     "metadata": {},
     "output_type": "display_data"
    },
    {
     "name": "stdout",
     "output_type": "stream",
     "text": [
      "\n",
      "he standard bank employee who stole a phone from me in langaville would not park his car outside for me to see\n",
      "Sentiment(polarity=0.0, subjectivity=0.025)\n"
     ]
    },
    {
     "data": {
      "text/markdown": [
       "<span style='color:grey'>No result</span>"
      ],
      "text/plain": [
       "<IPython.core.display.Markdown object>"
      ]
     },
     "metadata": {},
     "output_type": "display_data"
    },
    {
     "name": "stdout",
     "output_type": "stream",
     "text": [
      "\n",
      "money may not unlock happiness but getting on top of your finances leaves more room to focus on things that do bring you joy next up facilitated conversation with and on the secrets to lifelong financialsuccess kbf\n",
      "Sentiment(polarity=0.39999999999999997, subjectivity=0.3333333333333333)\n"
     ]
    },
    {
     "data": {
      "text/markdown": [
       "<span style='color:green'>Positive</span>"
      ],
      "text/plain": [
       "<IPython.core.display.Markdown object>"
      ]
     },
     "metadata": {},
     "output_type": "display_data"
    },
    {
     "name": "stdout",
     "output_type": "stream",
     "text": [
      "in the spirit of being no we ve been nominated for the standard bank group kzn top business brand award here s how you can vote if you d like to get involved sms charged at r per sms kzntopbrand kznsno\n",
      "Sentiment(polarity=0.25, subjectivity=0.25)\n"
     ]
    },
    {
     "data": {
      "text/markdown": [
       "<span style='color:green'>Positive</span>"
      ],
      "text/plain": [
       "<IPython.core.display.Markdown object>"
      ]
     },
     "metadata": {},
     "output_type": "display_data"
    },
    {
     "name": "stdout",
     "output_type": "stream",
     "text": [
      "still no contact from your team when will someone reach out to me you said it would be yesterday\n",
      "Sentiment(polarity=0.0, subjectivity=0.0)\n"
     ]
    },
    {
     "data": {
      "text/markdown": [
       "<span style='color:grey'>No result</span>"
      ],
      "text/plain": [
       "<IPython.core.display.Markdown object>"
      ]
     },
     "metadata": {},
     "output_type": "display_data"
    },
    {
     "name": "stdout",
     "output_type": "stream",
     "text": [
      "\n",
      "za my standard bank instant money voucher was sent without a cash collection pin and today is the second day of me enquiring about it but i m still not getting any help\n",
      "Sentiment(polarity=0.0, subjectivity=0.2222222222222222)\n"
     ]
    },
    {
     "data": {
      "text/markdown": [
       "<span style='color:grey'>No result</span>"
      ],
      "text/plain": [
       "<IPython.core.display.Markdown object>"
      ]
     },
     "metadata": {},
     "output_type": "display_data"
    },
    {
     "name": "stdout",
     "output_type": "stream",
     "text": [
      "\n",
      "maybe it is time to look to the future hbar backed by group\n",
      "Sentiment(polarity=0.0, subjectivity=0.125)\n"
     ]
    },
    {
     "data": {
      "text/markdown": [
       "<span style='color:grey'>No result</span>"
      ],
      "text/plain": [
       "<IPython.core.display.Markdown object>"
      ]
     },
     "metadata": {},
     "output_type": "display_data"
    },
    {
     "name": "stdout",
     "output_type": "stream",
     "text": [
      "\n",
      "i think nedbank fnb standard bank and absa are in groot kak yesterday i tried to draw money at all their atm s and i got the same message insufficient funds\n",
      "Sentiment(polarity=0.0, subjectivity=0.0625)\n"
     ]
    },
    {
     "data": {
      "text/markdown": [
       "<span style='color:grey'>No result</span>"
      ],
      "text/plain": [
       "<IPython.core.display.Markdown object>"
      ]
     },
     "metadata": {},
     "output_type": "display_data"
    },
    {
     "name": "stdout",
     "output_type": "stream",
     "text": [
      "\n",
      "i was called by someone who said he works at standard bank and i want me to confirm my details but when i ask what s in connection with he said he can t tell me until i confirm my details please assist is these how your consultant do\n",
      "Sentiment(polarity=0.0, subjectivity=0.0)\n"
     ]
    },
    {
     "data": {
      "text/markdown": [
       "<span style='color:grey'>No result</span>"
      ],
      "text/plain": [
       "<IPython.core.display.Markdown object>"
      ]
     },
     "metadata": {},
     "output_type": "display_data"
    },
    {
     "name": "stdout",
     "output_type": "stream",
     "text": [
      "\n",
      "i thought le sogela standard bank\n",
      "Sentiment(polarity=0.0, subjectivity=0.0)\n"
     ]
    },
    {
     "data": {
      "text/markdown": [
       "<span style='color:grey'>No result</span>"
      ],
      "text/plain": [
       "<IPython.core.display.Markdown object>"
      ]
     },
     "metadata": {},
     "output_type": "display_data"
    },
    {
     "name": "stdout",
     "output_type": "stream",
     "text": [
      "\n",
      "it is more likely to say this xpool would redefine or perhaps be recognized as a coming model bank a cult product on the launchzone ecosystem with all of the functions associated with a standard bank but much greater income for buyers launchzone\n",
      "Sentiment(polarity=0.25, subjectivity=0.5)\n"
     ]
    },
    {
     "data": {
      "text/markdown": [
       "<span style='color:green'>Positive</span>"
      ],
      "text/plain": [
       "<IPython.core.display.Markdown object>"
      ]
     },
     "metadata": {},
     "output_type": "display_data"
    },
    {
     "name": "stdout",
     "output_type": "stream",
     "text": [
      "gtao pacific standard bank heist signal setup ps gta\n",
      "Sentiment(polarity=0.0, subjectivity=0.0)\n"
     ]
    },
    {
     "data": {
      "text/markdown": [
       "<span style='color:grey'>No result</span>"
      ],
      "text/plain": [
       "<IPython.core.display.Markdown object>"
      ]
     },
     "metadata": {},
     "output_type": "display_data"
    },
    {
     "name": "stdout",
     "output_type": "stream",
     "text": [
      "\n",
      "how does it take for sb to communicate it s decision regarding a bond application\n",
      "Sentiment(polarity=0.0, subjectivity=0.0)\n"
     ]
    },
    {
     "data": {
      "text/markdown": [
       "<span style='color:grey'>No result</span>"
      ],
      "text/plain": [
       "<IPython.core.display.Markdown object>"
      ]
     },
     "metadata": {},
     "output_type": "display_data"
    },
    {
     "name": "stdout",
     "output_type": "stream",
     "text": [
      "\n",
      "becauseucount\n",
      "Sentiment(polarity=0.0, subjectivity=0.0)\n"
     ]
    },
    {
     "data": {
      "text/markdown": [
       "<span style='color:grey'>No result</span>"
      ],
      "text/plain": [
       "<IPython.core.display.Markdown object>"
      ]
     },
     "metadata": {},
     "output_type": "display_data"
    },
    {
     "name": "stdout",
     "output_type": "stream",
     "text": [
      "\n",
      "becauseucount\n",
      "Sentiment(polarity=0.0, subjectivity=0.0)\n"
     ]
    },
    {
     "data": {
      "text/markdown": [
       "<span style='color:grey'>No result</span>"
      ],
      "text/plain": [
       "<IPython.core.display.Markdown object>"
      ]
     },
     "metadata": {},
     "output_type": "display_data"
    },
    {
     "name": "stdout",
     "output_type": "stream",
     "text": [
      "\n",
      "check dm\n",
      "Sentiment(polarity=0.0, subjectivity=0.0)\n"
     ]
    },
    {
     "data": {
      "text/markdown": [
       "<span style='color:grey'>No result</span>"
      ],
      "text/plain": [
       "<IPython.core.display.Markdown object>"
      ]
     },
     "metadata": {},
     "output_type": "display_data"
    },
    {
     "name": "stdout",
     "output_type": "stream",
     "text": [
      "\n",
      "in addition to all the dangers of eacop mentioned the income from it will be used to buy more guns build more torture chambers and drones\n",
      "Sentiment(polarity=0.5, subjectivity=0.5)\n"
     ]
    },
    {
     "data": {
      "text/markdown": [
       "<span style='color:green'>Positive</span>"
      ],
      "text/plain": [
       "<IPython.core.display.Markdown object>"
      ]
     },
     "metadata": {},
     "output_type": "display_data"
    },
    {
     "name": "stdout",
     "output_type": "stream",
     "text": [
      "my cash just retracted at an atm how do i get it back\n",
      "Sentiment(polarity=0.0, subjectivity=0.0)\n"
     ]
    },
    {
     "data": {
      "text/markdown": [
       "<span style='color:grey'>No result</span>"
      ],
      "text/plain": [
       "<IPython.core.display.Markdown object>"
      ]
     },
     "metadata": {},
     "output_type": "display_data"
    },
    {
     "name": "stdout",
     "output_type": "stream",
     "text": [
      "\n",
      "i doubt it is a good idea to share my banking details online why not ask your internet banking team why you baking is wonky and not working as it is supposed to\n",
      "Sentiment(polarity=0.19999999999999998, subjectivity=0.45000000000000007)\n"
     ]
    },
    {
     "data": {
      "text/markdown": [
       "<span style='color:green'>Positive</span>"
      ],
      "text/plain": [
       "<IPython.core.display.Markdown object>"
      ]
     },
     "metadata": {},
     "output_type": "display_data"
    },
    {
     "name": "stdout",
     "output_type": "stream",
     "text": [
      "well is the atm fixed am i supposed to go km out of my way to make a payment can t even call and ask because there s no branch contact have to talk to call centre who have no idea what s going on pathetic\n",
      "Sentiment(polarity=-0.45, subjectivity=0.6)\n"
     ]
    },
    {
     "data": {
      "text/markdown": [
       "<span style='color:red'>Negative</span>"
      ],
      "text/plain": [
       "<IPython.core.display.Markdown object>"
      ]
     },
     "metadata": {},
     "output_type": "display_data"
    },
    {
     "name": "stdout",
     "output_type": "stream",
     "text": [
      "live nesta segunda feira s h nat lia dias do standard bank brasil e alexandre espirito santo da falam com sobre o risco fiscal trazido pela poss vel volta do aux lio emergencial e as elei es se aproximando\n",
      "Sentiment(polarity=0.06818181818181818, subjectivity=0.25)\n"
     ]
    },
    {
     "data": {
      "text/markdown": [
       "<span style='color:green'>Positive</span>"
      ],
      "text/plain": [
       "<IPython.core.display.Markdown object>"
      ]
     },
     "metadata": {},
     "output_type": "display_data"
    },
    {
     "name": "stdout",
     "output_type": "stream",
     "text": [
      "no trying to transact on internet banking and wanting to access the taxfree investment account not the savings account it is gone missing in action\n",
      "Sentiment(polarity=-0.05, subjectivity=0.07500000000000001)\n"
     ]
    },
    {
     "data": {
      "text/markdown": [
       "<span style='color:red'>Negative</span>"
      ],
      "text/plain": [
       "<IPython.core.display.Markdown object>"
      ]
     },
     "metadata": {},
     "output_type": "display_data"
    },
    {
     "name": "stdout",
     "output_type": "stream",
     "text": [
      "s phased out standard bank still offers hey\n",
      "Sentiment(polarity=0.05, subjectivity=0.0)\n"
     ]
    },
    {
     "data": {
      "text/markdown": [
       "<span style='color:green'>Positive</span>"
      ],
      "text/plain": [
       "<IPython.core.display.Markdown object>"
      ]
     },
     "metadata": {},
     "output_type": "display_data"
    },
    {
     "name": "stdout",
     "output_type": "stream",
     "text": [
      "beacouseucount\n",
      "Sentiment(polarity=0.0, subjectivity=0.0)\n"
     ]
    },
    {
     "data": {
      "text/markdown": [
       "<span style='color:grey'>No result</span>"
      ],
      "text/plain": [
       "<IPython.core.display.Markdown object>"
      ]
     },
     "metadata": {},
     "output_type": "display_data"
    },
    {
     "name": "stdout",
     "output_type": "stream",
     "text": [
      "\n",
      "hi sisi i have fnb standard bank and nedbank i can provide details depending on your bank if you use none of these i will provide my fnb acc details\n",
      "Sentiment(polarity=0.0, subjectivity=0.0)\n"
     ]
    },
    {
     "data": {
      "text/markdown": [
       "<span style='color:grey'>No result</span>"
      ],
      "text/plain": [
       "<IPython.core.display.Markdown object>"
      ]
     },
     "metadata": {},
     "output_type": "display_data"
    },
    {
     "name": "stdout",
     "output_type": "stream",
     "text": [
      "\n",
      "how s standard bank s online banking experience\n",
      "Sentiment(polarity=0.0, subjectivity=0.0)\n"
     ]
    },
    {
     "data": {
      "text/markdown": [
       "<span style='color:grey'>No result</span>"
      ],
      "text/plain": [
       "<IPython.core.display.Markdown object>"
      ]
     },
     "metadata": {},
     "output_type": "display_data"
    },
    {
     "name": "stdout",
     "output_type": "stream",
     "text": [
      "\n",
      "becauseucount\n",
      "Sentiment(polarity=0.0, subjectivity=0.0)\n"
     ]
    },
    {
     "data": {
      "text/markdown": [
       "<span style='color:grey'>No result</span>"
      ],
      "text/plain": [
       "<IPython.core.display.Markdown object>"
      ]
     },
     "metadata": {},
     "output_type": "display_data"
    },
    {
     "name": "stdout",
     "output_type": "stream",
     "text": [
      "\n",
      "becauseucount\n",
      "Sentiment(polarity=0.0, subjectivity=0.0)\n"
     ]
    },
    {
     "data": {
      "text/markdown": [
       "<span style='color:grey'>No result</span>"
      ],
      "text/plain": [
       "<IPython.core.display.Markdown object>"
      ]
     },
     "metadata": {},
     "output_type": "display_data"
    },
    {
     "name": "stdout",
     "output_type": "stream",
     "text": [
      "\n",
      "becauseucount\n",
      "Sentiment(polarity=0.0, subjectivity=0.0)\n"
     ]
    },
    {
     "data": {
      "text/markdown": [
       "<span style='color:grey'>No result</span>"
      ],
      "text/plain": [
       "<IPython.core.display.Markdown object>"
      ]
     },
     "metadata": {},
     "output_type": "display_data"
    },
    {
     "name": "stdout",
     "output_type": "stream",
     "text": [
      "\n",
      "are you in your final year of studying or just kicked off your career let us know here could help you make real influence on your career with r k sign up for a professional banking account you could win r k itcanbe ts cs apply\n",
      "Sentiment(polarity=0.275, subjectivity=0.45000000000000007)\n"
     ]
    },
    {
     "data": {
      "text/markdown": [
       "<span style='color:green'>Positive</span>"
      ],
      "text/plain": [
       "<IPython.core.display.Markdown object>"
      ]
     },
     "metadata": {},
     "output_type": "display_data"
    },
    {
     "name": "stdout",
     "output_type": "stream",
     "text": [
      "becauseucount\n",
      "Sentiment(polarity=0.0, subjectivity=0.0)\n"
     ]
    },
    {
     "data": {
      "text/markdown": [
       "<span style='color:grey'>No result</span>"
      ],
      "text/plain": [
       "<IPython.core.display.Markdown object>"
      ]
     },
     "metadata": {},
     "output_type": "display_data"
    },
    {
     "name": "stdout",
     "output_type": "stream",
     "text": [
      "\n",
      "he funded a stock trading program for wits students at standard bank their now all experts at selling us down the river i think thuma mina unbundling\n",
      "Sentiment(polarity=-0.07777777777777779, subjectivity=0.14444444444444446)\n"
     ]
    },
    {
     "data": {
      "text/markdown": [
       "<span style='color:red'>Negative</span>"
      ],
      "text/plain": [
       "<IPython.core.display.Markdown object>"
      ]
     },
     "metadata": {},
     "output_type": "display_data"
    },
    {
     "name": "stdout",
     "output_type": "stream",
     "text": [
      "ntusi colgate capitec standard bank\n",
      "Sentiment(polarity=0.0, subjectivity=0.0)\n"
     ]
    },
    {
     "data": {
      "text/markdown": [
       "<span style='color:grey'>No result</span>"
      ],
      "text/plain": [
       "<IPython.core.display.Markdown object>"
      ]
     },
     "metadata": {},
     "output_type": "display_data"
    },
    {
     "name": "stdout",
     "output_type": "stream",
     "text": [
      "\n",
      "and again your tax free share section on internet banking is mia useless standardwanknotbank\n",
      "Sentiment(polarity=-0.04999999999999999, subjectivity=0.5)\n"
     ]
    },
    {
     "data": {
      "text/markdown": [
       "<span style='color:red'>Negative</span>"
      ],
      "text/plain": [
       "<IPython.core.display.Markdown object>"
      ]
     },
     "metadata": {},
     "output_type": "display_data"
    },
    {
     "name": "stdout",
     "output_type": "stream",
     "text": [
      "did that twice\n",
      "Sentiment(polarity=0.0, subjectivity=0.0)\n"
     ]
    },
    {
     "data": {
      "text/markdown": [
       "<span style='color:grey'>No result</span>"
      ],
      "text/plain": [
       "<IPython.core.display.Markdown object>"
      ]
     },
     "metadata": {},
     "output_type": "display_data"
    },
    {
     "name": "stdout",
     "output_type": "stream",
     "text": [
      "\n",
      "gtao mc pacific standard bank heist bikes setup ps gta\n",
      "Sentiment(polarity=0.0, subjectivity=0.0)\n"
     ]
    },
    {
     "data": {
      "text/markdown": [
       "<span style='color:grey'>No result</span>"
      ],
      "text/plain": [
       "<IPython.core.display.Markdown object>"
      ]
     },
     "metadata": {},
     "output_type": "display_data"
    },
    {
     "name": "stdout",
     "output_type": "stream",
     "text": [
      "\n",
      "no i try signing in then the app just takes me back to the home page\n",
      "Sentiment(polarity=0.0, subjectivity=0.0)\n"
     ]
    },
    {
     "data": {
      "text/markdown": [
       "<span style='color:grey'>No result</span>"
      ],
      "text/plain": [
       "<IPython.core.display.Markdown object>"
      ]
     },
     "metadata": {},
     "output_type": "display_data"
    },
    {
     "name": "stdout",
     "output_type": "stream",
     "text": [
      "\n",
      "i can t log in my app\n",
      "Sentiment(polarity=0.0, subjectivity=0.0)\n"
     ]
    },
    {
     "data": {
      "text/markdown": [
       "<span style='color:grey'>No result</span>"
      ],
      "text/plain": [
       "<IPython.core.display.Markdown object>"
      ]
     },
     "metadata": {},
     "output_type": "display_data"
    },
    {
     "name": "stdout",
     "output_type": "stream",
     "text": [
      "\n",
      "stop financing the eacop in we are not safe\n",
      "Sentiment(polarity=-0.25, subjectivity=0.5)\n"
     ]
    },
    {
     "data": {
      "text/markdown": [
       "<span style='color:red'>Negative</span>"
      ],
      "text/plain": [
       "<IPython.core.display.Markdown object>"
      ]
     },
     "metadata": {},
     "output_type": "display_data"
    },
    {
     "name": "stdout",
     "output_type": "stream",
     "text": [
      "is standard bank app down nah standardbank\n",
      "Sentiment(polarity=-0.07777777777777779, subjectivity=0.14444444444444446)\n"
     ]
    },
    {
     "data": {
      "text/markdown": [
       "<span style='color:red'>Negative</span>"
      ],
      "text/plain": [
       "<IPython.core.display.Markdown object>"
      ]
     },
     "metadata": {},
     "output_type": "display_data"
    },
    {
     "name": "stdout",
     "output_type": "stream",
     "text": [
      "yes you guys keep raising the issue while wasting client s time because we all have so much of it to waste this is an every week issue either upgrade the atm s or lower the kb branch deposit fees because this is ridiculous patheticservice itcantbe notsimplerbetterorfaster\n",
      "Sentiment(polarity=-0.26666666666666666, subjectivity=0.5)\n"
     ]
    },
    {
     "data": {
      "text/markdown": [
       "<span style='color:red'>Negative</span>"
      ],
      "text/plain": [
       "<IPython.core.display.Markdown object>"
      ]
     },
     "metadata": {},
     "output_type": "display_data"
    },
    {
     "name": "stdout",
     "output_type": "stream",
     "text": [
      "i did that just now and it worked thank you but i didn t know i must reboot my phone to keep app working\n",
      "Sentiment(polarity=0.0, subjectivity=0.0)\n"
     ]
    },
    {
     "data": {
      "text/markdown": [
       "<span style='color:grey'>No result</span>"
      ],
      "text/plain": [
       "<IPython.core.display.Markdown object>"
      ]
     },
     "metadata": {},
     "output_type": "display_data"
    },
    {
     "name": "stdout",
     "output_type": "stream",
     "text": [
      "\n",
      "please assist customer has positive balance with and they are refusing to give her money and they ask her for proof of payment which she has deleted months ago i am disgusted with their service\n",
      "Sentiment(polarity=-0.38636363636363635, subjectivity=0.7727272727272727)\n"
     ]
    },
    {
     "data": {
      "text/markdown": [
       "<span style='color:red'>Negative</span>"
      ],
      "text/plain": [
       "<IPython.core.display.Markdown object>"
      ]
     },
     "metadata": {},
     "output_type": "display_data"
    },
    {
     "name": "stdout",
     "output_type": "stream",
     "text": [
      "absolutely disgusted by your services the vaf account is on positive you want proof of payment to give the customer their money for what exactly my family will be closing all their accounts and we will not refinance with std bank\n",
      "Sentiment(polarity=-0.17424242424242423, subjectivity=0.5984848484848485)\n"
     ]
    },
    {
     "data": {
      "text/markdown": [
       "<span style='color:red'>Negative</span>"
      ],
      "text/plain": [
       "<IPython.core.display.Markdown object>"
      ]
     },
     "metadata": {},
     "output_type": "display_data"
    },
    {
     "name": "stdout",
     "output_type": "stream",
     "text": [
      "supporting the dictator is increasing the suffering of innocent ugandans\n",
      "Sentiment(polarity=0.375, subjectivity=0.475)\n"
     ]
    },
    {
     "data": {
      "text/markdown": [
       "<span style='color:green'>Positive</span>"
      ],
      "text/plain": [
       "<IPython.core.display.Markdown object>"
      ]
     },
     "metadata": {},
     "output_type": "display_data"
    },
    {
     "name": "stdout",
     "output_type": "stream",
     "text": [
      "we on\n",
      "Sentiment(polarity=0.0, subjectivity=0.0)\n"
     ]
    },
    {
     "data": {
      "text/markdown": [
       "<span style='color:grey'>No result</span>"
      ],
      "text/plain": [
       "<IPython.core.display.Markdown object>"
      ]
     },
     "metadata": {},
     "output_type": "display_data"
    },
    {
     "name": "stdout",
     "output_type": "stream",
     "text": [
      "\n",
      "museveni free all political prisoners country wide in uganda\n",
      "Sentiment(polarity=0.10000000000000002, subjectivity=0.43333333333333335)\n"
     ]
    },
    {
     "data": {
      "text/markdown": [
       "<span style='color:green'>Positive</span>"
      ],
      "text/plain": [
       "<IPython.core.display.Markdown object>"
      ]
     },
     "metadata": {},
     "output_type": "display_data"
    },
    {
     "name": "stdout",
     "output_type": "stream",
     "text": [
      "once again norwood mall atm s aren t working shame on you for forcing clients to use the atm but how since they re never online you don t take service seriously pathetic for a bank who thinks they re helping what a waste itcantbe should be the new slogan\n",
      "Sentiment(polarity=-0.3545454545454545, subjectivity=0.48484848484848486)\n"
     ]
    },
    {
     "data": {
      "text/markdown": [
       "<span style='color:red'>Negative</span>"
      ],
      "text/plain": [
       "<IPython.core.display.Markdown object>"
      ]
     },
     "metadata": {},
     "output_type": "display_data"
    },
    {
     "name": "stdout",
     "output_type": "stream",
     "text": [
      "i don t see myself goin to for household insurance\n",
      "Sentiment(polarity=0.0, subjectivity=0.0)\n"
     ]
    },
    {
     "data": {
      "text/markdown": [
       "<span style='color:grey'>No result</span>"
      ],
      "text/plain": [
       "<IPython.core.display.Markdown object>"
      ]
     },
     "metadata": {},
     "output_type": "display_data"
    },
    {
     "name": "stdout",
     "output_type": "stream",
     "text": [
      "\n",
      "becauseucount kids\n",
      "Sentiment(polarity=0.0, subjectivity=0.0)\n"
     ]
    },
    {
     "data": {
      "text/markdown": [
       "<span style='color:grey'>No result</span>"
      ],
      "text/plain": [
       "<IPython.core.display.Markdown object>"
      ]
     },
     "metadata": {},
     "output_type": "display_data"
    },
    {
     "name": "stdout",
     "output_type": "stream",
     "text": [
      "\n",
      "becauseucount\n",
      "Sentiment(polarity=0.0, subjectivity=0.0)\n"
     ]
    },
    {
     "data": {
      "text/markdown": [
       "<span style='color:grey'>No result</span>"
      ],
      "text/plain": [
       "<IPython.core.display.Markdown object>"
      ]
     },
     "metadata": {},
     "output_type": "display_data"
    },
    {
     "name": "stdout",
     "output_type": "stream",
     "text": [
      "\n",
      "becauseucount\n",
      "Sentiment(polarity=0.0, subjectivity=0.0)\n"
     ]
    },
    {
     "data": {
      "text/markdown": [
       "<span style='color:grey'>No result</span>"
      ],
      "text/plain": [
       "<IPython.core.display.Markdown object>"
      ]
     },
     "metadata": {},
     "output_type": "display_data"
    },
    {
     "name": "stdout",
     "output_type": "stream",
     "text": [
      "\n",
      "catch family feud tomorrow at pm on e t v proudly brought to you by kfc familyfeudafrica familyfeudsa kfcsa frythefeud itcanbe puresave etvonline rapidbluetv\n",
      "Sentiment(polarity=0.8, subjectivity=1.0)\n"
     ]
    },
    {
     "data": {
      "text/markdown": [
       "<span style='color:green'>Positive</span>"
      ],
      "text/plain": [
       "<IPython.core.display.Markdown object>"
      ]
     },
     "metadata": {},
     "output_type": "display_data"
    },
    {
     "name": "stdout",
     "output_type": "stream",
     "text": [
      "becauseucount\n",
      "Sentiment(polarity=0.0, subjectivity=0.0)\n"
     ]
    },
    {
     "data": {
      "text/markdown": [
       "<span style='color:grey'>No result</span>"
      ],
      "text/plain": [
       "<IPython.core.display.Markdown object>"
      ]
     },
     "metadata": {},
     "output_type": "display_data"
    },
    {
     "name": "stdout",
     "output_type": "stream",
     "text": [
      "\n",
      "press he knows establishment of state bank will collupse these banks these banks don t want competitor they know state employees will banking with state bank also be getting housing loans at a lower interest rate\n",
      "Sentiment(polarity=0.0, subjectivity=0.0)\n"
     ]
    },
    {
     "data": {
      "text/markdown": [
       "<span style='color:grey'>No result</span>"
      ],
      "text/plain": [
       "<IPython.core.display.Markdown object>"
      ]
     },
     "metadata": {},
     "output_type": "display_data"
    },
    {
     "name": "stdout",
     "output_type": "stream",
     "text": [
      "\n",
      "hello mathete standard bank is already well engaged with several new payments vendors and partners in order for our clients to have access to the most recent digital tap to pay services as well as online partner payment systems expect further announcements in the near future\n",
      "Sentiment(polarity=0.08181818181818182, subjectivity=0.2477272727272727)\n"
     ]
    },
    {
     "data": {
      "text/markdown": [
       "<span style='color:green'>Positive</span>"
      ],
      "text/plain": [
       "<IPython.core.display.Markdown object>"
      ]
     },
     "metadata": {},
     "output_type": "display_data"
    },
    {
     "name": "stdout",
     "output_type": "stream",
     "text": [
      "we are still waiting for applepay\n",
      "Sentiment(polarity=0.0, subjectivity=0.0)\n"
     ]
    },
    {
     "data": {
      "text/markdown": [
       "<span style='color:grey'>No result</span>"
      ],
      "text/plain": [
       "<IPython.core.display.Markdown object>"
      ]
     },
     "metadata": {},
     "output_type": "display_data"
    },
    {
     "name": "stdout",
     "output_type": "stream",
     "text": [
      "\n",
      "it simply not running whole day yesterday again today every other app on my phone is working except my banks app\n",
      "Sentiment(polarity=0.025000000000000005, subjectivity=0.3773809523809524)\n"
     ]
    },
    {
     "data": {
      "text/markdown": [
       "<span style='color:green'>Positive</span>"
      ],
      "text/plain": [
       "<IPython.core.display.Markdown object>"
      ]
     },
     "metadata": {},
     "output_type": "display_data"
    },
    {
     "name": "stdout",
     "output_type": "stream",
     "text": [
      "boy happy shopping\n",
      "Sentiment(polarity=0.8, subjectivity=1.0)\n"
     ]
    },
    {
     "data": {
      "text/markdown": [
       "<span style='color:green'>Positive</span>"
      ],
      "text/plain": [
       "<IPython.core.display.Markdown object>"
      ]
     },
     "metadata": {},
     "output_type": "display_data"
    },
    {
     "name": "stdout",
     "output_type": "stream",
     "text": [
      "mothersday by buying some fleece blankets\n",
      "Sentiment(polarity=0.0, subjectivity=0.0)\n"
     ]
    },
    {
     "data": {
      "text/markdown": [
       "<span style='color:grey'>No result</span>"
      ],
      "text/plain": [
       "<IPython.core.display.Markdown object>"
      ]
     },
     "metadata": {},
     "output_type": "display_data"
    },
    {
     "name": "stdout",
     "output_type": "stream",
     "text": [
      "\n",
      "stopeacop midosuke\n",
      "Sentiment(polarity=0.0, subjectivity=0.0)\n"
     ]
    },
    {
     "data": {
      "text/markdown": [
       "<span style='color:grey'>No result</span>"
      ],
      "text/plain": [
       "<IPython.core.display.Markdown object>"
      ]
     },
     "metadata": {},
     "output_type": "display_data"
    },
    {
     "name": "stdout",
     "output_type": "stream",
     "text": [
      "\n",
      "becauseucount\n",
      "Sentiment(polarity=0.0, subjectivity=0.0)\n"
     ]
    },
    {
     "data": {
      "text/markdown": [
       "<span style='color:grey'>No result</span>"
      ],
      "text/plain": [
       "<IPython.core.display.Markdown object>"
      ]
     },
     "metadata": {},
     "output_type": "display_data"
    },
    {
     "name": "stdout",
     "output_type": "stream",
     "text": [
      "\n",
      "we request not to fund oil pipeline since former president of uganda museveni is killing innocent ugandans and using money to buy guns ammunition to kill innocent ugandans the president elect of uganda is kyagulanyi robert ssentamu\n",
      "Sentiment(polarity=0.45, subjectivity=0.575)\n"
     ]
    },
    {
     "data": {
      "text/markdown": [
       "<span style='color:green'>Positive</span>"
      ],
      "text/plain": [
       "<IPython.core.display.Markdown object>"
      ]
     },
     "metadata": {},
     "output_type": "display_data"
    },
    {
     "name": "stdout",
     "output_type": "stream",
     "text": [
      "financing a new oil pipeline in the midst of a dimateemergency is grossly irresponsible don t finance the east african crude oil pipeline promote investment in clean energy for east africa instead stopeacop\n",
      "Sentiment(polarity=-0.039393939393939384, subjectivity=0.43090909090909096)\n"
     ]
    },
    {
     "data": {
      "text/markdown": [
       "<span style='color:red'>Negative</span>"
      ],
      "text/plain": [
       "<IPython.core.display.Markdown object>"
      ]
     },
     "metadata": {},
     "output_type": "display_data"
    },
    {
     "name": "stdout",
     "output_type": "stream",
     "text": [
      "what the hell is going on from yesterday app is not responding\n",
      "Sentiment(polarity=0.0, subjectivity=0.0)\n"
     ]
    },
    {
     "data": {
      "text/markdown": [
       "<span style='color:grey'>No result</span>"
      ],
      "text/plain": [
       "<IPython.core.display.Markdown object>"
      ]
     },
     "metadata": {},
     "output_type": "display_data"
    },
    {
     "name": "stdout",
     "output_type": "stream",
     "text": [
      "\n",
      "knowing how difficult it has been for me to get here this is a dream come true thank you especially and the best is yet to come thank god i didn t give up\n",
      "Sentiment(polarity=0.2125, subjectivity=0.7374999999999999)\n"
     ]
    },
    {
     "data": {
      "text/markdown": [
       "<span style='color:green'>Positive</span>"
      ],
      "text/plain": [
       "<IPython.core.display.Markdown object>"
      ]
     },
     "metadata": {},
     "output_type": "display_data"
    },
    {
     "name": "stdout",
     "output_type": "stream",
     "text": [
      "standard bank of malawi khatweebu daud sbicmwmx\n",
      "Sentiment(polarity=0.0, subjectivity=0.0)\n"
     ]
    },
    {
     "data": {
      "text/markdown": [
       "<span style='color:grey'>No result</span>"
      ],
      "text/plain": [
       "<IPython.core.display.Markdown object>"
      ]
     },
     "metadata": {},
     "output_type": "display_data"
    },
    {
     "name": "stdout",
     "output_type": "stream",
     "text": [
      "\n",
      "you can deceive man not nature god\n",
      "Sentiment(polarity=0.0, subjectivity=0.0)\n"
     ]
    },
    {
     "data": {
      "text/markdown": [
       "<span style='color:grey'>No result</span>"
      ],
      "text/plain": [
       "<IPython.core.display.Markdown object>"
      ]
     },
     "metadata": {},
     "output_type": "display_data"
    },
    {
     "name": "stdout",
     "output_type": "stream",
     "text": [
      "\n",
      "with you get real time rewards with ucount here i come\n",
      "Sentiment(polarity=0.2, subjectivity=0.30000000000000004)\n"
     ]
    },
    {
     "data": {
      "text/markdown": [
       "<span style='color:green'>Positive</span>"
      ],
      "text/plain": [
       "<IPython.core.display.Markdown object>"
      ]
     },
     "metadata": {},
     "output_type": "display_data"
    },
    {
     "name": "stdout",
     "output_type": "stream",
     "text": [
      "fuel up pay with your qualifying card earn ucount rewards points startatcaltex\n",
      "Sentiment(polarity=0.0, subjectivity=0.0)\n"
     ]
    },
    {
     "data": {
      "text/markdown": [
       "<span style='color:grey'>No result</span>"
      ],
      "text/plain": [
       "<IPython.core.display.Markdown object>"
      ]
     },
     "metadata": {},
     "output_type": "display_data"
    },
    {
     "name": "stdout",
     "output_type": "stream",
     "text": [
      "\n",
      "i ve added my pic to the stopeacop selfie wall add yours together we ll make sure and shareholders have to face the people ahead of their agms\n",
      "Sentiment(polarity=0.5, subjectivity=0.8888888888888888)\n"
     ]
    },
    {
     "data": {
      "text/markdown": [
       "<span style='color:green'>Positive</span>"
      ],
      "text/plain": [
       "<IPython.core.display.Markdown object>"
      ]
     },
     "metadata": {},
     "output_type": "display_data"
    },
    {
     "name": "stdout",
     "output_type": "stream",
     "text": [
      "becauseucount becauseucount becauseucount\n",
      "Sentiment(polarity=0.0, subjectivity=0.0)\n"
     ]
    },
    {
     "data": {
      "text/markdown": [
       "<span style='color:grey'>No result</span>"
      ],
      "text/plain": [
       "<IPython.core.display.Markdown object>"
      ]
     },
     "metadata": {},
     "output_type": "display_data"
    },
    {
     "name": "stdout",
     "output_type": "stream",
     "text": [
      "\n",
      "i can t seem to find this share scheme on the securities online share trading platform please advise\n",
      "Sentiment(polarity=0.0, subjectivity=0.0)\n"
     ]
    },
    {
     "data": {
      "text/markdown": [
       "<span style='color:grey'>No result</span>"
      ],
      "text/plain": [
       "<IPython.core.display.Markdown object>"
      ]
     },
     "metadata": {},
     "output_type": "display_data"
    },
    {
     "name": "stdout",
     "output_type": "stream",
     "text": [
      "\n",
      "we can t eat oil stopeacop don t fund eacop\n",
      "Sentiment(polarity=0.0, subjectivity=0.0)\n"
     ]
    },
    {
     "data": {
      "text/markdown": [
       "<span style='color:grey'>No result</span>"
      ],
      "text/plain": [
       "<IPython.core.display.Markdown object>"
      ]
     },
     "metadata": {},
     "output_type": "display_data"
    },
    {
     "name": "stdout",
     "output_type": "stream",
     "text": [
      "\n",
      "boycott stanbic bank uganda\n",
      "Sentiment(polarity=0.0, subjectivity=0.0)\n"
     ]
    },
    {
     "data": {
      "text/markdown": [
       "<span style='color:grey'>No result</span>"
      ],
      "text/plain": [
       "<IPython.core.display.Markdown object>"
      ]
     },
     "metadata": {},
     "output_type": "display_data"
    },
    {
     "name": "stdout",
     "output_type": "stream",
     "text": [
      "\n",
      "let s just boycott since standard bank is the parent company\n",
      "Sentiment(polarity=0.0, subjectivity=0.0)\n"
     ]
    },
    {
     "data": {
      "text/markdown": [
       "<span style='color:grey'>No result</span>"
      ],
      "text/plain": [
       "<IPython.core.display.Markdown object>"
      ]
     },
     "metadata": {},
     "output_type": "display_data"
    },
    {
     "name": "stdout",
     "output_type": "stream",
     "text": [
      "\n",
      "we re pushing for a grand boycott of if you go ahead and finance that eacop project in uganda you re creating disputes be it economic land and political dilema out of that oil curse back off uganda\n",
      "Sentiment(polarity=0.175, subjectivity=0.325)\n"
     ]
    },
    {
     "data": {
      "text/markdown": [
       "<span style='color:green'>Positive</span>"
      ],
      "text/plain": [
       "<IPython.core.display.Markdown object>"
      ]
     },
     "metadata": {},
     "output_type": "display_data"
    },
    {
     "name": "stdout",
     "output_type": "stream",
     "text": [
      "burning more crude oil is the last thing our planet needs eacop will increase the severity of the global climateemergency by transportation oil that will generate over million tons of carbon emissions each year stopeacop\n",
      "Sentiment(polarity=-0.04999999999999999, subjectivity=0.39166666666666666)\n"
     ]
    },
    {
     "data": {
      "text/markdown": [
       "<span style='color:red'>Negative</span>"
      ],
      "text/plain": [
       "<IPython.core.display.Markdown object>"
      ]
     },
     "metadata": {},
     "output_type": "display_data"
    },
    {
     "name": "stdout",
     "output_type": "stream",
     "text": [
      "becauseucount kfc a c dis chem b d net florist a c sweep south b d caltex fresh stop d b tiger wheel a d zando c a makro c b\n",
      "Sentiment(polarity=0.15, subjectivity=0.25)\n"
     ]
    },
    {
     "data": {
      "text/markdown": [
       "<span style='color:green'>Positive</span>"
      ],
      "text/plain": [
       "<IPython.core.display.Markdown object>"
      ]
     },
     "metadata": {},
     "output_type": "display_data"
    },
    {
     "name": "stdout",
     "output_type": "stream",
     "text": [
      "displacing i villages in uganda and in tanzania putting lives on the line is that climate leadership to you climate leaders don t create climate refugees climate leaders don t build pipeline stopeacop totalagm\n",
      "Sentiment(polarity=0.0, subjectivity=0.0)\n"
     ]
    },
    {
     "data": {
      "text/markdown": [
       "<span style='color:grey'>No result</span>"
      ],
      "text/plain": [
       "<IPython.core.display.Markdown object>"
      ]
     },
     "metadata": {},
     "output_type": "display_data"
    },
    {
     "name": "stdout",
     "output_type": "stream",
     "text": [
      "\n",
      "becauseucount incredibleconnection\n",
      "Sentiment(polarity=0.0, subjectivity=0.0)\n"
     ]
    },
    {
     "data": {
      "text/markdown": [
       "<span style='color:grey'>No result</span>"
      ],
      "text/plain": [
       "<IPython.core.display.Markdown object>"
      ]
     },
     "metadata": {},
     "output_type": "display_data"
    },
    {
     "name": "stdout",
     "output_type": "stream",
     "text": [
      "\n",
      "becauseucount thebodyshopsa\n",
      "Sentiment(polarity=0.0, subjectivity=0.0)\n"
     ]
    },
    {
     "data": {
      "text/markdown": [
       "<span style='color:grey'>No result</span>"
      ],
      "text/plain": [
       "<IPython.core.display.Markdown object>"
      ]
     },
     "metadata": {},
     "output_type": "display_data"
    },
    {
     "name": "stdout",
     "output_type": "stream",
     "text": [
      "\n",
      "stop financing the east african oil pipeline ugandaisbleeding nodemocracyinuganda\n",
      "Sentiment(polarity=0.0, subjectivity=0.0)\n"
     ]
    },
    {
     "data": {
      "text/markdown": [
       "<span style='color:grey'>No result</span>"
      ],
      "text/plain": [
       "<IPython.core.display.Markdown object>"
      ]
     },
     "metadata": {},
     "output_type": "display_data"
    },
    {
     "name": "stdout",
     "output_type": "stream",
     "text": [
      "\n",
      "financing a new oil pipeline in the midst of a climateemergency is grossly irresponsible don t finance the east african crude oil pipeline promote investment in clean energy for east africa instead stopeacop ugandaisbleeding\n",
      "Sentiment(polarity=-0.039393939393939384, subjectivity=0.43090909090909096)\n"
     ]
    },
    {
     "data": {
      "text/markdown": [
       "<span style='color:red'>Negative</span>"
      ],
      "text/plain": [
       "<IPython.core.display.Markdown object>"
      ]
     },
     "metadata": {},
     "output_type": "display_data"
    },
    {
     "name": "stdout",
     "output_type": "stream",
     "text": [
      "financing a new oil pipeline in the midst of a climateemergency is grossly irresponsible don t finance the east african crude oil pipeline promote investment in clean energy for east africa instead stopeacop visituganda ugandaisbleeding\n",
      "Sentiment(polarity=-0.039393939393939384, subjectivity=0.43090909090909096)\n"
     ]
    },
    {
     "data": {
      "text/markdown": [
       "<span style='color:red'>Negative</span>"
      ],
      "text/plain": [
       "<IPython.core.display.Markdown object>"
      ]
     },
     "metadata": {},
     "output_type": "display_data"
    },
    {
     "name": "stdout",
     "output_type": "stream",
     "text": [
      "ugandaisbleedingsilently visituganda\n",
      "Sentiment(polarity=0.0, subjectivity=0.0)\n"
     ]
    },
    {
     "data": {
      "text/markdown": [
       "<span style='color:grey'>No result</span>"
      ],
      "text/plain": [
       "<IPython.core.display.Markdown object>"
      ]
     },
     "metadata": {},
     "output_type": "display_data"
    },
    {
     "name": "stdout",
     "output_type": "stream",
     "text": [
      "\n",
      "giving money is indirectly supporting terrorism not only in uganda but the entire region the eacop is against ugandans stopecop\n",
      "Sentiment(polarity=0.08333333333333333, subjectivity=0.625)\n"
     ]
    },
    {
     "data": {
      "text/markdown": [
       "<span style='color:green'>Positive</span>"
      ],
      "text/plain": [
       "<IPython.core.display.Markdown object>"
      ]
     },
     "metadata": {},
     "output_type": "display_data"
    },
    {
     "name": "stdout",
     "output_type": "stream",
     "text": [
      "stopeacop\n",
      "Sentiment(polarity=0.0, subjectivity=0.0)\n"
     ]
    },
    {
     "data": {
      "text/markdown": [
       "<span style='color:grey'>No result</span>"
      ],
      "text/plain": [
       "<IPython.core.display.Markdown object>"
      ]
     },
     "metadata": {},
     "output_type": "display_data"
    },
    {
     "name": "stdout",
     "output_type": "stream",
     "text": [
      "\n",
      "we can t eat oil stopeacop\n",
      "Sentiment(polarity=0.0, subjectivity=0.0)\n"
     ]
    },
    {
     "data": {
      "text/markdown": [
       "<span style='color:grey'>No result</span>"
      ],
      "text/plain": [
       "<IPython.core.display.Markdown object>"
      ]
     },
     "metadata": {},
     "output_type": "display_data"
    },
    {
     "name": "stdout",
     "output_type": "stream",
     "text": [
      "\n",
      "don t finance eacop\n",
      "Sentiment(polarity=0.0, subjectivity=0.0)\n"
     ]
    },
    {
     "data": {
      "text/markdown": [
       "<span style='color:grey'>No result</span>"
      ],
      "text/plain": [
       "<IPython.core.display.Markdown object>"
      ]
     },
     "metadata": {},
     "output_type": "display_data"
    },
    {
     "name": "stdout",
     "output_type": "stream",
     "text": [
      "\n",
      "stopeacop\n",
      "Sentiment(polarity=0.0, subjectivity=0.0)\n"
     ]
    },
    {
     "data": {
      "text/markdown": [
       "<span style='color:grey'>No result</span>"
      ],
      "text/plain": [
       "<IPython.core.display.Markdown object>"
      ]
     },
     "metadata": {},
     "output_type": "display_data"
    },
    {
     "name": "stdout",
     "output_type": "stream",
     "text": [
      "\n",
      "jhb stop fanincing of fossil fuel projects\n",
      "Sentiment(polarity=0.0, subjectivity=0.0)\n"
     ]
    },
    {
     "data": {
      "text/markdown": [
       "<span style='color:grey'>No result</span>"
      ],
      "text/plain": [
       "<IPython.core.display.Markdown object>"
      ]
     },
     "metadata": {},
     "output_type": "display_data"
    },
    {
     "name": "stdout",
     "output_type": "stream",
     "text": [
      "\n",
      "financing a new oil pipeline in the midst of a climateemergency is grossly irresponsible don t finance the east african crude oil pipeline promote investment in clean energy for east africa instead stopeacop\n",
      "Sentiment(polarity=-0.039393939393939384, subjectivity=0.43090909090909096)\n"
     ]
    },
    {
     "data": {
      "text/markdown": [
       "<span style='color:red'>Negative</span>"
      ],
      "text/plain": [
       "<IPython.core.display.Markdown object>"
      ]
     },
     "metadata": {},
     "output_type": "display_data"
    },
    {
     "name": "stdout",
     "output_type": "stream",
     "text": [
      "lottery been playing on my app with no luck even r win nener\n",
      "Sentiment(polarity=0.8, subjectivity=0.4)\n"
     ]
    },
    {
     "data": {
      "text/markdown": [
       "<span style='color:green'>Positive</span>"
      ],
      "text/plain": [
       "<IPython.core.display.Markdown object>"
      ]
     },
     "metadata": {},
     "output_type": "display_data"
    },
    {
     "name": "stdout",
     "output_type": "stream",
     "text": [
      "this is uganda by dictator museven and then u watch standard bank funding east african oil pipeline in the middle of the climate emergency after all u say your watching human rights\n",
      "Sentiment(polarity=0.0, subjectivity=0.025)\n"
     ]
    },
    {
     "data": {
      "text/markdown": [
       "<span style='color:grey'>No result</span>"
      ],
      "text/plain": [
       "<IPython.core.display.Markdown object>"
      ]
     },
     "metadata": {},
     "output_type": "display_data"
    },
    {
     "name": "stdout",
     "output_type": "stream",
     "text": [
      "\n",
      "as we are struggling to take back our country from the opressor the opportunist are using this change to exploit our country uganda dealing with adesperate bankrupt and illigitimate dictator museveni of uganda stop eacop stopfunding dictator museven\n",
      "Sentiment(polarity=0.0, subjectivity=0.0)\n"
     ]
    },
    {
     "data": {
      "text/markdown": [
       "<span style='color:grey'>No result</span>"
      ],
      "text/plain": [
       "<IPython.core.display.Markdown object>"
      ]
     },
     "metadata": {},
     "output_type": "display_data"
    },
    {
     "name": "stdout",
     "output_type": "stream",
     "text": [
      "\n",
      "stop oil deals withthe dictator of uganda oil is for ugandans not museveni stop eacop\n",
      "Sentiment(polarity=0.0, subjectivity=0.0)\n"
     ]
    },
    {
     "data": {
      "text/markdown": [
       "<span style='color:grey'>No result</span>"
      ],
      "text/plain": [
       "<IPython.core.display.Markdown object>"
      ]
     },
     "metadata": {},
     "output_type": "display_data"
    },
    {
     "name": "stdout",
     "output_type": "stream",
     "text": [
      "\n",
      "stop the new oil pipeline in east africa if u really have aheart\n",
      "Sentiment(polarity=0.16818181818181818, subjectivity=0.32727272727272727)\n"
     ]
    },
    {
     "data": {
      "text/markdown": [
       "<span style='color:green'>Positive</span>"
      ],
      "text/plain": [
       "<IPython.core.display.Markdown object>"
      ]
     },
     "metadata": {},
     "output_type": "display_data"
    },
    {
     "name": "stdout",
     "output_type": "stream",
     "text": [
      "environmental activists call on standard bank to clean up their fossil fuels act\n",
      "Sentiment(polarity=0.18333333333333335, subjectivity=0.35000000000000003)\n"
     ]
    },
    {
     "data": {
      "text/markdown": [
       "<span style='color:green'>Positive</span>"
      ],
      "text/plain": [
       "<IPython.core.display.Markdown object>"
      ]
     },
     "metadata": {},
     "output_type": "display_data"
    },
    {
     "name": "stdout",
     "output_type": "stream",
     "text": [
      "manager standard bank gauteng findwork joblinks\n",
      "Sentiment(polarity=0.0, subjectivity=0.0)\n"
     ]
    },
    {
     "data": {
      "text/markdown": [
       "<span style='color:grey'>No result</span>"
      ],
      "text/plain": [
       "<IPython.core.display.Markdown object>"
      ]
     },
     "metadata": {},
     "output_type": "display_data"
    },
    {
     "name": "stdout",
     "output_type": "stream",
     "text": [
      "\n",
      "itcanbe\n",
      "Sentiment(polarity=0.0, subjectivity=0.0)\n"
     ]
    },
    {
     "data": {
      "text/markdown": [
       "<span style='color:grey'>No result</span>"
      ],
      "text/plain": [
       "<IPython.core.display.Markdown object>"
      ]
     },
     "metadata": {},
     "output_type": "display_data"
    },
    {
     "name": "stdout",
     "output_type": "stream",
     "text": [
      "\n",
      "gta the pacific standard bank elite challenge demoliton r ps gta\n",
      "Sentiment(polarity=0.0, subjectivity=0.0)\n"
     ]
    },
    {
     "data": {
      "text/markdown": [
       "<span style='color:grey'>No result</span>"
      ],
      "text/plain": [
       "<IPython.core.display.Markdown object>"
      ]
     },
     "metadata": {},
     "output_type": "display_data"
    },
    {
     "name": "stdout",
     "output_type": "stream",
     "text": [
      "\n",
      "uganda is bleeding\n",
      "Sentiment(polarity=0.0, subjectivity=0.0)\n"
     ]
    },
    {
     "data": {
      "text/markdown": [
       "<span style='color:grey'>No result</span>"
      ],
      "text/plain": [
       "<IPython.core.display.Markdown object>"
      ]
     },
     "metadata": {},
     "output_type": "display_data"
    },
    {
     "name": "stdout",
     "output_type": "stream",
     "text": [
      "\n",
      "sikamikanico standard bank holiday weekend\n",
      "Sentiment(polarity=0.0, subjectivity=0.0)\n"
     ]
    },
    {
     "data": {
      "text/markdown": [
       "<span style='color:grey'>No result</span>"
      ],
      "text/plain": [
       "<IPython.core.display.Markdown object>"
      ]
     },
     "metadata": {},
     "output_type": "display_data"
    },
    {
     "name": "stdout",
     "output_type": "stream",
     "text": [
      "\n",
      "this lady has been trying to open an account with you in order to secure sponsors and help more people it s been a hustle\n",
      "Sentiment(polarity=0.3, subjectivity=0.5333333333333333)\n"
     ]
    },
    {
     "data": {
      "text/markdown": [
       "<span style='color:green'>Positive</span>"
      ],
      "text/plain": [
       "<IPython.core.display.Markdown object>"
      ]
     },
     "metadata": {},
     "output_type": "display_data"
    },
    {
     "name": "stdout",
     "output_type": "stream",
     "text": [
      "manager standard bank gauteng resume jobs\n",
      "Sentiment(polarity=0.0, subjectivity=0.0)\n"
     ]
    },
    {
     "data": {
      "text/markdown": [
       "<span style='color:grey'>No result</span>"
      ],
      "text/plain": [
       "<IPython.core.display.Markdown object>"
      ]
     },
     "metadata": {},
     "output_type": "display_data"
    },
    {
     "name": "stdout",
     "output_type": "stream",
     "text": [
      "\n",
      "nd then standard bank se tsena yang mo\n",
      "Sentiment(polarity=0.0, subjectivity=0.0)\n"
     ]
    },
    {
     "data": {
      "text/markdown": [
       "<span style='color:grey'>No result</span>"
      ],
      "text/plain": [
       "<IPython.core.display.Markdown object>"
      ]
     },
     "metadata": {},
     "output_type": "display_data"
    },
    {
     "name": "stdout",
     "output_type": "stream",
     "text": [
      "\n",
      "standard bank\n",
      "Sentiment(polarity=0.0, subjectivity=0.0)\n"
     ]
    },
    {
     "data": {
      "text/markdown": [
       "<span style='color:grey'>No result</span>"
      ],
      "text/plain": [
       "<IPython.core.display.Markdown object>"
      ]
     },
     "metadata": {},
     "output_type": "display_data"
    },
    {
     "name": "stdout",
     "output_type": "stream",
     "text": [
      "\n",
      "stopeacop uganda is bleeding\n",
      "Sentiment(polarity=0.0, subjectivity=0.0)\n"
     ]
    },
    {
     "data": {
      "text/markdown": [
       "<span style='color:grey'>No result</span>"
      ],
      "text/plain": [
       "<IPython.core.display.Markdown object>"
      ]
     },
     "metadata": {},
     "output_type": "display_data"
    },
    {
     "name": "stdout",
     "output_type": "stream",
     "text": [
      "\n",
      "no\n",
      "Sentiment(polarity=0.0, subjectivity=0.0)\n"
     ]
    },
    {
     "data": {
      "text/markdown": [
       "<span style='color:grey'>No result</span>"
      ],
      "text/plain": [
       "<IPython.core.display.Markdown object>"
      ]
     },
     "metadata": {},
     "output_type": "display_data"
    },
    {
     "name": "stdout",
     "output_type": "stream",
     "text": [
      "\n",
      "financing a new oil pipeline in the midst of a climateemergency is grossly irresponsible don t finance the uganda crude oil pipe promote investment in clean energy for east africa instead stopeacop ugandaisbleeding in bed\n",
      "Sentiment(polarity=-0.049242424242424226, subjectivity=0.5386363636363637)\n"
     ]
    },
    {
     "data": {
      "text/markdown": [
       "<span style='color:red'>Negative</span>"
      ],
      "text/plain": [
       "<IPython.core.display.Markdown object>"
      ]
     },
     "metadata": {},
     "output_type": "display_data"
    },
    {
     "name": "stdout",
     "output_type": "stream",
     "text": [
      "i m considering a move to standard bank but i don t know i just want a bank that gets things done\n",
      "Sentiment(polarity=0.0, subjectivity=0.0)\n"
     ]
    },
    {
     "data": {
      "text/markdown": [
       "<span style='color:grey'>No result</span>"
      ],
      "text/plain": [
       "<IPython.core.display.Markdown object>"
      ]
     },
     "metadata": {},
     "output_type": "display_data"
    },
    {
     "name": "stdout",
     "output_type": "stream",
     "text": [
      "\n",
      "the has accepted an offer from standard bank ceo sim tshabalala who wants to help develop a tradefinance policy for businesses that want to trade under the afcfta\n",
      "Sentiment(polarity=0.1, subjectivity=0.05)\n"
     ]
    },
    {
     "data": {
      "text/markdown": [
       "<span style='color:green'>Positive</span>"
      ],
      "text/plain": [
       "<IPython.core.display.Markdown object>"
      ]
     },
     "metadata": {},
     "output_type": "display_data"
    },
    {
     "name": "stdout",
     "output_type": "stream",
     "text": [
      "hello standard bank what must i do here\n",
      "Sentiment(polarity=0.0, subjectivity=0.0)\n"
     ]
    },
    {
     "data": {
      "text/markdown": [
       "<span style='color:grey'>No result</span>"
      ],
      "text/plain": [
       "<IPython.core.display.Markdown object>"
      ]
     },
     "metadata": {},
     "output_type": "display_data"
    },
    {
     "name": "stdout",
     "output_type": "stream",
     "text": [
      "\n",
      "eff will never fight against standard bank because they bank with them i m not sure for other banks may be\n",
      "Sentiment(polarity=-0.125, subjectivity=0.4212962962962963)\n"
     ]
    },
    {
     "data": {
      "text/markdown": [
       "<span style='color:red'>Negative</span>"
      ],
      "text/plain": [
       "<IPython.core.display.Markdown object>"
      ]
     },
     "metadata": {},
     "output_type": "display_data"
    }
   ],
   "source": [
    "from textblob import TextBlob\n",
    "from IPython.display import Markdown, display\n",
    "\n",
    "# Pretty printing the result\n",
    "def printmd(string, color=None):\n",
    "    colorstr = \"<span style='color:{}'>{}</span>\".format(color, string)\n",
    "    display(Markdown(colorstr))\n",
    "\n",
    "for index, row in clean_df.iterrows():\n",
    "    print(clean_df.at[index, 'tweet'] )\n",
    "    tweet = clean_df.at[index, 'tweet']\n",
    "\n",
    "    #do analysis\n",
    "    analysis = TextBlob(tweet)\n",
    "\n",
    "    #set value to dataframe\n",
    "    clean_df.at[index, 'polarity'] = analysis.sentiment[0]\n",
    "    clean_df.at[index, 'subjectivity'] = analysis.sentiment[1]\n",
    "\n",
    "\n",
    "    ##pretty it up \n",
    "\n",
    "    print(analysis.sentiment)\n",
    "    if analysis.sentiment[0]>0:\n",
    "\n",
    "        clean_df.at[index, 'Final'] = \"Positive\"\n",
    "        printmd('Positive', color=\"green\")\n",
    "\n",
    "    elif analysis.sentiment[0]<0:\n",
    "\n",
    "        clean_df.at[index, 'Final'] = \"Negative\"\n",
    "        printmd('Negative', color=\"red\")\n",
    "\n",
    "    else:\n",
    "\n",
    "        clean_df.at[index, 'Final'] = \"No result\"\n",
    "        printmd(\"No result\", color=\"grey\")\n",
    "        print(\"\")\n"
   ]
  },
  {
   "cell_type": "code",
   "execution_count": 97,
   "metadata": {},
   "outputs": [
    {
     "data": {
      "text/html": [
       "<div>\n",
       "<style scoped>\n",
       "    .dataframe tbody tr th:only-of-type {\n",
       "        vertical-align: middle;\n",
       "    }\n",
       "\n",
       "    .dataframe tbody tr th {\n",
       "        vertical-align: top;\n",
       "    }\n",
       "\n",
       "    .dataframe thead th {\n",
       "        text-align: right;\n",
       "    }\n",
       "</style>\n",
       "<table border=\"1\" class=\"dataframe\">\n",
       "  <thead>\n",
       "    <tr style=\"text-align: right;\">\n",
       "      <th></th>\n",
       "      <th>tweet</th>\n",
       "      <th>polarity</th>\n",
       "      <th>subjectivity</th>\n",
       "      <th>Final</th>\n",
       "    </tr>\n",
       "  </thead>\n",
       "  <tbody>\n",
       "    <tr>\n",
       "      <th>0</th>\n",
       "      <td>good day kindly note you will need to visit a ...</td>\n",
       "      <td>0.3250</td>\n",
       "      <td>0.500000</td>\n",
       "      <td>Positive</td>\n",
       "    </tr>\n",
       "    <tr>\n",
       "      <th>1</th>\n",
       "      <td>we as ugandans have not benefited in your out ...</td>\n",
       "      <td>0.0000</td>\n",
       "      <td>0.000000</td>\n",
       "      <td>No result</td>\n",
       "    </tr>\n",
       "    <tr>\n",
       "      <th>2</th>\n",
       "      <td>don t finance uganda pipeline please uganda is...</td>\n",
       "      <td>0.0000</td>\n",
       "      <td>0.000000</td>\n",
       "      <td>No result</td>\n",
       "    </tr>\n",
       "    <tr>\n",
       "      <th>3</th>\n",
       "      <td>s hi shivam you can deposit via our website an...</td>\n",
       "      <td>0.0000</td>\n",
       "      <td>0.000000</td>\n",
       "      <td>No result</td>\n",
       "    </tr>\n",
       "    <tr>\n",
       "      <th>4</th>\n",
       "      <td>yes beautiful i love it</td>\n",
       "      <td>0.6750</td>\n",
       "      <td>0.800000</td>\n",
       "      <td>Positive</td>\n",
       "    </tr>\n",
       "    <tr>\n",
       "      <th>5</th>\n",
       "      <td></td>\n",
       "      <td>0.0000</td>\n",
       "      <td>0.000000</td>\n",
       "      <td>No result</td>\n",
       "    </tr>\n",
       "    <tr>\n",
       "      <th>6</th>\n",
       "      <td>uganda is bleeding</td>\n",
       "      <td>0.0000</td>\n",
       "      <td>0.000000</td>\n",
       "      <td>No result</td>\n",
       "    </tr>\n",
       "    <tr>\n",
       "      <th>7</th>\n",
       "      <td>i hope this good bank does not associate itsel...</td>\n",
       "      <td>0.6000</td>\n",
       "      <td>0.650000</td>\n",
       "      <td>Positive</td>\n",
       "    </tr>\n",
       "    <tr>\n",
       "      <th>8</th>\n",
       "      <td></td>\n",
       "      <td>0.0000</td>\n",
       "      <td>0.000000</td>\n",
       "      <td>No result</td>\n",
       "    </tr>\n",
       "    <tr>\n",
       "      <th>9</th>\n",
       "      <td>today the whole day literally the whole bloody...</td>\n",
       "      <td>-0.1425</td>\n",
       "      <td>0.548929</td>\n",
       "      <td>Negative</td>\n",
       "    </tr>\n",
       "  </tbody>\n",
       "</table>\n",
       "</div>"
      ],
      "text/plain": [
       "                                               tweet  polarity  subjectivity  \\\n",
       "0  good day kindly note you will need to visit a ...    0.3250      0.500000   \n",
       "1  we as ugandans have not benefited in your out ...    0.0000      0.000000   \n",
       "2  don t finance uganda pipeline please uganda is...    0.0000      0.000000   \n",
       "3  s hi shivam you can deposit via our website an...    0.0000      0.000000   \n",
       "4                            yes beautiful i love it    0.6750      0.800000   \n",
       "5                                                       0.0000      0.000000   \n",
       "6                                 uganda is bleeding    0.0000      0.000000   \n",
       "7  i hope this good bank does not associate itsel...    0.6000      0.650000   \n",
       "8                                                       0.0000      0.000000   \n",
       "9  today the whole day literally the whole bloody...   -0.1425      0.548929   \n",
       "\n",
       "       Final  \n",
       "0   Positive  \n",
       "1  No result  \n",
       "2  No result  \n",
       "3  No result  \n",
       "4   Positive  \n",
       "5  No result  \n",
       "6  No result  \n",
       "7   Positive  \n",
       "8  No result  \n",
       "9   Negative  "
      ]
     },
     "execution_count": 97,
     "metadata": {},
     "output_type": "execute_result"
    }
   ],
   "source": [
    "clean_df.head(10)"
   ]
  },
  {
   "cell_type": "markdown",
   "metadata": {},
   "source": [
    "## merge the dataframes - to get time "
   ]
  },
  {
   "cell_type": "code",
   "execution_count": 124,
   "metadata": {},
   "outputs": [],
   "source": [
    "Final_df = new_df.merge(clean_df, left_index=True, right_index=True)\n"
   ]
  },
  {
   "cell_type": "code",
   "execution_count": 125,
   "metadata": {},
   "outputs": [],
   "source": [
    "Final_df = Final_df.rename(columns={\"tweet_x\": \"uncleaned_tweet\", \"tweet_y\": \"cleaned_tweet\"})"
   ]
  },
  {
   "cell_type": "code",
   "execution_count": 126,
   "metadata": {},
   "outputs": [],
   "source": [
    "##set index = data so as to create rolling and expanding mean \n",
    "Final_df[\"date\"] = pd.to_datetime(Final_df[\"date\"])\n",
    "Final_df.index = pd.to_datetime(Final_df['date'])"
   ]
  },
  {
   "cell_type": "code",
   "execution_count": 127,
   "metadata": {},
   "outputs": [],
   "source": [
    "\n",
    "Final_df['mean'] = Final_df['polarity'].expanding().mean()"
   ]
  },
  {
   "cell_type": "code",
   "execution_count": 149,
   "metadata": {},
   "outputs": [],
   "source": [
    "Final_df['rolling'] = Final_df['polarity'].rolling(5).mean()"
   ]
  },
  {
   "cell_type": "code",
   "execution_count": 145,
   "metadata": {},
   "outputs": [
    {
     "data": {
      "text/html": [
       "<div>\n",
       "<style scoped>\n",
       "    .dataframe tbody tr th:only-of-type {\n",
       "        vertical-align: middle;\n",
       "    }\n",
       "\n",
       "    .dataframe tbody tr th {\n",
       "        vertical-align: top;\n",
       "    }\n",
       "\n",
       "    .dataframe thead th {\n",
       "        text-align: right;\n",
       "    }\n",
       "</style>\n",
       "<table border=\"1\" class=\"dataframe\">\n",
       "  <thead>\n",
       "    <tr style=\"text-align: right;\">\n",
       "      <th></th>\n",
       "      <th>date</th>\n",
       "      <th>username</th>\n",
       "      <th>uncleaned_tweet</th>\n",
       "      <th>hashtags</th>\n",
       "      <th>nlikes</th>\n",
       "      <th>search</th>\n",
       "      <th>cleaned_tweet</th>\n",
       "      <th>polarity</th>\n",
       "      <th>subjectivity</th>\n",
       "      <th>Final</th>\n",
       "      <th>mean</th>\n",
       "      <th>rolling</th>\n",
       "    </tr>\n",
       "    <tr>\n",
       "      <th>date</th>\n",
       "      <th></th>\n",
       "      <th></th>\n",
       "      <th></th>\n",
       "      <th></th>\n",
       "      <th></th>\n",
       "      <th></th>\n",
       "      <th></th>\n",
       "      <th></th>\n",
       "      <th></th>\n",
       "      <th></th>\n",
       "      <th></th>\n",
       "      <th></th>\n",
       "    </tr>\n",
       "  </thead>\n",
       "  <tbody>\n",
       "    <tr>\n",
       "      <th>2021-06-23 17:08:22</th>\n",
       "      <td>2021-06-23 17:08:22</td>\n",
       "      <td>Bhekala1</td>\n",
       "      <td>Debt Review Restructure Officer - Standard Ban...</td>\n",
       "      <td>[cv, findwork]</td>\n",
       "      <td>0</td>\n",
       "      <td>Standard Bank</td>\n",
       "      <td>good day kindly note you will need to visit a ...</td>\n",
       "      <td>0.325</td>\n",
       "      <td>0.5</td>\n",
       "      <td>Positive</td>\n",
       "      <td>0.325000</td>\n",
       "      <td>0.325</td>\n",
       "    </tr>\n",
       "    <tr>\n",
       "      <th>2021-06-23 17:07:31</th>\n",
       "      <td>2021-06-23 17:07:31</td>\n",
       "      <td>Bhekala1</td>\n",
       "      <td>Team Leader - Standard Bank - Gauteng  https:/...</td>\n",
       "      <td>[cv, findwork]</td>\n",
       "      <td>0</td>\n",
       "      <td>Standard Bank</td>\n",
       "      <td>we as ugandans have not benefited in your out ...</td>\n",
       "      <td>0.000</td>\n",
       "      <td>0.0</td>\n",
       "      <td>No result</td>\n",
       "      <td>0.162500</td>\n",
       "      <td>0.000</td>\n",
       "    </tr>\n",
       "    <tr>\n",
       "      <th>2021-06-23 17:03:16</th>\n",
       "      <td>2021-06-23 17:03:16</td>\n",
       "      <td>DontBeBroke</td>\n",
       "      <td>No! Dollar Loan Center is the leading authorit...</td>\n",
       "      <td>[]</td>\n",
       "      <td>0</td>\n",
       "      <td>Standard Bank</td>\n",
       "      <td>don t finance uganda pipeline please uganda is...</td>\n",
       "      <td>0.000</td>\n",
       "      <td>0.0</td>\n",
       "      <td>No result</td>\n",
       "      <td>0.108333</td>\n",
       "      <td>0.000</td>\n",
       "    </tr>\n",
       "    <tr>\n",
       "      <th>2021-06-23 17:01:33</th>\n",
       "      <td>2021-06-23 17:01:33</td>\n",
       "      <td>TeamWPak_</td>\n",
       "      <td>#خان_کابیان_لفافےپریشان It is the standard of ...</td>\n",
       "      <td>[خان_کابیان_لفافےپریشان]</td>\n",
       "      <td>24</td>\n",
       "      <td>Standard Bank</td>\n",
       "      <td>s hi shivam you can deposit via our website an...</td>\n",
       "      <td>0.000</td>\n",
       "      <td>0.0</td>\n",
       "      <td>No result</td>\n",
       "      <td>0.081250</td>\n",
       "      <td>0.000</td>\n",
       "    </tr>\n",
       "    <tr>\n",
       "      <th>2021-06-23 17:01:12</th>\n",
       "      <td>2021-06-23 17:01:12</td>\n",
       "      <td>newsjourcom</td>\n",
       "      <td>3NEWS:  Standard Bank partners with Microsoft ...</td>\n",
       "      <td>[gh, economy]</td>\n",
       "      <td>0</td>\n",
       "      <td>Standard Bank</td>\n",
       "      <td>yes beautiful i love it</td>\n",
       "      <td>0.675</td>\n",
       "      <td>0.8</td>\n",
       "      <td>Positive</td>\n",
       "      <td>0.200000</td>\n",
       "      <td>0.675</td>\n",
       "    </tr>\n",
       "  </tbody>\n",
       "</table>\n",
       "</div>"
      ],
      "text/plain": [
       "                                   date     username  \\\n",
       "date                                                   \n",
       "2021-06-23 17:08:22 2021-06-23 17:08:22     Bhekala1   \n",
       "2021-06-23 17:07:31 2021-06-23 17:07:31     Bhekala1   \n",
       "2021-06-23 17:03:16 2021-06-23 17:03:16  DontBeBroke   \n",
       "2021-06-23 17:01:33 2021-06-23 17:01:33    TeamWPak_   \n",
       "2021-06-23 17:01:12 2021-06-23 17:01:12  newsjourcom   \n",
       "\n",
       "                                                       uncleaned_tweet  \\\n",
       "date                                                                     \n",
       "2021-06-23 17:08:22  Debt Review Restructure Officer - Standard Ban...   \n",
       "2021-06-23 17:07:31  Team Leader - Standard Bank - Gauteng  https:/...   \n",
       "2021-06-23 17:03:16  No! Dollar Loan Center is the leading authorit...   \n",
       "2021-06-23 17:01:33  #خان_کابیان_لفافےپریشان It is the standard of ...   \n",
       "2021-06-23 17:01:12  3NEWS:  Standard Bank partners with Microsoft ...   \n",
       "\n",
       "                                     hashtags  nlikes         search  \\\n",
       "date                                                                   \n",
       "2021-06-23 17:08:22            [cv, findwork]       0  Standard Bank   \n",
       "2021-06-23 17:07:31            [cv, findwork]       0  Standard Bank   \n",
       "2021-06-23 17:03:16                        []       0  Standard Bank   \n",
       "2021-06-23 17:01:33  [خان_کابیان_لفافےپریشان]      24  Standard Bank   \n",
       "2021-06-23 17:01:12             [gh, economy]       0  Standard Bank   \n",
       "\n",
       "                                                         cleaned_tweet  \\\n",
       "date                                                                     \n",
       "2021-06-23 17:08:22  good day kindly note you will need to visit a ...   \n",
       "2021-06-23 17:07:31  we as ugandans have not benefited in your out ...   \n",
       "2021-06-23 17:03:16  don t finance uganda pipeline please uganda is...   \n",
       "2021-06-23 17:01:33  s hi shivam you can deposit via our website an...   \n",
       "2021-06-23 17:01:12                            yes beautiful i love it   \n",
       "\n",
       "                     polarity  subjectivity      Final      mean  rolling  \n",
       "date                                                                       \n",
       "2021-06-23 17:08:22     0.325           0.5   Positive  0.325000    0.325  \n",
       "2021-06-23 17:07:31     0.000           0.0  No result  0.162500    0.000  \n",
       "2021-06-23 17:03:16     0.000           0.0  No result  0.108333    0.000  \n",
       "2021-06-23 17:01:33     0.000           0.0  No result  0.081250    0.000  \n",
       "2021-06-23 17:01:12     0.675           0.8   Positive  0.200000    0.675  "
      ]
     },
     "execution_count": 145,
     "metadata": {},
     "output_type": "execute_result"
    }
   ],
   "source": [
    "Final_df.head(5)"
   ]
  },
  {
   "cell_type": "code",
   "execution_count": 160,
   "metadata": {},
   "outputs": [
    {
     "data": {
      "text/plain": [
       "['good day kindly note you will need to visit a standard bank branch in order to open the account',\n",
       " 'yes beautiful i love it',\n",
       " 'i hope this good bank does not associate itself with genocide in uganda ugandans want the dictator out of their country and by providing money for the pipeline means u don t care about innocent lives of ugandans',\n",
       " 'today the whole day literally the whole bloody day i have been struggling pay my bills online a simple dstv payment it keeps giving an error i mean what the hell no i m literally considering the offer is giving me just switch banks',\n",
       " 'the way i love standard bank and have always been loyal and defended it at all costs but wow lately i m disappointed literally everyday with their online banking i have never seen such inconvenience incompetence',\n",
       " 'kind request to upload at least one full show at the same time on youtube thanks',\n",
       " 'how by hacking and running to finance sectors they all can t this ain t qbs school stupid shits from standard bank paul chan mo po is super super super stupid who the f ck are chans',\n",
       " 'standard bank accelerates new era changes at board level',\n",
       " 'isn t it amazing that even having a private banker they do not even respond or communicate with their clients anymore',\n",
       " 'on the other side branches are been closed and atm as well',\n",
       " 'environmental activists call on standard bank to clean up their fossil fuels act stopeacop refuellingafrica',\n",
       " 'ntsoko i m about to lose my shit',\n",
       " 'lee i see a lot of people on the tl complaining about their online experience that s disappointing yaz',\n",
       " 'is the most the worst bank im honestly done',\n",
       " 'madesi hi madesi kindly visit for more information on how you can be part of the scheme',\n",
       " 'in the spirit of being no we ve been nominated for the standard bank group kzn top business brand award here s how you can vote thank you for all the love and support for more info visit kzntopbrand',\n",
       " 'hi we appreciate your patience we have processed the credit and the same will reflect in your account within working days as per standard bank procedure we strive to serve you better',\n",
       " 'vintage the standard bank of south africa partially used cheque book songea tanganyika',\n",
       " 'visit s p and find registered or accredited brokers standard bank south africa has offshore share trading platform locally stanlib lesotho offers basotho international exposure including us markets there are many registered efts in sa that offer offshore exposures',\n",
       " 'financing a new oil pipeline in the midst of a climateemergency is grossly irresponsible don t finance the east african crude oil pipeline promote investment in clean energy for east africa instead stopeacop',\n",
       " 'town looks like a standard bank holiday wouldn t be able to move if the reds were in a cl final',\n",
       " 'i have an account and would like to know how do i pay because i struggled online for standard bank i can t use easy pay and post office is only open during the week',\n",
       " 'hbar solving all dlt problems security governance speed and cost big players on the council like google ibm lg standard bank chainlink labs use cases continue to grow everyday abft compliant is wholesome and brilliant',\n",
       " 'has the best sanitizers at their atm s',\n",
       " 'new projects secretariat is working on a digital platform to help smes access new markets a trade finance policy with to help smes trade a pan african payments settlement platform with digitise customs functions',\n",
       " 'right',\n",
       " 'showing the wrong balance amd not showing recent transactions',\n",
       " 'its doesn t matter to ugandans because the dictator museveni is eliminating some ethnic groups in uganda because they are more intelligent and patriotic than him a despot killer',\n",
       " 'we aren t having fun in uganda and anyone dealing with museveni who is murdering ugandans because of his selfishness and greed we are tired museveni does not serve ugandans but serves his interests and families this is why he kills citizens like cockroaches its horrible here',\n",
       " 'what s wrong with your app',\n",
       " 'standard bank nearly ruined my championsleaguefinal day',\n",
       " 'i get that broe but capitec allows users to withdraw even at fnb nedbank standard bank atms and many others',\n",
       " 'dalazy communicate shame most of my problems wrt bank are solved through dm s',\n",
       " 'money may not unlock happiness but getting on top of your finances leaves more room to focus on things that do bring you joy next up facilitated conversation with and on the secrets to lifelong financialsuccess kbf',\n",
       " 'in the spirit of being no we ve been nominated for the standard bank group kzn top business brand award here s how you can vote if you d like to get involved sms charged at r per sms kzntopbrand kznsno',\n",
       " 'it is more likely to say this xpool would redefine or perhaps be recognized as a coming model bank a cult product on the launchzone ecosystem with all of the functions associated with a standard bank but much greater income for buyers launchzone',\n",
       " 'in addition to all the dangers of eacop mentioned the income from it will be used to buy more guns build more torture chambers and drones',\n",
       " 'i doubt it is a good idea to share my banking details online why not ask your internet banking team why you baking is wonky and not working as it is supposed to',\n",
       " 'well is the atm fixed am i supposed to go km out of my way to make a payment can t even call and ask because there s no branch contact have to talk to call centre who have no idea what s going on pathetic',\n",
       " 'live nesta segunda feira s h nat lia dias do standard bank brasil e alexandre espirito santo da falam com sobre o risco fiscal trazido pela poss vel volta do aux lio emergencial e as elei es se aproximando',\n",
       " 'no trying to transact on internet banking and wanting to access the taxfree investment account not the savings account it is gone missing in action',\n",
       " 's phased out standard bank still offers hey',\n",
       " 'are you in your final year of studying or just kicked off your career let us know here could help you make real influence on your career with r k sign up for a professional banking account you could win r k itcanbe ts cs apply',\n",
       " 'he funded a stock trading program for wits students at standard bank their now all experts at selling us down the river i think thuma mina unbundling',\n",
       " 'and again your tax free share section on internet banking is mia useless standardwanknotbank',\n",
       " 'stop financing the eacop in we are not safe',\n",
       " 'is standard bank app down nah standardbank',\n",
       " 'yes you guys keep raising the issue while wasting client s time because we all have so much of it to waste this is an every week issue either upgrade the atm s or lower the kb branch deposit fees because this is ridiculous patheticservice itcantbe notsimplerbetterorfaster',\n",
       " 'please assist customer has positive balance with and they are refusing to give her money and they ask her for proof of payment which she has deleted months ago i am disgusted with their service',\n",
       " 'absolutely disgusted by your services the vaf account is on positive you want proof of payment to give the customer their money for what exactly my family will be closing all their accounts and we will not refinance with std bank',\n",
       " 'supporting the dictator is increasing the suffering of innocent ugandans',\n",
       " 'museveni free all political prisoners country wide in uganda',\n",
       " 'once again norwood mall atm s aren t working shame on you for forcing clients to use the atm but how since they re never online you don t take service seriously pathetic for a bank who thinks they re helping what a waste itcantbe should be the new slogan',\n",
       " 'catch family feud tomorrow at pm on e t v proudly brought to you by kfc familyfeudafrica familyfeudsa kfcsa frythefeud itcanbe puresave etvonline rapidbluetv',\n",
       " 'hello mathete standard bank is already well engaged with several new payments vendors and partners in order for our clients to have access to the most recent digital tap to pay services as well as online partner payment systems expect further announcements in the near future',\n",
       " 'it simply not running whole day yesterday again today every other app on my phone is working except my banks app',\n",
       " 'boy happy shopping',\n",
       " 'we request not to fund oil pipeline since former president of uganda museveni is killing innocent ugandans and using money to buy guns ammunition to kill innocent ugandans the president elect of uganda is kyagulanyi robert ssentamu',\n",
       " 'financing a new oil pipeline in the midst of a dimateemergency is grossly irresponsible don t finance the east african crude oil pipeline promote investment in clean energy for east africa instead stopeacop',\n",
       " 'knowing how difficult it has been for me to get here this is a dream come true thank you especially and the best is yet to come thank god i didn t give up',\n",
       " 'with you get real time rewards with ucount here i come',\n",
       " 'i ve added my pic to the stopeacop selfie wall add yours together we ll make sure and shareholders have to face the people ahead of their agms',\n",
       " 'we re pushing for a grand boycott of if you go ahead and finance that eacop project in uganda you re creating disputes be it economic land and political dilema out of that oil curse back off uganda',\n",
       " 'burning more crude oil is the last thing our planet needs eacop will increase the severity of the global climateemergency by transportation oil that will generate over million tons of carbon emissions each year stopeacop',\n",
       " 'becauseucount kfc a c dis chem b d net florist a c sweep south b d caltex fresh stop d b tiger wheel a d zando c a makro c b',\n",
       " 'financing a new oil pipeline in the midst of a climateemergency is grossly irresponsible don t finance the east african crude oil pipeline promote investment in clean energy for east africa instead stopeacop ugandaisbleeding',\n",
       " 'financing a new oil pipeline in the midst of a climateemergency is grossly irresponsible don t finance the east african crude oil pipeline promote investment in clean energy for east africa instead stopeacop visituganda ugandaisbleeding',\n",
       " 'giving money is indirectly supporting terrorism not only in uganda but the entire region the eacop is against ugandans stopecop',\n",
       " 'financing a new oil pipeline in the midst of a climateemergency is grossly irresponsible don t finance the east african crude oil pipeline promote investment in clean energy for east africa instead stopeacop',\n",
       " 'lottery been playing on my app with no luck even r win nener',\n",
       " 'stop the new oil pipeline in east africa if u really have aheart',\n",
       " 'environmental activists call on standard bank to clean up their fossil fuels act',\n",
       " 'this lady has been trying to open an account with you in order to secure sponsors and help more people it s been a hustle',\n",
       " 'financing a new oil pipeline in the midst of a climateemergency is grossly irresponsible don t finance the uganda crude oil pipe promote investment in clean energy for east africa instead stopeacop ugandaisbleeding in bed',\n",
       " 'the has accepted an offer from standard bank ceo sim tshabalala who wants to help develop a tradefinance policy for businesses that want to trade under the afcfta',\n",
       " 'eff will never fight against standard bank because they bank with them i m not sure for other banks may be']"
      ]
     },
     "execution_count": 160,
     "metadata": {},
     "output_type": "execute_result"
    }
   ],
   "source": [
    "list(Final_df[\"cleaned_tweet\"])"
   ]
  },
  {
   "cell_type": "markdown",
   "metadata": {},
   "source": [
    "### Check distribution"
   ]
  },
  {
   "cell_type": "code",
   "execution_count": 215,
   "metadata": {},
   "outputs": [
    {
     "data": {
      "image/png": "[encoded data removed]",
      "text/plain": [
       "<Figure size 1080x504 with 1 Axes>"
      ]
     },
     "metadata": {},
     "output_type": "display_data"
    }
   ],
   "source": [
    "fig = plt.figure(figsize=(15,7))\n",
    "sns.histplot(Final_df['polarity'])\n",
    "plt.show()"
   ]
  },
  {
   "cell_type": "code",
   "execution_count": 190,
   "metadata": {},
   "outputs": [],
   "source": [
    "##### remove neutral values \n",
    "Final_df = Final_df[Final_df.polarity != 0]"
   ]
  },
  {
   "cell_type": "markdown",
   "metadata": {},
   "source": [
    "# Word Cloud"
   ]
  },
  {
   "cell_type": "code",
   "execution_count": 188,
   "metadata": {},
   "outputs": [
    {
     "data": {
      "image/png": "[encoded data removed]",
      "text/plain": [
       "<Figure size 576x576 with 1 Axes>"
      ]
     },
     "metadata": {
      "needs_background": "light"
     },
     "output_type": "display_data"
    }
   ],
   "source": [
    "from wordcloud import WordCloud, STOPWORDS\n",
    "import matplotlib.pyplot as plt\n",
    "\n",
    "tweetString = \" \".join(list(Final_df[\"cleaned_tweet\"]))\n",
    "tweetString1 = re.sub(r\"standard bank\",\"\",tweetString)     #remove bank name\n",
    "\n",
    "wordcloud = WordCloud(width = 800, height = 500, \n",
    "                background_color ='white', \n",
    "                min_font_size = 5).generate(tweetString1)\n",
    "plt.figure(figsize = (8, 8), facecolor = None)\n",
    "plt.imshow(wordcloud)\n",
    "plt.axis(\"off\")\n",
    "plt.tight_layout(pad = 0) \n",
    "plt.show()"
   ]
  },
  {
   "cell_type": "code",
   "execution_count": 153,
   "metadata": {},
   "outputs": [
    {
     "data": {
      "text/html": [
       "<div>\n",
       "<style scoped>\n",
       "    .dataframe tbody tr th:only-of-type {\n",
       "        vertical-align: middle;\n",
       "    }\n",
       "\n",
       "    .dataframe tbody tr th {\n",
       "        vertical-align: top;\n",
       "    }\n",
       "\n",
       "    .dataframe thead th {\n",
       "        text-align: right;\n",
       "    }\n",
       "</style>\n",
       "<table border=\"1\" class=\"dataframe\">\n",
       "  <thead>\n",
       "    <tr style=\"text-align: right;\">\n",
       "      <th></th>\n",
       "      <th>date</th>\n",
       "      <th>username</th>\n",
       "      <th>uncleaned_tweet</th>\n",
       "      <th>hashtags</th>\n",
       "      <th>nlikes</th>\n",
       "      <th>search</th>\n",
       "      <th>cleaned_tweet</th>\n",
       "      <th>polarity</th>\n",
       "      <th>subjectivity</th>\n",
       "      <th>Final</th>\n",
       "      <th>mean</th>\n",
       "      <th>rolling</th>\n",
       "    </tr>\n",
       "    <tr>\n",
       "      <th>date</th>\n",
       "      <th></th>\n",
       "      <th></th>\n",
       "      <th></th>\n",
       "      <th></th>\n",
       "      <th></th>\n",
       "      <th></th>\n",
       "      <th></th>\n",
       "      <th></th>\n",
       "      <th></th>\n",
       "      <th></th>\n",
       "      <th></th>\n",
       "      <th></th>\n",
       "    </tr>\n",
       "  </thead>\n",
       "  <tbody>\n",
       "    <tr>\n",
       "      <th>2021-06-23 17:08:22</th>\n",
       "      <td>2021-06-23 17:08:22</td>\n",
       "      <td>Bhekala1</td>\n",
       "      <td>Debt Review Restructure Officer - Standard Ban...</td>\n",
       "      <td>[cv, findwork]</td>\n",
       "      <td>0</td>\n",
       "      <td>Standard Bank</td>\n",
       "      <td>good day kindly note you will need to visit a ...</td>\n",
       "      <td>0.325000</td>\n",
       "      <td>0.500000</td>\n",
       "      <td>Positive</td>\n",
       "      <td>0.325000</td>\n",
       "      <td>NaN</td>\n",
       "    </tr>\n",
       "    <tr>\n",
       "      <th>2021-06-23 17:01:12</th>\n",
       "      <td>2021-06-23 17:01:12</td>\n",
       "      <td>newsjourcom</td>\n",
       "      <td>3NEWS:  Standard Bank partners with Microsoft ...</td>\n",
       "      <td>[gh, economy]</td>\n",
       "      <td>0</td>\n",
       "      <td>Standard Bank</td>\n",
       "      <td>yes beautiful i love it</td>\n",
       "      <td>0.675000</td>\n",
       "      <td>0.800000</td>\n",
       "      <td>Positive</td>\n",
       "      <td>0.200000</td>\n",
       "      <td>0.200000</td>\n",
       "    </tr>\n",
       "    <tr>\n",
       "      <th>2021-06-23 16:48:00</th>\n",
       "      <td>2021-06-23 16:48:00</td>\n",
       "      <td>MzalendoWatch</td>\n",
       "      <td>A national blood bank is very critical for the...</td>\n",
       "      <td>[bungelivena]</td>\n",
       "      <td>1</td>\n",
       "      <td>Standard Bank</td>\n",
       "      <td>i hope this good bank does not associate itsel...</td>\n",
       "      <td>0.600000</td>\n",
       "      <td>0.650000</td>\n",
       "      <td>Positive</td>\n",
       "      <td>0.200000</td>\n",
       "      <td>0.255000</td>\n",
       "    </tr>\n",
       "    <tr>\n",
       "      <th>2021-06-23 16:42:10</th>\n",
       "      <td>2021-06-23 16:42:10</td>\n",
       "      <td>etyoung</td>\n",
       "      <td>Just spent 30mins on the phone with @Christies...</td>\n",
       "      <td>[]</td>\n",
       "      <td>31</td>\n",
       "      <td>Standard Bank</td>\n",
       "      <td>today the whole day literally the whole bloody...</td>\n",
       "      <td>-0.142500</td>\n",
       "      <td>0.548929</td>\n",
       "      <td>Negative</td>\n",
       "      <td>0.145750</td>\n",
       "      <td>0.091500</td>\n",
       "    </tr>\n",
       "    <tr>\n",
       "      <th>2021-06-23 16:28:53</th>\n",
       "      <td>2021-06-23 16:28:53</td>\n",
       "      <td>bimmerbitcorn</td>\n",
       "      <td>@360_trader They solved interoperability thoug...</td>\n",
       "      <td>[]</td>\n",
       "      <td>1</td>\n",
       "      <td>Standard Bank</td>\n",
       "      <td>the way i love standard bank and have always b...</td>\n",
       "      <td>-0.002381</td>\n",
       "      <td>0.611905</td>\n",
       "      <td>Negative</td>\n",
       "      <td>0.103937</td>\n",
       "      <td>-0.028976</td>\n",
       "    </tr>\n",
       "  </tbody>\n",
       "</table>\n",
       "</div>"
      ],
      "text/plain": [
       "                                   date       username  \\\n",
       "date                                                     \n",
       "2021-06-23 17:08:22 2021-06-23 17:08:22       Bhekala1   \n",
       "2021-06-23 17:01:12 2021-06-23 17:01:12    newsjourcom   \n",
       "2021-06-23 16:48:00 2021-06-23 16:48:00  MzalendoWatch   \n",
       "2021-06-23 16:42:10 2021-06-23 16:42:10        etyoung   \n",
       "2021-06-23 16:28:53 2021-06-23 16:28:53  bimmerbitcorn   \n",
       "\n",
       "                                                       uncleaned_tweet  \\\n",
       "date                                                                     \n",
       "2021-06-23 17:08:22  Debt Review Restructure Officer - Standard Ban...   \n",
       "2021-06-23 17:01:12  3NEWS:  Standard Bank partners with Microsoft ...   \n",
       "2021-06-23 16:48:00  A national blood bank is very critical for the...   \n",
       "2021-06-23 16:42:10  Just spent 30mins on the phone with @Christies...   \n",
       "2021-06-23 16:28:53  @360_trader They solved interoperability thoug...   \n",
       "\n",
       "                           hashtags  nlikes         search  \\\n",
       "date                                                         \n",
       "2021-06-23 17:08:22  [cv, findwork]       0  Standard Bank   \n",
       "2021-06-23 17:01:12   [gh, economy]       0  Standard Bank   \n",
       "2021-06-23 16:48:00   [bungelivena]       1  Standard Bank   \n",
       "2021-06-23 16:42:10              []      31  Standard Bank   \n",
       "2021-06-23 16:28:53              []       1  Standard Bank   \n",
       "\n",
       "                                                         cleaned_tweet  \\\n",
       "date                                                                     \n",
       "2021-06-23 17:08:22  good day kindly note you will need to visit a ...   \n",
       "2021-06-23 17:01:12                            yes beautiful i love it   \n",
       "2021-06-23 16:48:00  i hope this good bank does not associate itsel...   \n",
       "2021-06-23 16:42:10  today the whole day literally the whole bloody...   \n",
       "2021-06-23 16:28:53  the way i love standard bank and have always b...   \n",
       "\n",
       "                     polarity  subjectivity     Final      mean   rolling  \n",
       "date                                                                       \n",
       "2021-06-23 17:08:22  0.325000      0.500000  Positive  0.325000       NaN  \n",
       "2021-06-23 17:01:12  0.675000      0.800000  Positive  0.200000  0.200000  \n",
       "2021-06-23 16:48:00  0.600000      0.650000  Positive  0.200000  0.255000  \n",
       "2021-06-23 16:42:10 -0.142500      0.548929  Negative  0.145750  0.091500  \n",
       "2021-06-23 16:28:53 -0.002381      0.611905  Negative  0.103937 -0.028976  "
      ]
     },
     "execution_count": 153,
     "metadata": {},
     "output_type": "execute_result"
    }
   ],
   "source": [
    "Final_df.head(5)"
   ]
  },
  {
   "cell_type": "code",
   "execution_count": 154,
   "metadata": {
    "scrolled": true
   },
   "outputs": [
    {
     "data": {
      "image/png": "[encoded data removed]",
      "text/plain": [
       "<Figure size 1440x720 with 1 Axes>"
      ]
     },
     "metadata": {
      "needs_background": "light"
     },
     "output_type": "display_data"
    }
   ],
   "source": [
    "fig = plt.figure(figsize=(20,10))\n",
    "ax = fig.add_subplot(111)\n",
    "\n",
    "#plot data \n",
    "ax.scatter(Final_df['date'],Final_df['polarity'], label='Sentiment')\n",
    "ax.plot(Final_df['date'],Final_df['rolling'], color ='r', label='Rolling Mean')\n",
    "ax.plot(Final_df['date'],Final_df['mean'], color='y', label='Expanding Mean')\n",
    "ax.set(title='STD Bank Tweet Sentiment', xlabel='Date', ylabel='Sentiment')\n",
    "\n",
    "\n",
    "\n",
    "#x-axis management - how many dates left, right\n",
    "ax.set_xlim([Final_df['date'][-1], Final_df['date'][0]])\n",
    "\n",
    "# set monthly locator\n",
    "#x.xaxis.set_major_locator(mdates.DayLocator(interval=5))\n",
    "# set formatter\n",
    "#x.xaxis.set_major_formatter(mdates.DateFormatter('%d/%m/%Y'))\n",
    "\n",
    "\n",
    "# set font and rotation for date tick labels\n",
    "plt.gcf().autofmt_xdate()\n",
    "\n",
    "plt.xticks(Final_df['date'], rotation=90)\n",
    "\n",
    "ax.legend(loc='best')\n",
    "fig.tight_layout()\n",
    "\n",
    "plt.show()\n"
   ]
  },
  {
   "cell_type": "code",
   "execution_count": 155,
   "metadata": {},
   "outputs": [
    {
     "data": {
      "text/plain": [
       "Timestamp('2021-06-23 08:38:55')"
      ]
     },
     "execution_count": 155,
     "metadata": {},
     "output_type": "execute_result"
    }
   ],
   "source": [
    "Final_df['date'][-1]"
   ]
  },
  {
   "cell_type": "code",
   "execution_count": 175,
   "metadata": {},
   "outputs": [],
   "source": [
    "Final_df.to_csv(\"NLP_Standardbank_July.csv\")"
   ]
  },
  {
   "cell_type": "code",
   "execution_count": null,
   "metadata": {},
   "outputs": [],
   "source": []
  }
 ],
 "metadata": {
  "kernelspec": {
   "display_name": "Python 3",
   "language": "python",
   "name": "python3"
  },
  "language_info": {
   "codemirror_mode": {
    "name": "ipython",
    "version": 3
   },
   "file_extension": ".py",
   "mimetype": "text/x-python",
   "name": "python",
   "nbconvert_exporter": "python",
   "pygments_lexer": "ipython3",
   "version": "3.8.5"
  }
 },
 "nbformat": 4,
 "nbformat_minor": 4
}
