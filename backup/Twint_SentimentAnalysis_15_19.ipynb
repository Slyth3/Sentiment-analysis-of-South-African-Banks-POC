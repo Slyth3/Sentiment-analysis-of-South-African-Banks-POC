{
 "cells": [
  {
   "cell_type": "markdown",
   "metadata": {},
   "source": [
    "### To Do \n",
    "\n",
    "* run for 10 years\n",
    "\n",
    "https://medium.com/analytics-vidhya/utilizing-twint-and-textblob-for-scraping-and-sentimenet-analysis-of-caucasianjamess-tweets-c1c548f52bbb\n",
    "\n",
    "1. Check textblob - can I improve the sentiment score??\n",
    "\n",
    "2. get customer satisfaction index (CSI) numbers - do they correlate to the Twitter sentiment "
   ]
  },
  {
   "cell_type": "markdown",
   "metadata": {},
   "source": [
    "# Project: Bank Sentiment Analysis \n",
    "\n",
    "## Summary \n",
    "Compare customer sentiment of the top 4 Banks in South Africa via rolling twitter sentiment scores \n",
    "Identify the banks with the most satisfied customer base\n",
    "\n",
    "#### Operations\n",
    "Twint to scrape tweets of the top 4 banks in South Africa \\\n",
    "Clean tweets with WordPunctTokenizer and Regex \\\n",
    "TextBlog to process sentiment of tweets \n",
    "Matplotlib / Seaborn to visualise data \n",
    "#### Project 2:\n",
    "Compare results to the Customer Satifaction Index (CSI) and determine if the CSI is a correct reflection of the consumer sentimen\n",
    "-> CSI is obtained by ____\n",
    "#### Project 3:\n",
    "Bank outages play a large factor in the customer sentiment and overall customer satisfaction \n",
    "\n",
    "use:https://downdetector.co.za/"
   ]
  },
  {
   "cell_type": "markdown",
   "metadata": {},
   "source": [
    "## Twint quick guide\n",
    "\n",
    "https://github.com/Slyth3/Twitter_NLP/blob/main/Quick%20Twint%20Code.txt\n",
    "\n",
    "Github - https://github.com/twintproject/twint"
   ]
  },
  {
   "cell_type": "code",
   "execution_count": 2,
   "metadata": {},
   "outputs": [],
   "source": [
    "import twint\n",
    "import pandas as pd\n",
    "import nest_asyncio\n",
    "nest_asyncio.apply()            #for compatibility issues with twint\n",
    "import matplotlib.pyplot as plt\n",
    "import glob # for pandas concat\n",
    "import os\n",
    "#import matplotlib.dates as mdates\n",
    "import numpy as np\n",
    "import datetime as dt\n",
    "import seaborn as sns\n",
    "\n",
    "#cleaning\n",
    "import re\n",
    "from nltk.tokenize import WordPunctTokenizer\n",
    "from nltk.corpus import stopwords             \n",
    "\n",
    "# NLP\n",
    "from textblob import TextBlob\n",
    "\n",
    "#word cloud and stopwords\n",
    "from wordcloud import WordCloud"
   ]
  },
  {
   "cell_type": "markdown",
   "metadata": {},
   "source": [
    "### Configure and run Twint (twitter scrapper)"
   ]
  },
  {
   "cell_type": "code",
   "execution_count": 3,
   "metadata": {},
   "outputs": [],
   "source": [
    "def twintConfig_CSV(date_from,date_to, search_vals): \n",
    "    c = twint.Config()\n",
    "    c.Search = search_string[1]\n",
    "    c.Lang = \"en\"\n",
    "    c.Since = date_from\n",
    "    c.Until = date_to\n",
    "    c.Store_csv = True\n",
    "    c.Output = \"Full_\"+search_string[0]+\".csv\"\n",
    "    c.Resume = \"resume_id_\"+search_string[0]+\".txt\"\n",
    "    twint.run.Search(c)\n",
    "    \n",
    "def twintConfig_pandas(date_from,date_to, search_string):\n",
    "    c = twint.Config()\n",
    "    c.Search = search_string[1]\n",
    "    c.Lang = \"en\"\n",
    "    c.Since = date_from\n",
    "    c.Until = date_to\n",
    "    c.Pandas = True\n",
    "    c.Resume = \"resume_id_\"+search_string[0]+\".txt\"\n",
    "    twint.run.Search(c)"
   ]
  },
  {
   "cell_type": "markdown",
   "metadata": {},
   "source": [
    "### Run twint"
   ]
  },
  {
   "cell_type": "code",
   "execution_count": 4,
   "metadata": {},
   "outputs": [],
   "source": [
    "#bank_search = {\"FNB\":\"FNBSA\", \"StandardBank\":\"StandardBankZA OR \\\"Standard Bank\\\" OR \\\"standard bank\\\"\",\"Nedbank\":\"Nedbank OR nedbank\",\"ABSA\": \"Absa OR ABSA OR absa OR AbsaSouthAfrica\"}\n",
    "bank_search = {\"FNB\":\"FNBSA\", \"StandardBank\":\"StandardBankZA OR \\\"Standard Bank\\\" OR \\\"standard bank\\\"\"}\n",
    "since = \"2021-09-14\"\n",
    "until = \"2021-09-16\"\n",
    "\n",
    "def Run_Twint_pandas(search_vals):\n",
    "    \n",
    "    #set empty dataframe\n",
    "    Final_df= pd.DataFrame()\n",
    "    \n",
    "    for bank in search_vals.items():\n",
    "        print (\"running: \"+bank[0]+\"\\n\")\n",
    "        print (\"Search string: \"+bank[1]+\"\\n\")\n",
    "        \n",
    "        #run twint CSV\n",
    "        twintConfig_pandas(since,until, bank)\n",
    "        \n",
    "        #get dataframe\n",
    "        tweets_df = twint.storage.panda.Tweets_df\n",
    "        \n",
    "        #join Dataframes, create csv and create Bank name column\n",
    "        tweets_df[\"Bank\"]= bank[0]\n",
    "        tweets_df.to_csv(\"pre_cleaning_\"+bank[0]+\".csv\")\n",
    "        Final_df = pd.concat([Final_df,tweets_df])\n",
    "        \n",
    "    return Final_df"
   ]
  },
  {
   "cell_type": "code",
   "execution_count": 10,
   "metadata": {
    "scrolled": true
   },
   "outputs": [
    {
     "name": "stdout",
     "output_type": "stream",
     "text": [
      "running: FNB\n",
      "\n",
      "Search string: FNBSA\n",
      "\n",
      "[!] No more data! Scraping will stop now.\n",
      "found 0 deleted tweets in this search.\n",
      "running: StandardBank\n",
      "\n",
      "Search string: StandardBankZA OR \"Standard Bank\" OR \"standard bank\"\n",
      "\n",
      "1437922159498723328 2021-09-15 01:32:12 +0200 <ishanviconstru1> Send  any one that is available on the list ASAP. I Need account for wire loading. No online logins. Just normal bank details to receive $100k  (1) DB London  (2) BNP Paribas Singapore  (3) BNP Paribas France  (4) BNP Paribas Germany  (5) Standard Bank Switzerland  (6) Standard\n",
      "1437918949199396870 2021-09-15 01:19:27 +0200 <Junior08790429> **I don't know Lucas Leung tied to other staff. Or Lucas mok or audi or those guys from goldan Sachs and standard bank criminal scams.**  But I know this one 🤔\n",
      "1437918773768507398 2021-09-15 01:18:45 +0200 <DanielMashaba2> #Ucount with @StandardBankZA every purchase earns you points 🤗\n",
      "1437905019307708416 2021-09-15 00:24:06 +0200 <Cybr_Awareness> ATM’s should have an option to choose the notes you want prior withdrawals just after selecting the amount to withdraw.  E.g. if you want in 10’s you only get those, same applies to 20’s, 50’s and 10’s ONLY.    @FNBSA @Nedbank @StandardBankZA\n",
      "1437888457892896774 2021-09-14 23:18:17 +0200 <lusanduh> I've been looking to move away from thost standard bank uglies. Maybe this is a sign???\n",
      "1437888370424832005 2021-09-14 23:17:56 +0200 <Ulfahkasu> @lazyorlaylah Go through FNB or standard bank. Although I doubt you will get an appointment for tomorrow\n",
      "1437887642629255185 2021-09-14 23:15:03 +0200 <lizzyjaman> @StandardBankZA  https://t.co/BlJbyQlgFk\n",
      "1437886307343163399 2021-09-14 23:09:44 +0200 <Comfort61218039> @AbsaSouthAfrica @FNBSA @StandardBankZA @Nedbank @CapitecBankSA\n",
      "1437884324238528521 2021-09-14 23:01:52 +0200 <thobekankalanga> Standard Bank blocked my cards, and locked me out of my banking app😭. Yho what a difficult.\n",
      "1437876478071427072 2021-09-14 22:30:41 +0200 <ZarMamma> @Kaabwe @PaulinaM1306 @WesBank In times of need like these, when we really need them to advise &amp; be considerate of a nation on its economic knees, they won’t answer!! But when times are good, they put up billboards because they want our business! 😒 All the same @AbsaSouthAfrica @Nedbank @StandardBankZA!  https://t.co/Ip5yFoNRx5\n",
      "1437876212140056581 2021-09-14 22:29:38 +0200 <CAMx502xS> @rubicon20192 Everything from your standard bank to Venmo, cashapp, crypto, etc… and yeah it’s all transactions for any accounts that has $600 plus in it. Not just for $600 transactions and up.\n",
      "1437872605843841025 2021-09-14 22:15:18 +0200 <Smax_Nuz> Mina guys I had my password coz uGirl likes browsing the standard bank app.... Ay no... No no No..... Next thing \"angithi kusasele uR3k Mina ngidinga only R400\" , aybo..... HAYBO WENJA!!!\n",
      "1437866021940076556 2021-09-14 21:49:08 +0200 <Maleage_M> @Neo_MaimelaK @FNBSA @StandardBankZA @AbsaSouthAfrica @interrec Come to my house for Free consultation. U know the address  https://t.co/1blva1TPxc\n",
      "1437865321453404164 2021-09-14 21:46:21 +0200 <onepostguy> Standard bank matter religious strong. Town many act thought probably see scientist. Feel form sound station specific. Same begin method tonight.\n",
      "1437864726118141952 2021-09-14 21:43:59 +0200 <Mooi_Maifadi> Honored and proudly wearing my badge🎖, as I am a delegate for this year's Standard Bank Top Women Virtual Conference @SBTopWomen , joining the world's fastest growing platform for women who lead.  #BraveConversations #SBTopWomen #topwomen #businesswomenconnect #womenleaders  https://t.co/11BnbzZfDK\n",
      "1437861164847861765 2021-09-14 21:29:50 +0200 <Brajob_> @StandardBankZA see what other kids are doing\n",
      "1437859297011064835 2021-09-14 21:22:25 +0200 <M2DTsheko> 1st event Fyn Run with Standard Bank  https://t.co/KKlvn0fXee\n",
      "1437857626918948873 2021-09-14 21:15:47 +0200 <KandimanChris> @MfokaMqulusi Endured not FNB but ABSA as e.g., they will tell you have this amount then you go &amp; use it but it declines coz no they had to charge for this &amp; that then why tell me I have that amount &lt;smh&gt;. I liked Standard Bank but they made a mistake I had to suffer for it. So far NEDBANK #1\n",
      "1437854418041458690 2021-09-14 21:03:01 +0200 <TshukiriM> Proud to announce that our CEO @Mooi_Maifadi is one of this year's delegate(s) for the Standard Bank Top Women Virtual Conference.   This is bought to you by @SBTopWomen in partnership with @topcomedia_   #BraveConversations #sbtopwomen #topwomen  https://t.co/qgiJQlXDhc\n",
      "1437843876920926212 2021-09-14 20:21:08 +0200 <Netshipride> @StandardBankZA Existing beneficiaries\n",
      "1437843711929602049 2021-09-14 20:20:29 +0200 <Neo_MaimelaK> @Maleage_M @FNBSA @StandardBankZA @AbsaSouthAfrica @interrec So, I must go back &amp; be in debt of some sort to build up? 😅🤷🏽‍♀️\n",
      "1437843569650380803 2021-09-14 20:19:55 +0200 <ThatgirlLee__> 😭😭😭😭mine has declined at the canteen on campus. I didn't know Standard Bank blocked my card for fraud. I've never been humiliated. Since then I panic everytime I pay at the canteen.\n",
      "1437843187268194311 2021-09-14 20:18:24 +0200 <Neo_MaimelaK> @Maleage_M @FNBSA @StandardBankZA @AbsaSouthAfrica @interrec I'm questioning the system in this case.\n",
      "1437843084520398857 2021-09-14 20:17:59 +0200 <Neo_MaimelaK> @Maleage_M @FNBSA @StandardBankZA @AbsaSouthAfrica @interrec What &amp; how is it building up? What measured the period of building up. I'm debt free now &amp; can pay monthly repayments now, who's building up what?\n",
      "1437842683964317704 2021-09-14 20:16:24 +0200 <gestapo_za> Kindly alert and teach alert our elders  @FNBSA  @CapitecBankSA  @StandardBankZA  @Nedbank  @AbsaSouthAfrica   #LoveFNB  #CyberSecurity  #HackedAgain #informationsecurity\n",
      "1437838808469413897 2021-09-14 20:01:00 +0200 <ndiphiweMkuzo> @StandardBankZA Mdantsane Mall branch. N.U 6\n",
      "1437837572567232514 2021-09-14 19:56:05 +0200 <HelloFuture01> @AriDavidPaul @aceloew @hedera -NHS UK tracking Pfizer vaccine -AdsDax logging daily 1+ million tx for advertisement -Standard Bank tokenizing Bond Market -EFTPOS micropaymnt for entire Australia -MVC global tracking medicine in Bahrain and Lebanon -Coupon Bureau digitising entire US coupon market MANY MORE...\n",
      "1437832892848254980 2021-09-14 19:37:29 +0200 <Maleage_M> @Neo_MaimelaK @FNBSA @StandardBankZA @AbsaSouthAfrica @interrec A credit Score takes time to build up hunn It doesn't shoot up just after you've settles ur debts. Be patient\n",
      "1437831578890145803 2021-09-14 19:32:16 +0200 <Neo_MaimelaK> Kgante how do these things work? I'm so happy I'm finally debt free. Paid up my car &amp; credit card with no accounts but I cannot qualify for a bond because my credit score is low🤷🏾‍♀️ @FNBSA @StandardBankZA @AbsaSouthAfrica @interrec\n",
      "1437830265649475586 2021-09-14 19:27:03 +0200 <Designdesign15> @StandardBankZA i think you should leave insurance to insurance agencies. You are a dismal failure. I lodged a claim at your branch last week. No even a sms to acknowledge the receipt fokol shame. Learn something from @sanlam they are very good at it jealous down.\n",
      "1437827381134340108 2021-09-14 19:15:35 +0200 <leago101> @StandardBankZA when are y’all getting Apple Pay?\n",
      "1437824387722457103 2021-09-14 19:03:42 +0200 <Bhekala1> Banker - Standard Bank - Gauteng  https://t.co/7wpBgdXkZK #CV #findwork\n",
      "1437823642881036288 2021-09-14 19:00:44 +0200 <M3W87659584> IIT Madras - India London School of Economics - UK Chainlink - Crypto Space Shinhan Bank - South Korea Électricité de France S.A. (EDF) - France Standard Bank - South Africa  #HBAR 🚀🚀 #HEDERA #Hashgraph #HederaHashgraph #HODL #bitcoin #cryptocurrency #Crypto #cryptocurrencies\n",
      "1437820801005375490 2021-09-14 18:49:27 +0200 <Netshipride> @StandardBankZA I am using Android and always update my app, but my question is how does an immediate payment go through without requesting verification\n",
      "1437818792218857474 2021-09-14 18:41:28 +0200 <JohannesPhukub1> @MzwaneleManyi We are lost meneer, which ATM must we vote for? ABSA or STANDARD BANK?\n",
      "1437818386151612419 2021-09-14 18:39:51 +0200 <VDubese> This week is something else, and it's only Tuesday 🥰.  In the next coming days, I also get to put on my moderating hat for Standard Bank and connect with some of the most impactful women on the continent and their strategies on equitable transformation and inclusion solutions.\n",
      "1437809870275756040 2021-09-14 18:06:00 +0200 <Bhekala1> Manager - Standard Bank - Gauteng  https://t.co/A0halIF3x3 #joblinks #resume\n",
      "1437804535607664644 2021-09-14 17:44:49 +0200 <GamaOlwethu> @StandardBankZA possible to add @unisa as a bank approved beneficiary on your internet banking/app banking?\n",
      "1437802579258449928 2021-09-14 17:37:02 +0200 <gsport4girls> River paddling star, Christie Mackenzie, shows impressive form winning the SA K1 River Championship title at the recent Standard Bank Liebenbergsvlei Canoe Marathon. #GoGirls    https://t.co/SDkHrFck0y\n",
      "1437802134213386246 2021-09-14 17:35:16 +0200 <Tebogo_sir> Looking for a junior conveyancing secretary   Who specialises in bonds (standard bank and fnb)   To start ASAP  Johannesburg  Email: faith@mathebulainc.co.za\n"
     ]
    },
    {
     "name": "stdout",
     "output_type": "stream",
     "text": [
      "1437800824177152005 2021-09-14 17:30:04 +0200 <tshego_foster> Standard bank has been driving me insane these past few days 😩.\n",
      "1437799808379592710 2021-09-14 17:26:02 +0200 <WeSolve4x> Banking Details #R10GoesALongWay Bank name: Standard Bank South Africa Branch code: 051001 Account holder: WESOLVE4X FOUNDATION NPC  Account number: 10144592663 Account type: CURRENT SWIFT code: SBZAZAJJ  All donations are tax deductable  Registered PBO No.: 930066035  https://t.co/jHvCm00DXh\n",
      "1437799626657107970 2021-09-14 17:25:18 +0200 <Ipeleng101> ???? .@StandardBankZA\n",
      "1437798729483005957 2021-09-14 17:21:44 +0200 <WeSolve4x> @mlondikaziee @KabeloMohlah02 @DBE_SA @NGOBESETsietsi Banking Details #R10GoesALongWay Bank name: Standard Bank South Africa Branch code: 051001 Account holder: WESOLVE4X FOUNDATION NPC  Account number: 10144592663 Account type: CURRENT SWIFT code: SBZAZAJJ  All donations are tax deductable  Registered PBO No.: 930066035\n",
      "1437797165661925381 2021-09-14 17:15:31 +0200 <WeSolve4x> @KabeloMohlah02 @DBE_SA @NGOBESETsietsi Thank you very Much   Banking Details #R10GoesALongWay Standard Bank South Africa Branch code: 051001 Account holder: WESOLVE4X FOUNDATION NPC  Account number: 10144592663 Account type: CURRENT SWIFT code: SBZAZAJJ  All donations are tax deductable Registered PBO No: 930066035  https://t.co/KQ3eF4ltN4\n",
      "1437797053539696640 2021-09-14 17:15:05 +0200 <Ipeleng101> @StandardBankZA hayibo guys? Where's my Ucount rewards dischem voucher that I just bought earlier? I need to pay for my purchases and it's not appearing on the app\n",
      "1437794376961478668 2021-09-14 17:04:27 +0200 <CSA_DVillamizar> Fantastic news from the wider ASC Team.   Well done to the all the of the team who helped bring  The Standard Bank of South Africa over the line.  #financeindustry #bankingindustry #Compliant #Callrecording #Microsoft  https://t.co/VETzHkTKL7 Translated using #MicrosoftFlow\n",
      "1437794197701111827 2021-09-14 17:03:44 +0200 <Jannon_01> Fantastic news from the wider ASC Team.   Well done to the all the of the team who helped bring  The Standard Bank of South Africa over the line.  #financeindustry #bankingindustry #Compliant #Callrecording #Microsoft  https://t.co/nzdEgg55gd\n",
      "1437791956290129933 2021-09-14 16:54:49 +0200 <GranadeN_97> @wannabetrades @cryptocom @hedera Standard Bank has already stated that is going to use Hedera for Cross border payments and for tokenizing the african Bond Market.\n",
      "1437785754479087620 2021-09-14 16:30:11 +0200 <AucorAuction> Aucor Nationwide is hosting a Standard Bank Vehicle Asset Finance Webcast auction! Webcast bidding starts on Monday, 20 September at 10:30 For listings &amp; images  https://t.co/RlJvgcha5l For online support call/ Whatsapp us on 063 934 9301 Online Tutorials  https://t.co/DPEeGoKSFS  https://t.co/x8LJDIBwMV\n",
      "1437785089707028491 2021-09-14 16:27:32 +0200 <shanghaimarcus> Epic couple of days for #wosa in Shenzhen, masterclass for 100+, trade tasting for 250, ICBC Standard Bank event for 50, #Spectacularsouthafrica in China  https://t.co/nCpQntt5DI\n",
      "1437784499153211397 2021-09-14 16:25:11 +0200 <Prabir_Paima> @StandardBankZA Awesome.thanks!\n",
      "1437783372491800584 2021-09-14 16:20:43 +0200 <Mahlatse57> @StandardBankZA I thought as much. Thank you, let me block them\n",
      "1437782739458134020 2021-09-14 16:18:12 +0200 <Prisca19131212> @StandardBankZA Sent via dm\n",
      "1437779872978513923 2021-09-14 16:06:49 +0200 <Bhekala1> Banker - Standard Bank - Gauteng  https://t.co/7wpBgdXkZK #joblinks #findwork\n",
      "1437779571605188622 2021-09-14 16:05:37 +0200 <Bhekala1> Manager - Standard Bank - Gauteng  https://t.co/wnwOdE6brQ #joblinks #findwork\n",
      "1437778254119702529 2021-09-14 16:00:23 +0200 <masieC> @BvbalwaM @StandardBankZA\n",
      "1437776914698092544 2021-09-14 15:55:03 +0200 <Prabir_Paima> @StandardBankZA getting lots of calls from 080 000 5559 trying to get my details posing as you guys.\n",
      "1437774420295233539 2021-09-14 15:45:09 +0200 <BvbalwaM> Guys how do you tap and pay with your phone using Standard Bank?\n",
      "1437771744698372104 2021-09-14 15:34:31 +0200 <Baleseng_Teboho> @Love_leesah_ You can also play on the Standard Bank App\n",
      "1437769752752033793 2021-09-14 15:26:36 +0200 <Prisca19131212> @StandardBankZA Ive sent the paid up letter via dm\n",
      "1437768108505190405 2021-09-14 15:20:04 +0200 <simzzz_XOXO> Aowa @StandardBankZA this can't be your idea of customer service. This is not it!\n",
      "1437767552969678856 2021-09-14 15:17:51 +0200 <loof_831> @SirRobArtII1 EOY 2-3$ HBAR ez bear market ain’t finished…  HBAR its partnered to Standard Bank / Standard Bank its Partnered to Mojaloop and Mojaloop its tied to Ripple :)\n",
      "1437766678146949127 2021-09-14 15:14:23 +0200 <lucasingels> @AbutiMatt Capitec is not interested in it. Standard Bank likes to make people wait 😂\n",
      "1437764763090624519 2021-09-14 15:06:46 +0200 <Bhekala1> Banker - Standard Bank - Gauteng  https://t.co/09hNNywbPj #CV #jobs\n",
      "1437764492423831558 2021-09-14 15:05:42 +0200 <Bhekala1> Manager - Standard Bank - Gauteng  https://t.co/TRKM8Zpq0t #CV #jobs\n",
      "1437763968240660481 2021-09-14 15:03:37 +0200 <Bhekala1> Head - Standard Bank - Gauteng  https://t.co/1hT5RHOOph #CV #jobs\n",
      "1437763187387117578 2021-09-14 15:00:30 +0200 <TheNamibian> Amalia Akwaake, one of the two women charged in connection with the disappearance of N$1,1 million from Standard Bank Arandis in May, was denied bail on Friday.  https://t.co/nA3mOlHIra  https://t.co/vj40ZBTCik\n",
      "1437761684643401730 2021-09-14 14:54:32 +0200 <StandardBankSZ> At Standard Bank we believe that Eswatini is our home, we drive her growth through our support towards educational initiatives aimed at empowering the youth and inculating a culture of entrepreneurship and resilience for Emaswati. #ItCanBe   https://t.co/WnsRoXvIDc\n",
      "1437761479776874503 2021-09-14 14:53:43 +0200 <StandardBankSZ> ENACTUS and Standard Bank’s partnership aims to instill in our future entrepreneurs the skills they can use to succeed in entrepreneurship, including expansion beyond the confines of the informal environment. #ItCanBe   https://t.co/nKIr8oeknh\n",
      "1437760000588500994 2021-09-14 14:47:51 +0200 <ThobileMp> @StandardBankZA ATM swallowed my card. Still waiting for a replacement card that they'll charge me for (🤬) Since it was my primary card, I can't even access the app. And now I don't have petrol Ngaze ngahlukumezeka\n",
      "1437757518307119108 2021-09-14 14:37:59 +0200 <Diketso_Nape> @StandardBankZA I requested you to please assist me because, you closed down the branch where I, I could have been assisted if you did not close the branch. Now get one of your consultants to please call me.\n",
      "1437756430765940740 2021-09-14 14:33:39 +0200 <tshelo19> @StandardBankZA I opened a late estate account a month ago with ur bank...till today I'm still not assisted.Maria Mafunda was the agent that assisted me,no communication from my follow up emails\n",
      "1437756098669432835 2021-09-14 14:32:20 +0200 <kzmhlongo> @LandNoli This just reminds me of the question Malema asked at SCA Interviews to one Judge who held shares at Standard Bank. How do you defend the cases against the same entity where you hold shares.\n",
      "1437755344202211341 2021-09-14 14:29:20 +0200 <Diketso_Nape> @StandardBankZA Am really not happy with your service. You don't take your customers serious\n",
      "1437754811131342849 2021-09-14 14:27:13 +0200 <Netshipride> My App stops working with a message saying not responding and closes when I am making payments, even on immediate payments and it processes the payments without OTPs, is this not a security hazard?@StandardBankZA\n",
      "1437753125499195397 2021-09-14 14:20:31 +0200 <CareerpointSolu> New Job Opportunity at Standard Bank Group  https://t.co/umlCUntsrr\n",
      "1437752798901374980 2021-09-14 14:19:14 +0200 <singakwenza> Grateful to @StandardBankZA for their sponsorship of this training.\n",
      "1437751919771013129 2021-09-14 14:15:44 +0200 <Newza_B> Wena you make me sick @StandardBankZA ! Just because you see it as competitor to SnapScan.\n",
      "1437751738174476289 2021-09-14 14:15:01 +0200 <iaylrvw> @StandardBankZA *جنس متفاوت\n",
      "1437751588387495939 2021-09-14 14:14:25 +0200 <JamzaNews> @StandardBankZA any plans on selling Bitcoin and other crypto's?  Banks are already selling crypto overseas.\n",
      "1437747741334151174 2021-09-14 13:59:08 +0200 <Prisca19131212> @StandardBankZA can someone look into this matter. Its staining my credit record and am now willing to pay money i dont owe. Ive emailed my proof of payment numerous times still no assistance\n",
      "1437746894197907467 2021-09-14 13:55:46 +0200 <Prisca19131212> @StandardBankArt i had a standard bank account and credit card. I closed them in 2019, went to the bank to close my cheque account and paid off my credit. I have paid up letter for my credit card. I was called early this month to say i owe standard bank 4000 rand???\n",
      "1437745683902181380 2021-09-14 13:50:57 +0200 <Mahlatse57> Hi @StandardBankZA  i was called by this number and they say they represent your mobile app unit, is this legit ?  https://t.co/I23zsD6gF7\n",
      "1437745249401647108 2021-09-14 13:49:14 +0200 <Hazer__ZA> @StandardBankZA Awesome thank you so much for your prompt response 😁\n",
      "1437744709573750785 2021-09-14 13:47:05 +0200 <ArenaEventsZA> In part 4 of the #StandardBankSMESummit, @pavlobiz and @StandardBankZA will show you how to develop a growth strategy and access the funding to bring it to life to accelerate sales and turn your income-generating business into an asset. Register here:  https://t.co/GAuz6Df4G1\n",
      "1437744344992296960 2021-09-14 13:45:38 +0200 <zakithi223> That is located central of Johannesburg. Please turn back, It’s not worth your life 🚩 my mate revealed things about this place.  Sometimes the job posting will state that it’s within Standard Bank but upon arrival apologize that they”gave the wrong address” Please be safe.\n",
      "1437742526727966720 2021-09-14 13:38:24 +0200 <MaansLee> @sbproamseries1 @StandardBankZA @cloud9golf @JennyHavengaLD @cloud9golfgina @SerengetiEST @WannaBeAChamp @mkalipi_luyolo @SuperSportTV @SATourGolf1 @SLadiesTour So proud of you all you ladies! Well done to all!\n",
      "1437741930474086404 2021-09-14 13:36:02 +0200 <Hazer__ZA> @StandardBankZA This is still happening  https://t.co/GwV3gYMWsu\n",
      "1437741797070024711 2021-09-14 13:35:31 +0200 <Lukke3286> @MEB40122141 @StandardBankZA M @StandardBankZA  replied after @LibertyLondon  asked them too. I need to take my case up with the Ombudsman as their decision is final, my problem is that Standard did not investigate my claim based on the nature thereof hence everyone sang along!\n",
      "1437741323432439809 2021-09-14 13:33:38 +0200 <FarmersAfric> @StandardBankZA concludes 25% equity deal with Agri-Fintech platform, #HelloChoice  https://t.co/C9KaZCMtUv via @Farmers Review Africa #Farmers #agriculture #foodsecurity #SouthAfrica #foodfowardSA\n",
      "1437740956082712578 2021-09-14 13:32:10 +0200 <theboy13_> @StandardBankZA 🥺🔥It's encouraging\n",
      "1437740876197990404 2021-09-14 13:31:51 +0200 <channelafrica1> Standard Bank drives African women’s economic development|  https://t.co/uNje0NkU2i  https://t.co/uqydbR5xxV\n",
      "1437740778084868098 2021-09-14 13:31:28 +0200 <ChrisyCcR227> @AneleAndTheClub @StandardBankZA #AneleandTheClubon947 #FrankiesTombola this is so fun to listen to ...Uncle Frankie is really making his birthday a blessing to others... Thanks to your awesome colleagues... I choose number 28 on your Tombola... Chrisy\n",
      "1437739163911172098 2021-09-14 13:25:03 +0200 <LumkaKhaile> #BraveConversations  countdown to Standard Bank #TopWomen 2021: 6-7 Oct top  https://t.co/E8kur4ZHNt  https://t.co/3t5OGwmqy1\n",
      "1437738640621375488 2021-09-14 13:22:58 +0200 <Pi73366052> @MfokaMqulusi Standard bank\n",
      "1437738487558594563 2021-09-14 13:22:21 +0200 <AbutiMatt> @StandardBankZA You’ve beeeeeen saying\n",
      "1437738360857055239 2021-09-14 13:21:51 +0200 <tressamaroos> So excited to be a top women delegate at the Standard Bank Top Women 2021 conference😁😆👏👏💃💃🥳🥳  #BraveConversations  #TopWomen  https://t.co/StbAMilAbx\n",
      "1437737958031826946 2021-09-14 13:20:15 +0200 <CareerpointSolu> New Job Opportunity at Standard Bank Group  https://t.co/VBH7YPnp5L\n",
      "1437737903946305541 2021-09-14 13:20:02 +0200 <CareerpointSolu> New post: New Job Opportunity at Standard Bank Group  https://t.co/VBH7YPnp5L #IKoKazi #IkoKaziKe\n"
     ]
    },
    {
     "name": "stdout",
     "output_type": "stream",
     "text": [
      "1437737190684078087 2021-09-14 13:17:12 +0200 <AbutiMatt> Love it, wish @StandardBankZA can be on Apple Pay soon\n",
      "1437734068066586634 2021-09-14 13:04:48 +0200 <Bhekala1> Manager - Standard Bank - Gauteng  https://t.co/C8vAS99Eej #joblinks #resume\n",
      "1437733490456473600 2021-09-14 13:02:30 +0200 <BMDaily1> Take control of your finances with Standard Bank’s My360 app  https://t.co/OSCOOKvFIw\n",
      "1437732927165636613 2021-09-14 13:00:16 +0200 <BusinessTechSA> [Promoted] Take control of your finances with Standard Bank’s My360 app  https://t.co/fIJ0gpRy70\n",
      "1437731517032280067 2021-09-14 12:54:40 +0200 <uSamukelokuhleM> It's the new Heineken ad for me...  Also Standard bank throwing shade at the other Banks for having black cards... Lol\n",
      "1437727379418488838 2021-09-14 12:38:13 +0200 <Thabang4real> WHO ARE THE STANDARD BANK CHENIN BLANC TOP TEN CHALLENGE 2021 WINNERS? @StandardBankArt #4realness   https://t.co/J4SnnAplEe\n",
      "1437726621008601090 2021-09-14 12:35:12 +0200 <jeremyproome> @StandardBankZA is someone able to assist with a query?\n",
      "1437723275728232449 2021-09-14 12:21:55 +0200 <ndiphiweMkuzo> @StandardBankZA  black people shouldn't have to experience what white folks dont in town.\n",
      "1437722657072549888 2021-09-14 12:19:27 +0200 <ndiphiweMkuzo> @StandardBankZA your staff is fighting here. Others are gossiping about a queenstown colleague who got suspended. I've been waiting for fingerprint authorization. Its taking 2 hours to update my address and its not even full. Its like a municipal office of ANC comrades here!\n",
      "1437722306885861380 2021-09-14 12:18:04 +0200 <Baitumetse_> Re kgopela fontein ya rena bao sokola le bao thloka standard bank 😔\n",
      "1437722059585605639 2021-09-14 12:17:05 +0200 <sbproamseries1> Big congratulations to the 30 girls who have completed Level 2 of the Standard Bank Golf Development Programme.  We are proud of you all and good luck with Level 3.  Thank you @StandardBankZA for making this possible.  #ItCanBe  #SBProAmSeries  @cloud9golf  @JennyHavengaLD  https://t.co/bSEIoN9BEx\n",
      "1437722028581298176 2021-09-14 12:16:57 +0200 <ElGrusman> @StandardBankZA Results regarding my account P.S\n",
      "1437721260667162631 2021-09-14 12:13:54 +0200 <ITWebConnect> Take control of your finances with Standard Bank’s My360 app  https://t.co/Ql8afi6Qxd @StandardBankZA\n",
      "1437720760278261762 2021-09-14 12:11:55 +0200 <AfroBirdTail> @StandardBankZA  https://t.co/tG38Ph4Hny\n",
      "1437720543214571522 2021-09-14 12:11:03 +0200 <TheAfricaReport> Standard Bank;s new approach to banking:  “This is the future. Retailers have got space they don’t fully utilise. This will radically change our distribution strategy,” says Lungisa Fuzile, head of #SouthAfrica.  Report by @whitehouse789.    https://t.co/N2o5MpkJsx\n",
      "1437719908553535495 2021-09-14 12:08:32 +0200 <Bhekala1> Head - Standard Bank - Gauteng  https://t.co/1hT5RHOOph #joblinks #jobs\n",
      "1437717154342883328 2021-09-14 11:57:35 +0200 <Lukke3286> @philita_ @MEB40122141 @TopThestreets @StandardBankZA It's no longer South African to be honest, because if they were, we would not be begging for basic service, what are they being paid for, just to collect money for the shareholders and zero service delivery? 🤦🏽‍♂️\n",
      "1437717106687086596 2021-09-14 11:57:24 +0200 <Ndlhovhini> @Lemii_LoCo @StandardBankZA They might have a cool header but they are still a shitty bank 🙈\n",
      "1437716362210779137 2021-09-14 11:54:26 +0200 <BravoVictor77> @StandardBankZA Actually what are the benefits of having titanium credit card🤷\n",
      "1437716275678035971 2021-09-14 11:54:06 +0200 <enhle_ngubeni> @LukhonaMnguni what’s Yonela’s thinking about collaborating with Mbuso Khoza I watched them separately at the Standard Bank Arena back before Covid they are great #PowerTalk\n",
      "1437715749838237699 2021-09-14 11:52:00 +0200 <philita_> @Lukke3286 @MEB40122141 @TopThestreets @StandardBankZA Standard bank is now losing it to be honest. It’s my bank for many years but I am not happy at all about them\n",
      "1437715282382897154 2021-09-14 11:50:09 +0200 <_rahul_rahul> This is thief bank @KotakBankLtd @KotakCares  no email id on their home page to drop mail. Such a cheater an double standard bank @RBI @jagograhakjago  https://t.co/DwIElux57z\n",
      "1437714918359412736 2021-09-14 11:48:42 +0200 <Lukke3286> @philita_ @MEB40122141 @TopThestreets @StandardBankZA 5 days ago @StandardBankZA asked me to share my story in order for them to change my perception of them, this morning after @MEB40122141  asked 4 feedback, they DM me asking for my ID + contact when I provided it 5 days ago 😠🐄\n",
      "1437714381517824002 2021-09-14 11:46:34 +0200 <Lukke3286> @philita_ @MEB40122141 @TopThestreets @StandardBankZA So sorry that your family had this experience. It's unreal how out of touch people choose to be with reality and humanity. Their slogans and Logan's are misleading the public to trust them with our money, they play boss when it's time to pay\n",
      "1437714094065389569 2021-09-14 11:45:26 +0200 <AfroBirdTail> @StandardBankZA Irrespective. There has to be a point where there is a cut off. Not everyone who holds a dormant account is still alive.\n",
      "1437713503851274242 2021-09-14 11:43:05 +0200 <philita_> @MEB40122141 @TopThestreets @Lukke3286 @StandardBankZA I had a very bad experience with a funeral cover of my niece who died last month. Standard bank failed to pay despite assuring us it will pay in 48-72hrs. We only received money last week after 2wks of burial.We had to borrow money from somewhere. Bad service Standard bank\n",
      "1437712374283264003 2021-09-14 11:38:36 +0200 <Bhekala1> Banker - Standard Bank - Gauteng  https://t.co/4Ty67u4y3e #resume #jobs\n",
      "1437711911584505870 2021-09-14 11:36:45 +0200 <Bhekala1> Manager - Standard Bank - Gauteng  https://t.co/tsGyWaSYHC #resume #jobs\n",
      "1437710692660940804 2021-09-14 11:31:55 +0200 <NtukRSA> @StandardBankZA 1. Console B has extra cable pots  2. Console B has no PS logo 2. Console A has blue/purple LED conor Console B has yellow LED conor 4. Console A is missing the open/close button #BecauseUCount\n",
      "1437710676596871175 2021-09-14 11:31:51 +0200 <NtukRSA> @StandardBankZA 1. Console B has extra cable pots  2. Console B has no PS logo 2. Console A has blue/purple LED conor Console B has yellow LED conor 4. Console A is missing the open/close button #BecauseUCount\n",
      "1437710101650067461 2021-09-14 11:29:34 +0200 <AfroBirdTail> @StandardBankZA Goes to show why I even stopped using that account in the first place. Pathetic\n",
      "1437707655456477187 2021-09-14 11:19:51 +0200 <AfroBirdTail> @StandardBankZA I have to pay monthly fees for 3 years for an account that is dormant? You're an absolute scam\n",
      "1437706223386832896 2021-09-14 11:14:09 +0200 <Nelisiwekhoza8> @StandardBankZA @ExclusiveBooks Prison child Eat,pray,Love Long walk to freedom #NationalBookWeek\n",
      "1437705109987811329 2021-09-14 11:09:44 +0200 <AfroBirdTail> @StandardBankZA I haven't used it since 2018\n",
      "1437703907304689666 2021-09-14 11:04:57 +0200 <getopico> @StandardBankZA #ItCanBe  https://t.co/sDb9orPkEg\n",
      "1437703576760078340 2021-09-14 11:03:38 +0200 <GranadeN_97> @cryptocom @hedera Here you have some info:  -Hedera is the most used DLT.  -Google, IBM, Standard Bank (biggest bank in Africa) are building on it.  -It is the greenest crypto in the world with a cost of 0,0001$/trans.  -In 2021, with sharding, it will be able to handle infinite tr./s  https://t.co/jHERPERm6Y\n",
      "1437702755590750211 2021-09-14 11:00:22 +0200 <StandardBankZA> Swiping your Standard Bank Credit Card slaps different knowing it's interest-free. Well, that's if you pay your outstanding balance in full within 55 days. If you got 0% interest on your credit, what would you buy? Reply with a GIF.  https://t.co/oGKmTrvbYH #ItCanBe *T&amp;Cs apply.  https://t.co/wXTNku0FMi\n",
      "1437702576246566913 2021-09-14 10:59:40 +0200 <_loverese> @StandardBankZA Thank you 🙏\n",
      "1437702434273497088 2021-09-14 10:59:06 +0200 <StandardBankZA> @_loverese Standard bank is already well engaged with several new payment vendors and partners in order for our clients to have access to the most recent digital tap-to-pay services as well as online partner payment system.Expect further announcements in the near future.\n",
      "1437701074379579397 2021-09-14 10:53:41 +0200 <rehana19mia> @StandardBankZA @ExclusiveBooks Long walk freedom , Eat pray love &amp; prison child 🤞🏻@StandardBankZA #ucount #ItCanBe #becauseUCount 🌟\n",
      "1437700711618338816 2021-09-14 10:52:15 +0200 <rehana19mia> @StandardBankZA Prison child\n",
      "1437700281190465538 2021-09-14 10:50:32 +0200 <_loverese> @StandardBankZA @Lemii_LoCo We want Apple Pay\n",
      "1437699688057217025 2021-09-14 10:48:11 +0200 <rehana19mia> #BecauseUCount #GoalsAndGains #ItCanBe #UCount Thanks @StandardBankZA for a great rewards @Dischem\n",
      "1437698872332197891 2021-09-14 10:44:56 +0200 <AfroBirdTail> @StandardBankZA Plus Plan.\n",
      "1437696254159507457 2021-09-14 10:34:32 +0200 <_pandulana> @hybridkhadiga @BigBlackBitchJ 😭😭😭 Standard Bank? Nedbank?\n",
      "1437691005709467650 2021-09-14 10:13:41 +0200 <rassie_dot_dev> @Lemii_LoCo @StandardBankZA Congrats Lemii!!!\n",
      "1437690752667107335 2021-09-14 10:12:41 +0200 <LadySkollie> @sandiblouse Who cares about that, we talking Standard bank rn 😭🧜🏽‍♀️🏹\n",
      "1437690321551466501 2021-09-14 10:10:58 +0200 <anzathiba> Even standard bank is suspecting fraudulent activities because it’s used to my account always having R10 😂😂😂😂😂😂😂😂\n",
      "1437689930990428160 2021-09-14 10:09:25 +0200 <NowOutPlease> @barns_tee @mycheology @yezo_m @Snezo_Ntaka I know one that pays R120 per month🤷🏽‍♀️ you just take part in Survey for 7Days and wait two weeks to get your Standard bank Instant Voucher. No referrals needed.\n",
      "1437689499241304065 2021-09-14 10:07:42 +0200 <Bhekala1> Banker - Standard Bank - Gauteng  https://t.co/mRkcJX2l1R #resume #jobs\n",
      "1437687508385648642 2021-09-14 09:59:47 +0200 <sandiblouse> lemme brag! my friend mali and i used to curate shows for young artists we thought deserved to shine. we’d publish a mag on their work, hold an exhibition at a reputable gallery, get publicity, have a party. 2 of them have since been named standard bank artist of the year. 😭😭😭\n",
      "1437686364523356160 2021-09-14 09:55:14 +0200 <BPO2SA> The Standard Bank Top Women Conference is the world’s fastest growing platform for women who lead.  BPESA Members interested in attending - please check your email for the event pass registration form or reach out to traci@bpesa.org.za  #womeinbusiness #topcomediaevents  https://t.co/Ovi6t1qmDw\n",
      "1437681562343124992 2021-09-14 09:36:09 +0200 <AfroBirdTail> @real_rolandza @MfokaMqulusi @AbsaSouthAfrica @FNBSA @CapitecBankSA @Nedbank @StandardBankZA @AfricanBank @OldMutualSA @StandardBankZA charges you without transacting. Even when youre on zero balance for months.\n",
      "1437681531984629761 2021-09-14 09:36:02 +0200 <BULKTRAX> Take control of your finances with Standard Bank’s My360 app  https://t.co/pL6PocVDgQ\n"
     ]
    },
    {
     "name": "stdout",
     "output_type": "stream",
     "text": [
      "1437679378310344707 2021-09-14 09:27:29 +0200 <AfroBirdTail> @potegokajesus @MfokaMqulusi @StandardBankZA Standard bank is just fraud!\n",
      "1437678761579794434 2021-09-14 09:25:02 +0200 <AfroBirdTail> @StandardBankZA @potegokajesus Why have charges on an account with zero balance? What are you managing there?\n",
      "1437676253021102081 2021-09-14 09:15:04 +0200 <YungDunamo17> @StandardBankZA I've sent a dm\n",
      "1437674392935407617 2021-09-14 09:07:40 +0200 <Bhekala1> Head - Standard Bank - Gauteng  https://t.co/4Ui4njNRs7 #resume #joblinks\n",
      "1437674105378164741 2021-09-14 09:06:32 +0200 <Bhekala1> Manager - Standard Bank - Gauteng  https://t.co/GnkN3sprj2 #resume #joblinks\n",
      "1437673903262994434 2021-09-14 09:05:43 +0200 <Numinous09> Friendly reminder that one of @StandardBankZA @SBGroup Head of Operations stole over R500k from my disabled grandmothers account and they are protecting him #ItCanBe\n",
      "1437673476840624142 2021-09-14 09:04:02 +0200 <Bhekala1> Specialist - Standard Bank - Gauteng  https://t.co/WP1TKc8ZEM #resume #joblinks\n",
      "1437669664449048584 2021-09-14 08:48:53 +0200 <Bonga_Dev> @MduCodes Use your bank account if your standard bank or nedback way cheaper then platforms like paypal\n",
      "1437667948248788992 2021-09-14 08:42:04 +0200 <BULKTRAX> Take control of your finances with Standard Bank’s My360 app  https://t.co/EzBM10P2nB\n",
      "1437666132442419203 2021-09-14 08:34:51 +0200 <_umafungwase> @Matholebula @MfokaMqulusi Lol why is standard bank the correct one?😭\n",
      "1437664682249277446 2021-09-14 08:29:05 +0200 <AyaunderM> @StandardBankZA I don’t have an account with y’all or even if I have I don’t think it has funds????????? What’s this  https://t.co/ASsUvGyQap\n",
      "1437663674198634498 2021-09-14 08:25:05 +0200 <SlendaLonda> @interrec morning. Please help me. I have a bond with Standard Bank, and will soon pay it off with a portion of my pension. Problem is, I once heard someone say you need to give them notice before transferring the whole amount or you are likely to be liable for an extra fee.\n",
      "1437663555101265922 2021-09-14 08:24:36 +0200 <mwangy_kay> @StandardBankZA Not received any feedback as yet\n",
      "1437663235415715840 2021-09-14 08:23:20 +0200 <loof_831> @CredibleCrypto Research about Standard Bank in RSA and u will find out.\n",
      "1437662325444681729 2021-09-14 08:19:43 +0200 <YungDunamo17> @StandardBankZA Reply your Dm\n",
      "1437661274121416706 2021-09-14 08:15:32 +0200 <SBGroup> @Kmthembu25 Hi Khethokuhle, the Standard Bank South Africa team will assist you regarding your query. Moving forward, for any service-related queries please contact the @standardbankza team for effective assistance. Have a lovely day.\n",
      "1437660145002160128 2021-09-14 08:11:03 +0200 <TheAfricaReport> Standard Bank and other incumbents in #SouthAfrica are seeking to improve distribution and lower the cost of their services in the face of increased competition from new entrants, such Tyme Bank, Discovery Bank and Bank Zero. Report by @whitehouse789.    https://t.co/N2o5MpkJsx\n",
      "1437659581883297794 2021-09-14 08:08:49 +0200 <anneeda_pekeur> @StandardBankZA No I didn't but I always wondered what the meaning and thought behind the logo was. Thank you for enlightening us. #ItCanBe\n",
      "1437658812794740737 2021-09-14 08:05:46 +0200 <Bhekala1> Banker - Standard Bank - Gauteng  https://t.co/MVqsAJWTmT #CV #findwork\n",
      "1437658536209784832 2021-09-14 08:04:40 +0200 <Bhekala1> Manager - Standard Bank - Gauteng  https://t.co/LfmBFdkFn2 #CV #findwork\n",
      "1437655206842585089 2021-09-14 07:51:26 +0200 <potegokajesus> @StandardBankZA After\n",
      "1437654556847001601 2021-09-14 07:48:51 +0200 <wellredwinemag> WHO ARE THE STANDARD BANK CHENIN BLANC TOP TEN CHALLENGE 2021 WINNERS? Results announced this week @CheninBlancSA  https://t.co/5a8GBQ31kK\n",
      "1437653690769412099 2021-09-14 07:45:24 +0200 <MphoQue57469888> @AneleAndTheClub @StandardBankZA @Anele @FrankieFire I would love to have the #GoldenMoments the quiz brought by @StandardBankZA #AneleAndTheClubOn947 #ItCanBe @Anele @FrankieFire\n",
      "1437650933719179265 2021-09-14 07:34:27 +0200 <LibertyLifeKe> @Lukke3286 @MEB40122141 @StandardBankZA Hi,please share your query we assist you.^NW\n",
      "1437646341178630145 2021-09-14 07:16:12 +0200 <potegokajesus> @StandardBankZA SAVEWAY CRESCENT SHOPPING CENTRE, WITBANK\n",
      "1437646043563315204 2021-09-14 07:15:01 +0200 <eugene_skosana> @947 @StandardBankZA @Anele @947 when are we getting a phone call? I've been entering so many times but I have never received a call.\n",
      "1437645341210329089 2021-09-14 07:12:14 +0200 <MphoQue57469888> @AneleAndTheClub @StandardBankZA @SamsungMobileSA #AneleAndTheClubOn947 #GoldenMoments I am ready for the quiz\n",
      "1437644866650087426 2021-09-14 07:10:21 +0200 <NdumisoMlangen6> @AneleAndTheClub @StandardBankZA @Anele @FrankieFire Ahhhh man sorry too him\n",
      "1437644422309728256 2021-09-14 07:08:35 +0200 <AneleAndTheClub> 2 Questions stood between Matthew &amp; R10,000.00!   Play the R10,000 Pop Quiz brought to you by @StandardBankZA's MyMo Plus Account on #AneleAndTheClubOn947 every weekday morning.  Enter on  https://t.co/0OMePxLqxo.  #GoldenMoments #ItCanBe #AneleAndTheClubOn947 @Anele @FrankieFire  https://t.co/qnXOwobT96\n",
      "1437643850210848769 2021-09-14 07:06:18 +0200 <mosmooches> @StandardBankZA I need you to tell them to please check the emails and respond. All the information is on the email and it’s urgent.\n",
      "1437643751426506752 2021-09-14 07:05:55 +0200 <mysprtualsafri> @MamReeee Not @StandardBankZA  that's for sure.\n",
      "1437643528264458246 2021-09-14 07:05:01 +0200 <Moneyweb> [SPONSORED] 'We still see opportunities for de-cashing or reducing #cash usage in #Africa, so the payments space will remain dynamic.' @StandardBankZA   #Moneyweb #fintech #techtrends    https://t.co/JTM644ie4F\n",
      "1437642478509858816 2021-09-14 07:00:51 +0200 <potegokajesus> @StandardBankZA Yes\n",
      "1437640192358240261 2021-09-14 06:51:46 +0200 <Catheri94559690> @AneleAndTheClub @StandardBankZA @AneleAndTheClub #AneleandTheClubon947  @FrankieFire  #FrankiesTombola  Happy 40th Birthday  Frankie 💝 🎁now plssss gift me back 🤣  https://t.co/rUlLICytk8\n",
      "1437639498666491904 2021-09-14 06:49:01 +0200 <LadyLaraVW> @AneleAndTheClub @StandardBankZA Ready to Ace the quiz!!\n",
      "1437638391676477445 2021-09-14 06:44:37 +0200 <Khutso09095714> @AneleAndTheClub @StandardBankZA Entered @AneleAndTheClub\n",
      "1437638249690943494 2021-09-14 06:44:03 +0200 <947> 10 Questions. 60 Seconds. R10,000 is up for grabs!  Play the R10,000 Pop Quiz brought to you by @StandardBankZA's MyMo Plus Account on #AneleAndTheClubOn947 every weekday morning. Enter TODAY &gt;&gt;  https://t.co/zT3qo0PfMr #GoldenMoments #ItCanBe  https://t.co/JvfjKuwzjr\n",
      "1437638246205427715 2021-09-14 06:44:02 +0200 <AneleAndTheClub> 10 Questions. 60 Seconds. R10,000 is up for grabs!  Play the R10,000 Pop Quiz brought to you by @StandardBankZA's MyMo Plus Account on #AneleAndTheClubOn947 every weekday morning. Enter TODAY &gt;&gt;  https://t.co/NrhlzjpC80 #GoldenMoments #ItCanBe  https://t.co/TRfmw4uHnJ\n",
      "1437637574043045890 2021-09-14 06:41:22 +0200 <BowJabu> @LwaWaseNgqamza @StandardBankZA They are criminals you know I used to love @FNBSA until this happened to me. I'm running like 2 businesses I wanted to open the accounts but NO I don't even trust their consultants now they steal people's hard earned money.\n",
      "1437636074780696577 2021-09-14 06:35:24 +0200 <Nombini39142551> @947 @StandardBankZA Would love to win the Nova cellphone😁 #Frankie's Tombola  Happy birthday Frankie👏🏾👏🏾💞\n",
      "1437634680237461507 2021-09-14 06:29:52 +0200 <Catheri94559690> @getopico @AneleAndTheClub @StandardBankZA Good luck  https://t.co/z7vnIcWg22\n",
      "1437633625768480769 2021-09-14 06:25:40 +0200 <BigBlaqMolobedu> @947 @StandardBankZA Can I pleeeeease just win MacD's voucher by Mrs Fire. #FrankiesTombola #947lovesyou\n",
      "1437633529127579651 2021-09-14 06:25:17 +0200 <LeroyJenkins_fc> @AneleAndTheClub @StandardBankZA #FrankiesTombola #AneleandTheClubon947\n",
      "1437633091699367939 2021-09-14 06:23:33 +0200 <LwaWaseNgqamza> This just reminded me of @StandardBankZA years back. I changed debit order date on time to the 1st but on the date they used to debit on, someone decided go into my account and run a debit order. That is why I canceled my STD account\n",
      "1437632993590497285 2021-09-14 06:23:10 +0200 <Tshepi_N> @AneleAndTheClub @StandardBankZA I wanna enter Frankie's Trambola\n",
      "1437632906063761413 2021-09-14 06:22:49 +0200 <Masoga77501441> @AneleAndTheClub @StandardBankZA Guys what the number to call when you wanna enter the tombola\n",
      "1437632550743298048 2021-09-14 06:21:24 +0200 <amandamditshwa> @AneleAndTheClub @StandardBankZA Good morning 🙏  🌄  #FrankiesTombola #AneleandTheClubon947\n",
      "1437632358425976834 2021-09-14 06:20:38 +0200 <getopico> @AneleAndTheClub @StandardBankZA #AneleAndTheClub #FrankiesTombola Day2 I will like to win OPPO Reno 5  https://t.co/bkBK2BwZ9A\n",
      "1437629691649798145 2021-09-14 06:10:03 +0200 <itu_rose> @AneleAndTheClub @StandardBankZA Good morning  https://t.co/gT3UlYwhuK\n",
      "1437629351416274948 2021-09-14 06:08:41 +0200 <LadyLaraVW> @947 @StandardBankZA Almost time for the calls! #FrankiesTombola #AneleAndTheClubOn947\n",
      "1437628498307391489 2021-09-14 06:05:18 +0200 <Bhekala1> Banker - Standard Bank - Gauteng  https://t.co/TtraW2DmCg #CV #findwork\n",
      "1437628294984314880 2021-09-14 06:04:30 +0200 <Bhekala1> Manager - Standard Bank - Gauteng  https://t.co/Z93LB99upU #CV #findwork\n",
      "1437628184527245312 2021-09-14 06:04:03 +0200 <AneleAndTheClub> Good morning! It's time for #AneleAndTheClubOn947! 😎  TODAY 6:05 #15SecondChallenge⏲️ 6:44 R10,000 Pop Quiz with @StandardBankZA✅ 6:53 #FrankiesTombola🎪 7:35 #SmallTalk🗣️ 8:11 Classic Or Not📀  https://t.co/Yr2AVFEzB2\n",
      "1437628184439181312 2021-09-14 06:04:03 +0200 <947> Good morning! It's time for #AneleAndTheClubOn947! 😎  TODAY 6:05 #15SecondChallenge⏲️ 6:44 R10,000 Pop Quiz with @StandardBankZA✅ 6:53 #FrankiesTombola🎪 7:35 #SmallTalk🗣️ 8:11 Classic Or Not📀  https://t.co/p0LX3jfc9e\n",
      "1437627174010462215 2021-09-14 06:00:02 +0200 <anneeda_pekeur> @StandardBankZA #ItCanBe  https://t.co/JIz9ppFvvh\n",
      "1437617261905338371 2021-09-14 05:20:39 +0200 <Lukke3286> @MEB40122141 @StandardBankZA History repeating itself? 🤔 The ability to provide a basic service has not been granted them, just yet...? #PutSouthAficansFirst\n",
      "1437613398649409539 2021-09-14 05:05:18 +0200 <Bhekala1> Banker - Standard Bank - Gauteng  https://t.co/SsrFosiqyk #findwork #joblinks\n",
      "1437613146718547968 2021-09-14 05:04:18 +0200 <Bhekala1> Manager - Standard Bank - Gauteng  https://t.co/h014lR58lC #findwork #joblinks\n",
      "1437601902246735880 2021-09-14 04:19:37 +0200 <Pi73366052> @MfokaMqulusi Nobody uses standard bank here right,they are the worst of the worst\n"
     ]
    },
    {
     "name": "stdout",
     "output_type": "stream",
     "text": [
      "1437601539074535427 2021-09-14 04:18:10 +0200 <Pi73366052> @NgunesiJoy @MfokaMqulusi @StandardBankZA Same here\n",
      "1437601112425652225 2021-09-14 04:16:29 +0200 <Pi73366052> @potegokajesus @MfokaMqulusi @StandardBankZA Standard bank vele ke shit\n",
      "1437600468599984133 2021-09-14 04:13:55 +0200 <SahlukoTheeDyan> @VusiN5 @MondliBrianZum1 @MfokaMqulusi Standard Bank is the best from varsity days\n",
      "1437599747641122817 2021-09-14 04:11:03 +0200 <TheAfricaReport> Standard Bank is planning new partnerships in products and distribution as it seeks to sustain its first-half recovery, says Lungisa Fuzile, head of #SouthAfrica.  Report by @whitehouse789.    https://t.co/N2o5MpkJsx\n",
      "1437598336190754825 2021-09-14 04:05:27 +0200 <Bhekala1> Banker - Standard Bank - Gauteng  https://t.co/y7lDsDVWmn #joblinks #CV\n",
      "1437598046683115529 2021-09-14 04:04:18 +0200 <Bhekala1> Manager - Standard Bank - Gauteng  https://t.co/PACAwYLGsv #joblinks #CV\n",
      "1437593787199590403 2021-09-14 03:47:22 +0200 <GwebaBuhle> @MfokaMqulusi I won't say much but my standard bank once you try to withdraw and your card decline, consider yourself as charged R132  https://t.co/6dU4VWlO32\n",
      "1437589009488830464 2021-09-14 03:28:23 +0200 <TheBlackNote3> @StandardBankZA Positive ? What do you think my account was on in the first place cause you guys just super charge me 😐 after you tell me this nonsense . Hebathong .  Positive ? Anker Le Epha Zaka Yaka Joh After You Charge Me For Taking My Money ... After You Charge Me Again For Having A Minus  https://t.co/p3dJFQyVd2\n",
      "1437588362538405889 2021-09-14 03:25:49 +0200 <AfricaGlobFunds> Just a reminder that this is the last week for submitting your applications for the 2021 Africa Service Providers Awards! Act now! It's free to enter! @StandardBankZA   https://t.co/0GZRoZpHe9 #banks #legal #advisory #financialservices #assetservicing #Africa #fundadministration  https://t.co/q03q5bpRHj\n",
      "1437583711311106054 2021-09-14 03:07:20 +0200 <petitendu> Standard bank\n",
      "1437583201086627845 2021-09-14 03:05:18 +0200 <Bhekala1> Banker - Standard Bank - Gauteng  https://t.co/3ktsNsYzuV #CV #jobs\n",
      "1437582967413649412 2021-09-14 03:04:23 +0200 <Bhekala1> Manager - Standard Bank - Gauteng  https://t.co/2IFOl3Zb9A #CV #jobs\n",
      "1437574112956792832 2021-09-14 02:29:12 +0200 <mr_thembinkosi> @kaven_52836 @MfokaMqulusi I have recently joined @StandardBankZA I find it reasonable so far\n",
      "1437568152888647683 2021-09-14 02:05:31 +0200 <alezdeejay> If you are or thinking of banking with @StandardBankZA  how is life ,  hows the honouring fee treating you . This guys make sure that account is always on overdraft just to keep your credit score misserable\n",
      "1437567281517797379 2021-09-14 02:02:03 +0200 <cbsoloist> Card ⪼ 5576920026661001|05|23|336 Status ⪼ Approved ✅ Result ⪼ Approved Gateway ⪼ Braintree (Auth) ══════ ⋆Bin Info⋆ ══════ Bin ⪼ MASTERCARD - DEBIT - STANDARD Bank ⪼ PT. BANK CIMB NIAGA TBK. - INDONESIA 🇮🇩\n",
      "[!] No more data! Scraping will stop now.\n",
      "found 0 deleted tweets in this search.\n"
     ]
    }
   ],
   "source": [
    "tweets_df = Run_Twint_pandas(bank_search)\n",
    "#Run_Twint_pandas(bank_search)"
   ]
  },
  {
   "cell_type": "markdown",
   "metadata": {},
   "source": [
    "# EDA"
   ]
  },
  {
   "cell_type": "code",
   "execution_count": 5,
   "metadata": {},
   "outputs": [],
   "source": [
    "#Export/Import csv\n",
    "\n",
    "#tweets_df.to_csv(\"pre_cleaning_All.csv\")\n",
    "tweets_df= pd.concat(map(pd.read_csv, glob.glob(os.path.join('', \"*.csv\"))))"
   ]
  },
  {
   "cell_type": "code",
   "execution_count": 6,
   "metadata": {},
   "outputs": [
    {
     "data": {
      "text/plain": [
       "11"
      ]
     },
     "execution_count": 6,
     "metadata": {},
     "output_type": "execute_result"
    }
   ],
   "source": [
    "len(tweets_df) "
   ]
  },
  {
   "cell_type": "code",
   "execution_count": 7,
   "metadata": {},
   "outputs": [],
   "source": [
    "# remove unnecessary columns \n",
    "base_tweets = tweets_df[[\"date\", \"username\", \"tweet\",\"language\", \"hashtags\",\"retweet_id\",\"reply_to\" ,\"nlikes\",\"search\",\"Bank\"]]"
   ]
  },
  {
   "cell_type": "markdown",
   "metadata": {},
   "source": [
    "#### Language analysis \n",
    "\n",
    "Although the language tag doesnt seem to get it right 100% of the time, we will drop these rows that arent english:\n",
    "* und = undefined, this will also include tweets with only hashtags so we will keep this\n",
    "*en = english "
   ]
  },
  {
   "cell_type": "code",
   "execution_count": 8,
   "metadata": {},
   "outputs": [
    {
     "data": {
      "text/plain": [
       "array(['en', 'und'], dtype=object)"
      ]
     },
     "execution_count": 8,
     "metadata": {},
     "output_type": "execute_result"
    }
   ],
   "source": [
    "base_tweets[\"language\"].unique()"
   ]
  },
  {
   "cell_type": "code",
   "execution_count": 9,
   "metadata": {},
   "outputs": [],
   "source": [
    "# remove all rows where language is not english or undefined\n",
    "base_tweets = base_tweets[base_tweets[\"language\"].isin([ 'und', 'en'])]"
   ]
  },
  {
   "cell_type": "markdown",
   "metadata": {},
   "source": [
    "Remove tweets from Bank owned accounts i.e. FNBSA\n"
   ]
  },
  {
   "cell_type": "code",
   "execution_count": 10,
   "metadata": {},
   "outputs": [],
   "source": [
    "# remove rows where username is in bank_search - i.e. tweets from the bank\n",
    "base_tweets = base_tweets[ ~base_tweets[\"username\"].str.lower().str.contains('fnb|standardbank|nedbank|absa',regex = True)]"
   ]
  },
  {
   "cell_type": "code",
   "execution_count": 11,
   "metadata": {},
   "outputs": [],
   "source": [
    "#drop duplicates if any - keep first duplicate\n",
    "base_tweets = base_tweets.drop_duplicates(keep=\"first\")"
   ]
  },
  {
   "cell_type": "code",
   "execution_count": 12,
   "metadata": {},
   "outputs": [],
   "source": [
    "# reset the index for joining later \n",
    "base_tweets.reset_index(inplace=True)\n",
    "base_tweets.drop(\"index\",axis =1,inplace=True)"
   ]
  },
  {
   "cell_type": "code",
   "execution_count": 13,
   "metadata": {},
   "outputs": [
    {
     "data": {
      "text/html": [
       "<div>\n",
       "<style scoped>\n",
       "    .dataframe tbody tr th:only-of-type {\n",
       "        vertical-align: middle;\n",
       "    }\n",
       "\n",
       "    .dataframe tbody tr th {\n",
       "        vertical-align: top;\n",
       "    }\n",
       "\n",
       "    .dataframe thead th {\n",
       "        text-align: right;\n",
       "    }\n",
       "</style>\n",
       "<table border=\"1\" class=\"dataframe\">\n",
       "  <thead>\n",
       "    <tr style=\"text-align: right;\">\n",
       "      <th></th>\n",
       "      <th>date</th>\n",
       "      <th>username</th>\n",
       "      <th>tweet</th>\n",
       "      <th>language</th>\n",
       "      <th>hashtags</th>\n",
       "      <th>retweet_id</th>\n",
       "      <th>reply_to</th>\n",
       "      <th>nlikes</th>\n",
       "      <th>search</th>\n",
       "      <th>Bank</th>\n",
       "    </tr>\n",
       "  </thead>\n",
       "  <tbody>\n",
       "    <tr>\n",
       "      <th>0</th>\n",
       "      <td>2021/09/15 01:32</td>\n",
       "      <td>ishanviconstru1</td>\n",
       "      <td>Send  any one that is available on the list AS...</td>\n",
       "      <td>en</td>\n",
       "      <td>[]</td>\n",
       "      <td>NaN</td>\n",
       "      <td>[]</td>\n",
       "      <td>0</td>\n",
       "      <td>StandardBankZA OR \"Standard Bank\" OR \"standard...</td>\n",
       "      <td>StandardBank</td>\n",
       "    </tr>\n",
       "    <tr>\n",
       "      <th>1</th>\n",
       "      <td>2021/09/15 01:19</td>\n",
       "      <td>Junior08790429</td>\n",
       "      <td>**I don't know Lucas Leung tied to other staff...</td>\n",
       "      <td>en</td>\n",
       "      <td>[]</td>\n",
       "      <td>NaN</td>\n",
       "      <td>[]</td>\n",
       "      <td>0</td>\n",
       "      <td>StandardBankZA OR \"Standard Bank\" OR \"standard...</td>\n",
       "      <td>StandardBank</td>\n",
       "    </tr>\n",
       "    <tr>\n",
       "      <th>2</th>\n",
       "      <td>2021/09/15 01:18</td>\n",
       "      <td>DanielMashaba2</td>\n",
       "      <td>#Ucount with @StandardBankZA every purchase ea...</td>\n",
       "      <td>en</td>\n",
       "      <td>['ucount']</td>\n",
       "      <td>NaN</td>\n",
       "      <td>[]</td>\n",
       "      <td>0</td>\n",
       "      <td>StandardBankZA OR \"Standard Bank\" OR \"standard...</td>\n",
       "      <td>StandardBank</td>\n",
       "    </tr>\n",
       "    <tr>\n",
       "      <th>3</th>\n",
       "      <td>2021/09/15 00:24</td>\n",
       "      <td>Cybr_Awareness</td>\n",
       "      <td>ATM’s should have an option to choose the note...</td>\n",
       "      <td>en</td>\n",
       "      <td>[]</td>\n",
       "      <td>NaN</td>\n",
       "      <td>[]</td>\n",
       "      <td>1</td>\n",
       "      <td>StandardBankZA OR \"Standard Bank\" OR \"standard...</td>\n",
       "      <td>StandardBank</td>\n",
       "    </tr>\n",
       "    <tr>\n",
       "      <th>4</th>\n",
       "      <td>2021/09/14 23:18</td>\n",
       "      <td>lusanduh</td>\n",
       "      <td>I've been looking to move away from thost stan...</td>\n",
       "      <td>en</td>\n",
       "      <td>[]</td>\n",
       "      <td>NaN</td>\n",
       "      <td>[]</td>\n",
       "      <td>1</td>\n",
       "      <td>StandardBankZA OR \"Standard Bank\" OR \"standard...</td>\n",
       "      <td>StandardBank</td>\n",
       "    </tr>\n",
       "  </tbody>\n",
       "</table>\n",
       "</div>"
      ],
      "text/plain": [
       "               date         username  \\\n",
       "0  2021/09/15 01:32  ishanviconstru1   \n",
       "1  2021/09/15 01:19   Junior08790429   \n",
       "2  2021/09/15 01:18   DanielMashaba2   \n",
       "3  2021/09/15 00:24   Cybr_Awareness   \n",
       "4  2021/09/14 23:18         lusanduh   \n",
       "\n",
       "                                               tweet language    hashtags  \\\n",
       "0  Send  any one that is available on the list AS...       en          []   \n",
       "1  **I don't know Lucas Leung tied to other staff...       en          []   \n",
       "2  #Ucount with @StandardBankZA every purchase ea...       en  ['ucount']   \n",
       "3  ATM’s should have an option to choose the note...       en          []   \n",
       "4  I've been looking to move away from thost stan...       en          []   \n",
       "\n",
       "   retweet_id reply_to  nlikes  \\\n",
       "0         NaN       []       0   \n",
       "1         NaN       []       0   \n",
       "2         NaN       []       0   \n",
       "3         NaN       []       1   \n",
       "4         NaN       []       1   \n",
       "\n",
       "                                              search          Bank  \n",
       "0  StandardBankZA OR \"Standard Bank\" OR \"standard...  StandardBank  \n",
       "1  StandardBankZA OR \"Standard Bank\" OR \"standard...  StandardBank  \n",
       "2  StandardBankZA OR \"Standard Bank\" OR \"standard...  StandardBank  \n",
       "3  StandardBankZA OR \"Standard Bank\" OR \"standard...  StandardBank  \n",
       "4  StandardBankZA OR \"Standard Bank\" OR \"standard...  StandardBank  "
      ]
     },
     "execution_count": 13,
     "metadata": {},
     "output_type": "execute_result"
    }
   ],
   "source": [
    "base_tweets.head()"
   ]
  },
  {
   "cell_type": "markdown",
   "metadata": {},
   "source": [
    "### Visualisation pre-clean"
   ]
  },
  {
   "cell_type": "code",
   "execution_count": 14,
   "metadata": {},
   "outputs": [
    {
     "data": {
      "image/png": "[encoded data removed]",
      "text/plain": [
       "<Figure size 1440x360 with 2 Axes>"
      ]
     },
     "metadata": {
      "needs_background": "light"
     },
     "output_type": "display_data"
    }
   ],
   "source": [
    "fig, ax = plt.subplots(1,2, figsize= (20,5))\n",
    "\n",
    "ax[0].bar(base_tweets[\"Bank\"].value_counts().index, base_tweets[\"Bank\"].value_counts() )\n",
    "ax[0].set_title(\"Count number of tweets\")\n",
    "\n",
    "#get number of likes\n",
    "nlikes = base_tweets[[\"Bank\",\"nlikes\"]].groupby(\"Bank\").sum()\n",
    "ax[1].bar(nlikes.index, nlikes[\"nlikes\"], color = \"c\")\n",
    "ax[1].set_title(\"Count number of likes\")\n",
    "\n",
    "plt.tight_layout()\n",
    "plt.show()"
   ]
  },
  {
   "cell_type": "markdown",
   "metadata": {},
   "source": [
    "### Cleaning tweet data \n",
    "Remove punctuation and symbols\n",
    "\n",
    "***Note*** Due to an issue with multiprocessing in Jupyter notebooks we have to put the cleaning code in a .py file in our project folder\n",
    "This file is imported and the code run"
   ]
  },
  {
   "cell_type": "code",
   "execution_count": 23,
   "metadata": {},
   "outputs": [
    {
     "data": {
      "text/plain": [
       "'\\ndef link_at_s_removal(text):  \\n    pat1 = r\\'@_?[A-Za-z0-9]+\\'  # @[A-Za-z0-9]+\\n    pat2 = r\\'https?://[A-Za-z0-9./]+\\'  \\n    pat3 = r\\'\\'s\\'                      #floating s\\'s\\n    pat4 = r\\'\\\\#\\\\w+\\'\\n    combined_pat = r\\'|\\'.join((pat1, pat2,pat3,pat4))\\n    text = re.sub(combined_pat,\"\",text)\\n    return text\\n\\ndef clean_text(text): \\n    text=link_at_s_removal(text)\\n    \\n    text = re.sub(\\'[^A-Za-z\\\\s]\\', \\'\\', text.lower())        #remove non-alphabet\\n    tokenized_text = WordPunctTokenizer().tokenize(text) #tokenize\\n    clean_text = [\\n         word for word in tokenized_text\\n         if word not in stopwords.words()\\n    ]\\n    return \\' \\'.join(clean_text)\\n'"
      ]
     },
     "execution_count": 23,
     "metadata": {},
     "output_type": "execute_result"
    }
   ],
   "source": [
    "# code is in multi_clean file \n",
    "'''\n",
    "def link_at_s_removal(text):  \n",
    "    pat1 = r'@_?[A-Za-z0-9]+'  # @[A-Za-z0-9]+\n",
    "    pat2 = r'https?://[A-Za-z0-9./]+'  \n",
    "    pat3 = r'\\'s'                      #floating s's\n",
    "    pat4 = r'\\#\\w+'\n",
    "    combined_pat = r'|'.join((pat1, pat2,pat3,pat4))\n",
    "    text = re.sub(combined_pat,\"\",text)\n",
    "    return text\n",
    "\n",
    "def clean_text(text): \n",
    "    text=link_at_s_removal(text)\n",
    "    \n",
    "    text = re.sub('[^A-Za-z\\s]', '', text.lower())        #remove non-alphabet\n",
    "    tokenized_text = WordPunctTokenizer().tokenize(text) #tokenize\n",
    "    clean_text = [\n",
    "         word for word in tokenized_text\n",
    "         if word not in stopwords.words()\n",
    "    ]\n",
    "    return ' '.join(clean_text)\n",
    "'''"
   ]
  },
  {
   "cell_type": "markdown",
   "metadata": {},
   "source": [
    "#### run tween cleaner"
   ]
  },
  {
   "cell_type": "code",
   "execution_count": 24,
   "metadata": {},
   "outputs": [],
   "source": [
    "import multi_clean\n",
    "import multiprocessing as mp\n",
    "from multiprocessing import  Pool"
   ]
  },
  {
   "cell_type": "code",
   "execution_count": null,
   "metadata": {},
   "outputs": [],
   "source": [
    "%%time\n",
    "p = mp.Pool(mp.cpu_count())\n",
    "cleaned_list = p.map(multi_clean.clean_text,base_tweets[\"tweet\"])\n",
    "p.close()"
   ]
  },
  {
   "cell_type": "code",
   "execution_count": 26,
   "metadata": {},
   "outputs": [
    {
     "ename": "AttributeError",
     "evalue": "'list' object has no attribute 'head'",
     "output_type": "error",
     "traceback": [
      "\u001b[1;31m---------------------------------------------------------------------------\u001b[0m",
      "\u001b[1;31mAttributeError\u001b[0m                            Traceback (most recent call last)",
      "\u001b[1;32m<ipython-input-26-c42a15b2c7cf>\u001b[0m in \u001b[0;36m<module>\u001b[1;34m\u001b[0m\n\u001b[1;32m----> 1\u001b[1;33m \u001b[0mdf\u001b[0m\u001b[1;33m.\u001b[0m\u001b[0mhead\u001b[0m\u001b[1;33m(\u001b[0m\u001b[1;33m)\u001b[0m\u001b[1;33m\u001b[0m\u001b[1;33m\u001b[0m\u001b[0m\n\u001b[0m",
      "\u001b[1;31mAttributeError\u001b[0m: 'list' object has no attribute 'head'"
     ]
    }
   ],
   "source": [
    "df.head()"
   ]
  },
  {
   "cell_type": "code",
   "execution_count": null,
   "metadata": {},
   "outputs": [],
   "source": [
    "cleaned_list = []\n",
    "\n",
    "for t in base_tweets[\"tweet\"]:\n",
    "    cleaned_list.append(clean_text(t))"
   ]
  },
  {
   "cell_type": "code",
   "execution_count": null,
   "metadata": {},
   "outputs": [],
   "source": [
    "##make a dataframe for sentiment analysis\n",
    "clean_df = pd.DataFrame(cleaned_list,columns=['tweet'])"
   ]
  },
  {
   "cell_type": "code",
   "execution_count": null,
   "metadata": {},
   "outputs": [],
   "source": [
    "#drop empty tweet rows\n",
    "clean_df = clean_df [ ~(clean_df[\"tweet\"] ==\"\")]"
   ]
  },
  {
   "cell_type": "code",
   "execution_count": null,
   "metadata": {},
   "outputs": [],
   "source": [
    "clean_df.head()"
   ]
  },
  {
   "cell_type": "markdown",
   "metadata": {},
   "source": [
    "## Sentiment analysis (TextBlob)"
   ]
  },
  {
   "cell_type": "code",
   "execution_count": null,
   "metadata": {},
   "outputs": [],
   "source": [
    "for index, row in clean_df.iterrows():\n",
    "    tweet = clean_df.at[index, 'tweet']\n",
    "\n",
    "    #run sentiment using TextBlob\n",
    "    analysis = TextBlob(tweet)\n",
    "\n",
    "    #set value to dataframe\n",
    "    clean_df.at[index, 'polarity'] = analysis.sentiment[0]\n",
    "    clean_df.at[index, 'subjectivity'] = analysis.sentiment[1]\n",
    "\n",
    "    #Create Positive / negative column depending on polariity\n",
    "    if analysis.sentiment[0]>0:\n",
    "\n",
    "        clean_df.at[index, 'Sentiment'] = \"Positive\"\n",
    "        #printmd('Positive', color=\"green\")\n",
    "\n",
    "    elif analysis.sentiment[0]<0:\n",
    "\n",
    "        clean_df.at[index, 'Sentiment'] = \"Negative\"\n",
    "    else:\n",
    "\n",
    "        clean_df.at[index, 'Sentiment'] = \"Neutral\""
   ]
  },
  {
   "cell_type": "code",
   "execution_count": null,
   "metadata": {},
   "outputs": [],
   "source": [
    "clean_df.to_csv(\"cleaned.csv\")\n",
    "clean_df.head()"
   ]
  },
  {
   "cell_type": "markdown",
   "metadata": {},
   "source": [
    "## Merge cleaned and original "
   ]
  },
  {
   "cell_type": "code",
   "execution_count": null,
   "metadata": {},
   "outputs": [],
   "source": [
    "Final_df = pd.merge(clean_df, base_tweets, left_index=True, right_index=True)"
   ]
  },
  {
   "cell_type": "code",
   "execution_count": null,
   "metadata": {},
   "outputs": [],
   "source": [
    "Final_df = Final_df.rename(columns={\"tweet_x\": \"cleaned_tweet\", \"tweet_y\": \"Base_tweet\"})\n",
    "Final_df.head(2)"
   ]
  },
  {
   "cell_type": "markdown",
   "metadata": {},
   "source": [
    "## Create rolling Mean / Expanding "
   ]
  },
  {
   "cell_type": "code",
   "execution_count": null,
   "metadata": {},
   "outputs": [],
   "source": [
    "Final_df[\"date\"] = pd.to_datetime(Final_df[\"date\"])\n",
    "\n",
    "#set index = date so as to create rolling mean \n",
    "Final_df = Final_df.sort_values('date').set_index('date')"
   ]
  },
  {
   "cell_type": "code",
   "execution_count": null,
   "metadata": {},
   "outputs": [],
   "source": [
    "#Create bank Dataframes \n",
    "Standard_df = Final_df[(Final_df.Bank==\"StandardBank\")]\n",
    "FNB_df = Final_df[(Final_df.Bank==\"FNB\")]\n",
    "Nedbank_df = Final_df[(Final_df.Bank==\"Nedbank\")]\n",
    "ABSA_df = Final_df[(Final_df.Bank==\"ABSA\")]"
   ]
  },
  {
   "cell_type": "markdown",
   "metadata": {},
   "source": [
    "#### Get rolling/ expanding mean "
   ]
  },
  {
   "cell_type": "code",
   "execution_count": null,
   "metadata": {},
   "outputs": [],
   "source": [
    "# stop this warning as the chaining is fine\n",
    "pd.options.mode.chained_assignment = None \n",
    "\n",
    "#Total\n",
    "Final_df['mean'] = Final_df['polarity'].expanding().mean()\n",
    "Final_df['rolling'] = Final_df['polarity'].rolling(\"1d\").mean()\n",
    "\n",
    "#Std Bank\n",
    "Standard_df['mean'] = Standard_df['polarity'].expanding().mean()\n",
    "Standard_df['rolling'] = Standard_df['polarity'].rolling(\"1d\").mean()\n",
    "\n",
    "#FNB\n",
    "FNB_df['mean'] = FNB_df['polarity'].expanding().mean()\n",
    "FNB_df['rolling'] = FNB_df['polarity'].rolling(\"1d\").mean()\n",
    "\n",
    "#Nebank\n",
    "Nedbank_df['mean'] = Nedbank_df['polarity'].expanding().mean()\n",
    "Nedbank_df['rolling'] = Nedbank_df['polarity'].rolling(\"1d\").mean()\n",
    "\n",
    "#ABSA\n",
    "ABSA_df['mean'] = ABSA_df['polarity'].expanding().mean()\n",
    "ABSA_df['rolling'] = ABSA_df['polarity'].rolling(\"1d\").mean()"
   ]
  },
  {
   "cell_type": "markdown",
   "metadata": {},
   "source": [
    "## Analysis and visualisation"
   ]
  },
  {
   "cell_type": "code",
   "execution_count": null,
   "metadata": {},
   "outputs": [],
   "source": [
    "# number of tweets\n",
    "Final_df[[\"cleaned_tweet\",\"Bank\"]].groupby([\"Bank\"]).count().transpose()"
   ]
  },
  {
   "cell_type": "code",
   "execution_count": null,
   "metadata": {},
   "outputs": [],
   "source": [
    "sns.displot(\n",
    "    Final_df, x=\"Sentiment\", col=\"Bank\",\n",
    "    binwidth=3 , hue=\"Bank\",palette=\"Blues\", aspect=0.8)\n",
    "plt.tight_layout()"
   ]
  },
  {
   "cell_type": "code",
   "execution_count": null,
   "metadata": {},
   "outputs": [],
   "source": [
    "fig, axes = plt.subplots(2, 2,figsize=(20, 10))\n",
    "fig.suptitle('Polarity Distribution')\n",
    "\n",
    "#NB - remove the neutral values \n",
    "# total\n",
    "sns.histplot(ax=axes[0,0], data = Final_df['polarity'][~(Final_df['polarity']==0)])\n",
    "axes[0,0].set_title(\"Total\", fontsize = 15)\n",
    "\n",
    "#StandardBank\n",
    "sns.histplot(ax=axes[0,1], data= Standard_df['polarity'][~(Standard_df['polarity']==0)], color=\"b\")\n",
    "axes[0,1].set_title(\"StandardBank\", fontsize = 15)\n",
    "\n",
    "\n",
    "# FNB\n",
    "sns.histplot(ax=axes[1,0], data = FNB_df['polarity'][~(FNB_df['polarity']==0)], color=\"c\")\n",
    "axes[1,0].set_title(\"FNB\", fontsize = 15)\n",
    "\n",
    "# Nedbank\n",
    "sns.histplot(ax=axes[1,1], data = Nedbank_df['polarity'][~(Nedbank_df['polarity']==0)], color=\"g\")\n",
    "axes[1,1].set_title(\"Nedbank\", fontsize = 15)\n",
    "\n",
    "plt.tight_layout()\n",
    "plt.show()"
   ]
  },
  {
   "cell_type": "code",
   "execution_count": null,
   "metadata": {},
   "outputs": [],
   "source": [
    "# Overall mean sentiment by bank\n",
    "plt.figure( figsize= (10,5))\n",
    "plt.bar(Final_df[[\"polarity\",\"Bank\"]].groupby([\"Bank\"]).mean().index, Final_df[[\"polarity\",\"Bank\"]].groupby([\"Bank\"]).mean()[\"polarity\"]\n",
    "       )\n",
    "plt.title(\"Mean sentiment by Bank\")\n",
    "plt.show()"
   ]
  },
  {
   "cell_type": "markdown",
   "metadata": {},
   "source": [
    "# Hashtag analysis "
   ]
  },
  {
   "cell_type": "code",
   "execution_count": null,
   "metadata": {},
   "outputs": [],
   "source": [
    "#### Top 5 hastags "
   ]
  },
  {
   "cell_type": "code",
   "execution_count": null,
   "metadata": {},
   "outputs": [],
   "source": [
    "import ast\n",
    "from collections import Counter\n",
    "\n",
    "#get all hashtags as list\n",
    "def hashlist(df):\n",
    "    hashlist = []\n",
    "    for i in df['hashtags']:\n",
    "        #ast.literal is to consider string list as a string\n",
    "        hashlist.extend(ast.literal_eval(i))\n",
    "    return hashlist\n",
    "\n",
    "#Create 5 most common Hashtag values\n",
    "def Create_values(hashlist):\n",
    "    labels, values = zip(*Counter(hashlist).most_common(5))\n",
    "    indexes = np.arange(len(labels))\n",
    "    return labels,indexes,values\n",
    "\n",
    "t_labels,t_indexes,t_values = Create_values(hashlist(Final_df))\n",
    "s_labels,s_indexes,s_values = Create_values(hashlist(Standard_df))\n",
    "f_labels,f_indexes,f_values = Create_values(hashlist(FNB_df))\n",
    "n_labels,n_indexes,n_values = Create_values(hashlist(Nedbank_df))\n",
    "a_labels,a_indexes,a_values = Create_values(hashlist(ABSA_df))"
   ]
  },
  {
   "cell_type": "code",
   "execution_count": null,
   "metadata": {},
   "outputs": [],
   "source": [
    "#plot graphs\n",
    "fig, axes = plt.subplots(2, 2,figsize=(20, 10))\n",
    "\n",
    "fig.suptitle(\"Top 5 Hashtags\")\n",
    "\n",
    "axes[0,0].set_title(\"Standard Bank\")\n",
    "axes[0,0].bar(s_indexes, s_values )\n",
    "axes[0,0].set_xticks(np.arange(len(s_labels))-0.1)\n",
    "axes[0,0].set_xticklabels(s_labels, rotation= 45)\n",
    "\n",
    "axes[0,1].set_title(\"FNB\")\n",
    "axes[0,1].bar(f_indexes, f_values )\n",
    "axes[0,1].set_xticks(np.arange(len(f_labels))-0.1)\n",
    "axes[0,1].set_xticklabels(f_labels, rotation= 45)\n",
    "\n",
    "axes[1,0].set_title(\"NedBank\")\n",
    "axes[1,0].bar(n_indexes, n_values )\n",
    "axes[1,0].set_xticks(np.arange(len(n_labels))-0.1)\n",
    "axes[1,0].set_xticklabels(n_labels, rotation= 45)\n",
    "\n",
    "axes[1,1].set_title(\"ABSA\")\n",
    "axes[1,1].bar(a_indexes, a_values )\n",
    "axes[1,1].set_xticks(np.arange(len(a_labels))-0.1)\n",
    "axes[1,1].set_xticklabels(a_labels, rotation= 45)\n",
    "\n",
    "plt.tight_layout()\n",
    "plt.show()"
   ]
  },
  {
   "cell_type": "markdown",
   "metadata": {},
   "source": [
    "# Word Cloud"
   ]
  },
  {
   "cell_type": "code",
   "execution_count": null,
   "metadata": {},
   "outputs": [],
   "source": [
    "tweetString_s = \" \".join(list(Standard_df[\"cleaned_tweet\"])).lower()\n",
    "tweetString_f = \" \".join(list(FNB_df[\"cleaned_tweet\"])).lower()\n",
    "tweetString_n = \" \".join(list(Nedbank_df[\"cleaned_tweet\"])).lower()\n",
    "tweetString_a = \" \".join(list(ABSA_df[\"cleaned_tweet\"])).lower()\n",
    "\n",
    "#remove bank name and set wordcloud\n",
    "tweetString_s = re.sub(r\"standardbankza|standard bank|bank\",\"\",tweetString_s)     \n",
    "wordcloud_s = WordCloud(width = 800, height = 500, \n",
    "                background_color ='white', \n",
    "                min_font_size = 5).generate(tweetString_s)\n",
    "\n",
    "tweetString_f = re.sub(r\"FNB|fnb|bank\",\"\",tweetString_f)\n",
    "wordcloud_f = WordCloud(width = 800, height = 500, \n",
    "                background_color ='white', \n",
    "                min_font_size = 5).generate(tweetString_f)\n",
    "\n",
    "tweetString_n = re.sub(r\"NedBankSA|Nedbank|nedbank|bank\",\"\",tweetString_n)   \n",
    "wordcloud_n = WordCloud(width = 800, height = 500, \n",
    "                background_color ='white', \n",
    "                min_font_size = 5).generate(tweetString_n)\n",
    "\n",
    "tweetString_a = re.sub(r\"fnb|FNB|bank\",\"\",tweetString_a)\n",
    "wordcloud_a = WordCloud(width = 800, height = 500, \n",
    "                background_color ='white', \n",
    "                min_font_size = 5).generate(tweetString_a)"
   ]
  },
  {
   "cell_type": "code",
   "execution_count": null,
   "metadata": {},
   "outputs": [],
   "source": [
    "fig, ax = plt.subplots(2,2,figsize=(14, 8),sharey=True)\n",
    "\n",
    "ax[0,0].imshow(wordcloud_s)\n",
    "ax[0,1].imshow(wordcloud_f)\n",
    "ax[1,0].imshow(wordcloud_n)\n",
    "ax[1,1].imshow(wordcloud_n)\n",
    "\n",
    "ax[0,0].axis(\"off\")\n",
    "ax[0,1].axis(\"off\")\n",
    "ax[1,0].axis(\"off\")\n",
    "ax[1,1].axis(\"off\")\n",
    "\n",
    "ax[0,0].set_title(\"StandardBank\")\n",
    "ax[0,1].set_title(\"FNB\")\n",
    "ax[1,0].set_title(\"Nedbank\")\n",
    "ax[1,1].set_title(\"ABSA\")\n",
    "\n",
    "plt.tight_layout() \n",
    "plt.show()"
   ]
  },
  {
   "cell_type": "markdown",
   "metadata": {},
   "source": [
    "# Rolling plots"
   ]
  },
  {
   "cell_type": "code",
   "execution_count": null,
   "metadata": {
    "scrolled": true
   },
   "outputs": [],
   "source": [
    "fig = plt.figure(figsize=(20,7))\n",
    "ax = fig.add_subplot(111)\n",
    "\n",
    "#ax.plot(Final_df.iloc[50:].index,Final_df['rolling'].iloc[50:], color='y', label='Total rolling mean')\n",
    "ax.plot(FNB_df.iloc[50:].index,FNB_df.iloc[50:]['rolling'], color ='c', label='FNB')\n",
    "ax.plot(Standard_df.iloc[50:].index,Standard_df.iloc[50:]['rolling'], color ='b', label='Std Bank')\n",
    "ax.plot(Nedbank_df.iloc[50:].index,Nedbank_df.iloc[50:]['rolling'], color ='g', label='Nedbank')\n",
    "ax.plot(ABSA_df.iloc[50:].index,ABSA_df.iloc[50:]['rolling'], color ='r', label='ABSA')\n",
    "plt.axhline(y = 0, color = 'k', linestyle = 'dashed')\n",
    "plt.legend()\n",
    "plt.title(\"Rolling Means\")\n",
    "plt.tight_layout()\n",
    "plt.show()"
   ]
  },
  {
   "cell_type": "markdown",
   "metadata": {},
   "source": [
    "### Day / Month sentiment comparison "
   ]
  },
  {
   "cell_type": "code",
   "execution_count": null,
   "metadata": {},
   "outputs": [],
   "source": [
    "Standard_df[\"Day\"]= Standard_df.index.day_name()\n",
    "Standard_df[\"Month\"] = Standard_df.index.month_name()\n",
    "ABSA_df[\"Day\"]= ABSA_df.index.day_name()\n",
    "ABSA_df[\"Month\"] = ABSA_df.index.month_name()\n",
    "FNB_df[\"Day\"]= FNB_df.index.day_name()\n",
    "FNB_df[\"Month\"] = FNB_df.index.month_name()\n",
    "Nedbank_df[\"Day\"]= Nedbank_df.index.day_name()\n",
    "Nedbank_df[\"Month\"] = Nedbank_df.index.month_name()"
   ]
  },
  {
   "cell_type": "code",
   "execution_count": null,
   "metadata": {},
   "outputs": [],
   "source": [
    "# Polarity by Day/Month \n",
    "\n",
    "fig, ax = plt.subplots(1,2, figsize = (15,5))\n",
    "\n",
    "ax[0].set_title(\"Sentiment score by Day\")\n",
    "ax[0].plot(Standard_df.groupby(\"Day\")[\"polarity\"].mean().index,Standard_df.groupby(\"Day\")[\"polarity\"].mean(), color ='b', label='Std Bank' )\n",
    "ax[0].plot(FNB_df.groupby(\"Day\")[\"polarity\"].mean().index,FNB_df.groupby(\"Day\")[\"polarity\"].mean(), color ='c', label='FNB')\n",
    "ax[0].plot(Nedbank_df.groupby(\"Day\")[\"polarity\"].mean().index,Nedbank_df.groupby(\"Day\")[\"polarity\"].mean(), color ='g', label='Nedbank' )\n",
    "ax[0].plot(ABSA_df.groupby(\"Day\")[\"polarity\"].mean().index,ABSA_df.groupby(\"Day\")[\"polarity\"].mean(), color ='r', label='ABSA' )\n",
    "ax[0].legend()\n",
    "\n",
    "ax[1].set_title(\"Sentiment score by Month\")\n",
    "ax[1].plot(Standard_df.groupby(\"Month\")[\"polarity\"].mean().index,Standard_df.groupby(\"Month\")[\"polarity\"].mean(), color ='b', label='Std Bank' )\n",
    "ax[1].plot(FNB_df.groupby(\"Month\")[\"polarity\"].mean().index,FNB_df.groupby(\"Month\")[\"polarity\"].mean(), color ='c', label='FNB')\n",
    "ax[1].plot(Nedbank_df.groupby(\"Month\")[\"polarity\"].mean().index,Nedbank_df.groupby(\"Month\")[\"polarity\"].mean(), color ='g', label='Nedbank' )\n",
    "ax[1].plot(ABSA_df.groupby(\"Month\")[\"polarity\"].mean().index,ABSA_df.groupby(\"Month\")[\"polarity\"].mean(), color ='r', label='ABSA' )\n",
    "ax[1].legend()\n",
    "\n",
    "plt.tight_layout()\n",
    "plt.show()"
   ]
  },
  {
   "cell_type": "code",
   "execution_count": null,
   "metadata": {},
   "outputs": [],
   "source": [
    "def create_day_plot(df,ax,colour,lab):\n",
    "    df[\"Day\"] = df.index.day_name()\n",
    "    x = df.groupby(\"Day\")[\"polarity\"].mean().index\n",
    "    y = df.groupby(\"Day\")[\"polarity\"].mean()\n",
    "    \n",
    "    return ax.plot(x,y, color =colour , label = lab)\n",
    "\n",
    "def create_month_plot(df,ax,colour,lab):\n",
    "    df[\"Month\"] = df.index.month_name()\n",
    "    x = df.groupby(\"Month\")[\"polarity\"].mean().index\n",
    "    y = df.groupby(\"Month\")[\"polarity\"].mean()\n",
    "    \n",
    "    return ax.plot(x,y, color =colour , label = lab)\n",
    "\n",
    "def create_hr_plot(df,ax,colour,lab):\n",
    "    df[\"Hour\"] = df.index.hour\n",
    "    x = df.groupby(\"Hour\")[\"polarity\"].mean().index\n",
    "    y = df.groupby(\"Hour\")[\"polarity\"].mean()\n",
    "\n",
    "    return ax.plot(x,y, color =colour , label = lab)"
   ]
  },
  {
   "cell_type": "code",
   "execution_count": null,
   "metadata": {},
   "outputs": [],
   "source": [
    "fig= plt.figure(figsize = (15,10))\n",
    "\n",
    "gs = fig.add_gridspec(2,2)\n",
    "ax1 = fig.add_subplot(gs[0, 0])\n",
    "ax2 = fig.add_subplot(gs[0, 1])\n",
    "ax3 = fig.add_subplot(gs[1, :])\n",
    "\n",
    "create_day_plot(Standard_df,ax1, \"b\",\"Std Bank\" )\n",
    "create_day_plot(Nedbank_df,ax1, \"g\",\"Nedbank\" )\n",
    "create_day_plot(ABSA_df,ax1, \"r\",\"ABSA\" )\n",
    "create_day_plot(FNB_df,ax1, \"c\",\"FNB\" )\n",
    "ax1.legend()\n",
    "ax1.set_title(\"Sentiment by Day of the week\")\n",
    "\n",
    "create_month_plot(Standard_df,ax2, \"b\",\"Std Bank\" )\n",
    "create_month_plot(Nedbank_df,ax2, \"g\",\"Nedbank\" )\n",
    "create_month_plot(ABSA_df,ax2, \"r\",\"ABSA\" )\n",
    "create_month_plot(FNB_df,ax2, \"c\",\"FNB\" )\n",
    "ax2.legend()\n",
    "ax2.set_title(\"Sentiment by Month\")\n",
    "\n",
    "create_hr_plot(Standard_df,ax3, \"b\",\"Std Bank\" )\n",
    "create_hr_plot(Nedbank_df,ax3, \"g\",\"Nedbank\" )\n",
    "create_hr_plot(ABSA_df,ax3, \"r\",\"ABSA\" )\n",
    "create_hr_plot(FNB_df,ax3, \"c\",\"FNB\" )\n",
    "ax3.legend()\n",
    "ax3.set_title(\"Sentiment by hour\")\n",
    "\n",
    "plt.tight_layout()\n",
    "plt.show()"
   ]
  },
  {
   "cell_type": "code",
   "execution_count": null,
   "metadata": {},
   "outputs": [],
   "source": [
    "Final_df.to_csv(\"Final.csv\")"
   ]
  },
  {
   "cell_type": "markdown",
   "metadata": {},
   "source": [
    "\n",
    "## Project 2: \n",
    "do outages affect sentiment \n",
    "get outages overlap to rolling mean"
   ]
  },
  {
   "cell_type": "code",
   "execution_count": null,
   "metadata": {},
   "outputs": [],
   "source": []
  }
 ],
 "metadata": {
  "kernelspec": {
   "display_name": "Python 3",
   "language": "python",
   "name": "python3"
  },
  "language_info": {
   "codemirror_mode": {
    "name": "ipython",
    "version": 3
   },
   "file_extension": ".py",
   "mimetype": "text/x-python",
   "name": "python",
   "nbconvert_exporter": "python",
   "pygments_lexer": "ipython3",
   "version": "3.8.5"
  }
 },
 "nbformat": 4,
 "nbformat_minor": 4
}
